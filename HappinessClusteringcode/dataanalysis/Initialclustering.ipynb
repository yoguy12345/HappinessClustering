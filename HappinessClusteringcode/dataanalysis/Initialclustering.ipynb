{
 "cells": [
  {
   "cell_type": "code",
   "execution_count": 107,
   "id": "d169c850",
   "metadata": {},
   "outputs": [
    {
     "data": {
      "text/html": [
       "<div>\n",
       "<style scoped>\n",
       "    .dataframe tbody tr th:only-of-type {\n",
       "        vertical-align: middle;\n",
       "    }\n",
       "\n",
       "    .dataframe tbody tr th {\n",
       "        vertical-align: top;\n",
       "    }\n",
       "\n",
       "    .dataframe thead th {\n",
       "        text-align: right;\n",
       "    }\n",
       "</style>\n",
       "<table border=\"1\" class=\"dataframe\">\n",
       "  <thead>\n",
       "    <tr style=\"text-align: right;\">\n",
       "      <th></th>\n",
       "      <th>RANK</th>\n",
       "      <th>Country</th>\n",
       "      <th>Happiness score</th>\n",
       "      <th>Whisker-high</th>\n",
       "      <th>Whisker-low</th>\n",
       "      <th>Dystopia (1.83) + residual</th>\n",
       "      <th>Explained by: GDP per capita</th>\n",
       "      <th>Explained by: Social support</th>\n",
       "      <th>Explained by: Healthy life expectancy</th>\n",
       "      <th>Explained by: Freedom to make life choices</th>\n",
       "      <th>Explained by: Generosity</th>\n",
       "      <th>Explained by: Perceptions of corruption</th>\n",
       "    </tr>\n",
       "  </thead>\n",
       "  <tbody>\n",
       "    <tr>\n",
       "      <th>0</th>\n",
       "      <td>1</td>\n",
       "      <td>Finland</td>\n",
       "      <td>7,821</td>\n",
       "      <td>7,886</td>\n",
       "      <td>7,756</td>\n",
       "      <td>2,518</td>\n",
       "      <td>1,892</td>\n",
       "      <td>1,258</td>\n",
       "      <td>0,775</td>\n",
       "      <td>0,736</td>\n",
       "      <td>0,109</td>\n",
       "      <td>0,534</td>\n",
       "    </tr>\n",
       "    <tr>\n",
       "      <th>1</th>\n",
       "      <td>2</td>\n",
       "      <td>Denmark</td>\n",
       "      <td>7,636</td>\n",
       "      <td>7,710</td>\n",
       "      <td>7,563</td>\n",
       "      <td>2,226</td>\n",
       "      <td>1,953</td>\n",
       "      <td>1,243</td>\n",
       "      <td>0,777</td>\n",
       "      <td>0,719</td>\n",
       "      <td>0,188</td>\n",
       "      <td>0,532</td>\n",
       "    </tr>\n",
       "    <tr>\n",
       "      <th>2</th>\n",
       "      <td>3</td>\n",
       "      <td>Iceland</td>\n",
       "      <td>7,557</td>\n",
       "      <td>7,651</td>\n",
       "      <td>7,464</td>\n",
       "      <td>2,320</td>\n",
       "      <td>1,936</td>\n",
       "      <td>1,320</td>\n",
       "      <td>0,803</td>\n",
       "      <td>0,718</td>\n",
       "      <td>0,270</td>\n",
       "      <td>0,191</td>\n",
       "    </tr>\n",
       "    <tr>\n",
       "      <th>3</th>\n",
       "      <td>4</td>\n",
       "      <td>Switzerland</td>\n",
       "      <td>7,512</td>\n",
       "      <td>7,586</td>\n",
       "      <td>7,437</td>\n",
       "      <td>2,153</td>\n",
       "      <td>2,026</td>\n",
       "      <td>1,226</td>\n",
       "      <td>0,822</td>\n",
       "      <td>0,677</td>\n",
       "      <td>0,147</td>\n",
       "      <td>0,461</td>\n",
       "    </tr>\n",
       "    <tr>\n",
       "      <th>4</th>\n",
       "      <td>5</td>\n",
       "      <td>Netherlands</td>\n",
       "      <td>7,415</td>\n",
       "      <td>7,471</td>\n",
       "      <td>7,359</td>\n",
       "      <td>2,137</td>\n",
       "      <td>1,945</td>\n",
       "      <td>1,206</td>\n",
       "      <td>0,787</td>\n",
       "      <td>0,651</td>\n",
       "      <td>0,271</td>\n",
       "      <td>0,419</td>\n",
       "    </tr>\n",
       "  </tbody>\n",
       "</table>\n",
       "</div>"
      ],
      "text/plain": [
       "   RANK      Country Happiness score Whisker-high Whisker-low  \\\n",
       "0     1      Finland           7,821        7,886       7,756   \n",
       "1     2      Denmark           7,636        7,710       7,563   \n",
       "2     3      Iceland           7,557        7,651       7,464   \n",
       "3     4  Switzerland           7,512        7,586       7,437   \n",
       "4     5  Netherlands           7,415        7,471       7,359   \n",
       "\n",
       "  Dystopia (1.83) + residual Explained by: GDP per capita  \\\n",
       "0                      2,518                        1,892   \n",
       "1                      2,226                        1,953   \n",
       "2                      2,320                        1,936   \n",
       "3                      2,153                        2,026   \n",
       "4                      2,137                        1,945   \n",
       "\n",
       "  Explained by: Social support Explained by: Healthy life expectancy  \\\n",
       "0                        1,258                                 0,775   \n",
       "1                        1,243                                 0,777   \n",
       "2                        1,320                                 0,803   \n",
       "3                        1,226                                 0,822   \n",
       "4                        1,206                                 0,787   \n",
       "\n",
       "  Explained by: Freedom to make life choices Explained by: Generosity  \\\n",
       "0                                      0,736                    0,109   \n",
       "1                                      0,719                    0,188   \n",
       "2                                      0,718                    0,270   \n",
       "3                                      0,677                    0,147   \n",
       "4                                      0,651                    0,271   \n",
       "\n",
       "  Explained by: Perceptions of corruption  \n",
       "0                                   0,534  \n",
       "1                                   0,532  \n",
       "2                                   0,191  \n",
       "3                                   0,461  \n",
       "4                                   0,419  "
      ]
     },
     "execution_count": 107,
     "metadata": {},
     "output_type": "execute_result"
    }
   ],
   "source": [
    "import pandas as pd\n",
    "from sklearn_extra.cluster import KMedoids\n",
    "from sklearn.cluster import KMeans, DBSCAN\n",
    "import numpy as np\n",
    "from sklearn.preprocessing import StandardScaler, MinMaxScaler\n",
    "import matplotlib.pyplot as plt\n",
    "import plotly.express as px\n",
    "import hdbscan\n",
    "from kneed import KneeLocator\n",
    "from sklearn.metrics import silhouette_score\n",
    "from sklearn.cluster import OPTICS\n",
    "\n",
    "\n",
    "df = pd.read_csv(r'2022.csv')\n",
    "df.head()"
   ]
  },
  {
   "cell_type": "code",
   "execution_count": 108,
   "id": "d5f4beba",
   "metadata": {},
   "outputs": [],
   "source": [
    "#!pip install kneed"
   ]
  },
  {
   "cell_type": "code",
   "execution_count": 109,
   "id": "d509c80a",
   "metadata": {},
   "outputs": [
    {
     "data": {
      "text/html": [
       "<div>\n",
       "<style scoped>\n",
       "    .dataframe tbody tr th:only-of-type {\n",
       "        vertical-align: middle;\n",
       "    }\n",
       "\n",
       "    .dataframe tbody tr th {\n",
       "        vertical-align: top;\n",
       "    }\n",
       "\n",
       "    .dataframe thead th {\n",
       "        text-align: right;\n",
       "    }\n",
       "</style>\n",
       "<table border=\"1\" class=\"dataframe\">\n",
       "  <thead>\n",
       "    <tr style=\"text-align: right;\">\n",
       "      <th></th>\n",
       "      <th>Happiness score</th>\n",
       "      <th>Dystopia (1.83) + residual</th>\n",
       "      <th>Explained by: GDP per capita</th>\n",
       "      <th>Explained by: Social support</th>\n",
       "      <th>Explained by: Healthy life expectancy</th>\n",
       "      <th>Explained by: Freedom to make life choices</th>\n",
       "      <th>Explained by: Generosity</th>\n",
       "      <th>Explained by: Perceptions of corruption</th>\n",
       "    </tr>\n",
       "  </thead>\n",
       "  <tbody>\n",
       "    <tr>\n",
       "      <th>0</th>\n",
       "      <td>7,821</td>\n",
       "      <td>2,518</td>\n",
       "      <td>1,892</td>\n",
       "      <td>1,258</td>\n",
       "      <td>0,775</td>\n",
       "      <td>0,736</td>\n",
       "      <td>0,109</td>\n",
       "      <td>0,534</td>\n",
       "    </tr>\n",
       "    <tr>\n",
       "      <th>1</th>\n",
       "      <td>7,636</td>\n",
       "      <td>2,226</td>\n",
       "      <td>1,953</td>\n",
       "      <td>1,243</td>\n",
       "      <td>0,777</td>\n",
       "      <td>0,719</td>\n",
       "      <td>0,188</td>\n",
       "      <td>0,532</td>\n",
       "    </tr>\n",
       "    <tr>\n",
       "      <th>2</th>\n",
       "      <td>7,557</td>\n",
       "      <td>2,320</td>\n",
       "      <td>1,936</td>\n",
       "      <td>1,320</td>\n",
       "      <td>0,803</td>\n",
       "      <td>0,718</td>\n",
       "      <td>0,270</td>\n",
       "      <td>0,191</td>\n",
       "    </tr>\n",
       "    <tr>\n",
       "      <th>3</th>\n",
       "      <td>7,512</td>\n",
       "      <td>2,153</td>\n",
       "      <td>2,026</td>\n",
       "      <td>1,226</td>\n",
       "      <td>0,822</td>\n",
       "      <td>0,677</td>\n",
       "      <td>0,147</td>\n",
       "      <td>0,461</td>\n",
       "    </tr>\n",
       "    <tr>\n",
       "      <th>4</th>\n",
       "      <td>7,415</td>\n",
       "      <td>2,137</td>\n",
       "      <td>1,945</td>\n",
       "      <td>1,206</td>\n",
       "      <td>0,787</td>\n",
       "      <td>0,651</td>\n",
       "      <td>0,271</td>\n",
       "      <td>0,419</td>\n",
       "    </tr>\n",
       "  </tbody>\n",
       "</table>\n",
       "</div>"
      ],
      "text/plain": [
       "  Happiness score Dystopia (1.83) + residual Explained by: GDP per capita  \\\n",
       "0           7,821                      2,518                        1,892   \n",
       "1           7,636                      2,226                        1,953   \n",
       "2           7,557                      2,320                        1,936   \n",
       "3           7,512                      2,153                        2,026   \n",
       "4           7,415                      2,137                        1,945   \n",
       "\n",
       "  Explained by: Social support Explained by: Healthy life expectancy  \\\n",
       "0                        1,258                                 0,775   \n",
       "1                        1,243                                 0,777   \n",
       "2                        1,320                                 0,803   \n",
       "3                        1,226                                 0,822   \n",
       "4                        1,206                                 0,787   \n",
       "\n",
       "  Explained by: Freedom to make life choices Explained by: Generosity  \\\n",
       "0                                      0,736                    0,109   \n",
       "1                                      0,719                    0,188   \n",
       "2                                      0,718                    0,270   \n",
       "3                                      0,677                    0,147   \n",
       "4                                      0,651                    0,271   \n",
       "\n",
       "  Explained by: Perceptions of corruption  \n",
       "0                                   0,534  \n",
       "1                                   0,532  \n",
       "2                                   0,191  \n",
       "3                                   0,461  \n",
       "4                                   0,419  "
      ]
     },
     "execution_count": 109,
     "metadata": {},
     "output_type": "execute_result"
    }
   ],
   "source": [
    "null_rows = df[df.isnull().any(axis=1)]\n",
    "df = df.drop(146)\n",
    "df = df.drop(['RANK', 'Country','Whisker-high','Whisker-low'], axis=1)\n",
    "df.head()"
   ]
  },
  {
   "cell_type": "code",
   "execution_count": 110,
   "id": "95d6b382",
   "metadata": {},
   "outputs": [],
   "source": [
    "df = df.replace(',', '', regex=True)\n",
    "scaler1 = StandardScaler()\n",
    "df = pd.DataFrame(scaler1.fit_transform(df), columns=df.columns)"
   ]
  },
  {
   "cell_type": "code",
   "execution_count": null,
   "id": "05a07f9b",
   "metadata": {},
   "outputs": [],
   "source": []
  },
  {
   "cell_type": "code",
   "execution_count": 56,
   "id": "c84d31d3",
   "metadata": {},
   "outputs": [
    {
     "name": "stderr",
     "output_type": "stream",
     "text": [
      "/Users/user/opt/anaconda3/envs/salesprediction/lib/python3.9/site-packages/sklearn/cluster/_kmeans.py:870: FutureWarning:\n",
      "\n",
      "The default value of `n_init` will change from 10 to 'auto' in 1.4. Set the value of `n_init` explicitly to suppress the warning\n",
      "\n",
      "/Users/user/opt/anaconda3/envs/salesprediction/lib/python3.9/site-packages/sklearn/cluster/_kmeans.py:870: FutureWarning:\n",
      "\n",
      "The default value of `n_init` will change from 10 to 'auto' in 1.4. Set the value of `n_init` explicitly to suppress the warning\n",
      "\n",
      "/Users/user/opt/anaconda3/envs/salesprediction/lib/python3.9/site-packages/sklearn/cluster/_kmeans.py:870: FutureWarning:\n",
      "\n",
      "The default value of `n_init` will change from 10 to 'auto' in 1.4. Set the value of `n_init` explicitly to suppress the warning\n",
      "\n",
      "/Users/user/opt/anaconda3/envs/salesprediction/lib/python3.9/site-packages/sklearn/cluster/_kmeans.py:870: FutureWarning:\n",
      "\n",
      "The default value of `n_init` will change from 10 to 'auto' in 1.4. Set the value of `n_init` explicitly to suppress the warning\n",
      "\n",
      "/Users/user/opt/anaconda3/envs/salesprediction/lib/python3.9/site-packages/sklearn/cluster/_kmeans.py:870: FutureWarning:\n",
      "\n",
      "The default value of `n_init` will change from 10 to 'auto' in 1.4. Set the value of `n_init` explicitly to suppress the warning\n",
      "\n",
      "/Users/user/opt/anaconda3/envs/salesprediction/lib/python3.9/site-packages/sklearn/cluster/_kmeans.py:870: FutureWarning:\n",
      "\n",
      "The default value of `n_init` will change from 10 to 'auto' in 1.4. Set the value of `n_init` explicitly to suppress the warning\n",
      "\n",
      "/Users/user/opt/anaconda3/envs/salesprediction/lib/python3.9/site-packages/sklearn/cluster/_kmeans.py:870: FutureWarning:\n",
      "\n",
      "The default value of `n_init` will change from 10 to 'auto' in 1.4. Set the value of `n_init` explicitly to suppress the warning\n",
      "\n",
      "/Users/user/opt/anaconda3/envs/salesprediction/lib/python3.9/site-packages/sklearn/cluster/_kmeans.py:870: FutureWarning:\n",
      "\n",
      "The default value of `n_init` will change from 10 to 'auto' in 1.4. Set the value of `n_init` explicitly to suppress the warning\n",
      "\n",
      "/Users/user/opt/anaconda3/envs/salesprediction/lib/python3.9/site-packages/sklearn/cluster/_kmeans.py:870: FutureWarning:\n",
      "\n",
      "The default value of `n_init` will change from 10 to 'auto' in 1.4. Set the value of `n_init` explicitly to suppress the warning\n",
      "\n",
      "/Users/user/opt/anaconda3/envs/salesprediction/lib/python3.9/site-packages/sklearn/cluster/_kmeans.py:870: FutureWarning:\n",
      "\n",
      "The default value of `n_init` will change from 10 to 'auto' in 1.4. Set the value of `n_init` explicitly to suppress the warning\n",
      "\n"
     ]
    },
    {
     "data": {
      "image/png": "[encoded data removed]",
      "text/plain": [
       "<Figure size 640x480 with 1 Axes>"
      ]
     },
     "metadata": {},
     "output_type": "display_data"
    },
    {
     "name": "stdout",
     "output_type": "stream",
     "text": [
      "The optimal value of k is 3.\n"
     ]
    }
   ],
   "source": [
    "sse = {}\n",
    "for k in range(1, 11):\n",
    "    kmeans = KMeans(n_clusters=k, random_state=0)\n",
    "    kmeans.fit(df)\n",
    "    sse[k] = kmeans.inertia_\n",
    "\n",
    "# use KneeLocator to find optimal k\n",
    "kl = KneeLocator(list(sse.keys()), list(sse.values()), curve='convex', direction='decreasing')\n",
    "optimal_k = kl.elbow\n",
    "\n",
    "# plot SSE vs. k with elbow point\n",
    "plt.figure()\n",
    "plt.plot(list(sse.keys()), list(sse.values()))\n",
    "plt.xlabel('Number of clusters, k')\n",
    "plt.ylabel('SSE')\n",
    "plt.vlines(optimal_k, ymin=min(sse.values()), ymax=max(sse.values()), linestyle='--')\n",
    "plt.show()\n",
    "\n",
    "print(f'The optimal value of k is {optimal_k}.')"
   ]
  },
  {
   "cell_type": "code",
   "execution_count": 57,
   "id": "69cc5507",
   "metadata": {},
   "outputs": [
    {
     "name": "stdout",
     "output_type": "stream",
     "text": [
      "Cluster Centers:\n",
      " [[ 1.3894885   0.12161811  1.29910342  0.97322836  1.12887489  0.95814218\n",
      "   0.51776587  1.90844409]\n",
      " [-1.02160861 -0.18065468 -1.01154469 -1.0221168  -1.0084081  -0.71352343\n",
      "   0.18430893 -0.26790841]\n",
      " [ 0.36103406  0.09784021  0.37849041  0.4754469   0.42285112  0.25553285\n",
      "  -0.275667   -0.32835255]]\n",
      "Cluster Labels:\n",
      " [0 0 0 0 0 0 0 0 2 0 0 0 0 0 0 2 0 2 2 0 2 2 2 0 2 2 0 2 2 2 2 2 2 2 2 0 2\n",
      " 2 2 2 2 2 2 2 2 2 2 2 2 2 2 2 2 2 2 2 2 2 2 2 2 2 2 2 2 2 2 2 2 2 2 2 2 2\n",
      " 2 2 2 2 2 2 0 2 2 1 2 2 1 1 2 2 2 2 1 1 1 1 1 2 1 1 1 1 1 1 2 1 1 1 1 1 1\n",
      " 2 1 1 1 1 1 1 1 1 1 1 1 1 1 1 2 1 1 1 1 1 1 1 1 1 1 1 1 1 1 1 1 1 1 1]\n"
     ]
    },
    {
     "name": "stderr",
     "output_type": "stream",
     "text": [
      "/Users/user/opt/anaconda3/envs/salesprediction/lib/python3.9/site-packages/sklearn/cluster/_kmeans.py:870: FutureWarning:\n",
      "\n",
      "The default value of `n_init` will change from 10 to 'auto' in 1.4. Set the value of `n_init` explicitly to suppress the warning\n",
      "\n"
     ]
    }
   ],
   "source": [
    "# perform k-means clustering with k=2\n",
    "kmeans = KMeans(n_clusters=3, random_state=0).fit(df)\n",
    "\n",
    "# print the cluster centers and labels\n",
    "print(\"Cluster Centers:\\n\", kmeans.cluster_centers_)\n",
    "print(\"Cluster Labels:\\n\", kmeans.labels_)"
   ]
  },
  {
   "cell_type": "code",
   "execution_count": null,
   "id": "d1ac49fd",
   "metadata": {},
   "outputs": [],
   "source": []
  },
  {
   "cell_type": "code",
   "execution_count": 58,
   "id": "742a85ae",
   "metadata": {},
   "outputs": [
    {
     "data": {
      "image/png": "[encoded data removed]",
      "text/plain": [
       "<Figure size 640x480 with 1 Axes>"
      ]
     },
     "metadata": {},
     "output_type": "display_data"
    },
    {
     "name": "stdout",
     "output_type": "stream",
     "text": [
      "The optimal value of k is 4.\n"
     ]
    }
   ],
   "source": [
    "sse = {}\n",
    "for k in range(1, 11):\n",
    "    kmedoids = KMedoids(n_clusters=k, random_state=0)\n",
    "    kmedoids.fit(df)\n",
    "    sse[k] = kmedoids.inertia_\n",
    "\n",
    "# use KneeLocator to find optimal k\n",
    "kl = KneeLocator(list(sse.keys()), list(sse.values()), curve='convex', direction='decreasing')\n",
    "optimal_k = kl.elbow\n",
    "\n",
    "# plot SSE vs. k with elbow point\n",
    "plt.figure()\n",
    "plt.plot(list(sse.keys()), list(sse.values()))\n",
    "plt.xlabel('Number of clusters, k')\n",
    "plt.ylabel('SSE')\n",
    "plt.vlines(optimal_k, ymin=min(sse.values()), ymax=max(sse.values()), linestyle='--')\n",
    "plt.show()\n",
    "\n",
    "print(f'The optimal value of k is {optimal_k}.')"
   ]
  },
  {
   "cell_type": "code",
   "execution_count": 59,
   "id": "b8ae2f86",
   "metadata": {},
   "outputs": [
    {
     "name": "stdout",
     "output_type": "stream",
     "text": [
      "Cluster Centers:\n",
      " [[-0.00607078 -0.39914594  0.38683575  0.41960434  0.41443229 -0.39368929\n",
      "  -0.14999406 -0.61207675]\n",
      " [ 0.47771942  0.25731873  0.4296708   0.75274594 -0.10340345  0.49377259\n",
      "  -0.19847028 -0.37599924]\n",
      " [-0.95795567  0.20292595 -0.86014028 -1.76551799 -1.20736096 -0.47624388\n",
      "   0.40748247 -0.33665299]\n",
      " [ 1.35851301  0.17291613  1.13168975  1.01066201  1.12005461  0.97534106\n",
      "   0.84376845  1.67787506]]\n",
      "Cluster Labels:\n",
      " [3 3 3 3 3 3 3 3 1 3 3 3 3 3 3 1 3 1 1 3 1 1 1 3 1 1 3 1 1 1 0 1 1 1 1 3 1\n",
      " 1 1 1 0 1 1 0 1 1 1 0 1 1 0 1 1 0 1 1 1 0 0 1 0 1 1 1 0 0 0 0 1 1 1 1 1 0\n",
      " 0 0 1 1 0 0 0 0 1 2 0 0 0 2 0 0 0 1 2 2 2 0 2 0 2 2 2 2 2 2 0 0 2 2 2 0 2\n",
      " 0 2 2 2 2 2 2 2 0 2 0 2 0 2 2 0 2 0 2 2 2 0 0 2 2 2 2 2 2 2 0 2 2 2 2]\n"
     ]
    }
   ],
   "source": [
    "# perform k-means clustering with k=2\n",
    "kmedoids = KMedoids(n_clusters=4, random_state=0).fit(df)\n",
    "\n",
    "# print the cluster centers and labels\n",
    "print(\"Cluster Centers:\\n\", kmedoids.cluster_centers_)\n",
    "print(\"Cluster Labels:\\n\", kmedoids.labels_)"
   ]
  },
  {
   "cell_type": "code",
   "execution_count": null,
   "id": "85a3d0a7",
   "metadata": {},
   "outputs": [],
   "source": []
  },
  {
   "cell_type": "code",
   "execution_count": 84,
   "id": "99dbd411",
   "metadata": {},
   "outputs": [
    {
     "name": "stdout",
     "output_type": "stream",
     "text": [
      "-0.2835715482170741\n",
      "{'eps': 3.3777777777777778, 'min_samples': 2}\n",
      "-0.21771345463589117\n",
      "{'eps': 0.7555555555555555, 'min_samples': 2}\n",
      "-0.16097369785139884\n",
      "{'eps': 0.7555555555555555, 'min_samples': 3}\n",
      "-0.12268545500969462\n",
      "{'eps': 0.7555555555555555, 'min_samples': 4}\n",
      "-0.07801398664926663\n",
      "{'eps': 1.4111111111111112, 'min_samples': 2}\n",
      "0.11831799399501328\n",
      "{'eps': 1.4111111111111112, 'min_samples': 3}\n",
      "0.10578092544825865\n",
      "{'eps': 1.4111111111111112, 'min_samples': 4}\n",
      "0.13226989296413244\n",
      "{'eps': 1.4111111111111112, 'min_samples': 4}\n",
      "0.12242140903194215\n",
      "{'eps': 1.4111111111111112, 'min_samples': 6}\n",
      "0.12157496122188736\n",
      "{'eps': 1.4111111111111112, 'min_samples': 6}\n",
      "0.11789919927259418\n",
      "{'eps': 1.4111111111111112, 'min_samples': 6}\n",
      "0.2554605478117242\n",
      "{'eps': 1.4111111111111112, 'min_samples': 6}\n",
      "0.31431707250631163\n",
      "{'eps': 2.066666666666667, 'min_samples': 2}\n",
      "0.31431707250631163\n",
      "{'eps': 2.066666666666667, 'min_samples': 3}\n",
      "0.31431707250631163\n",
      "{'eps': 2.066666666666667, 'min_samples': 3}\n",
      "0.2999846478841453\n",
      "{'eps': 2.066666666666667, 'min_samples': 3}\n",
      "0.2999846478841453\n",
      "{'eps': 2.066666666666667, 'min_samples': 3}\n",
      "0.28867852038016156\n",
      "{'eps': 2.066666666666667, 'min_samples': 3}\n",
      "0.28867852038016156\n",
      "{'eps': 2.066666666666667, 'min_samples': 3}\n",
      "0.39137948258050237\n",
      "{'eps': 2.066666666666667, 'min_samples': 3}\n",
      "0.39137948258050237\n",
      "{'eps': 2.7222222222222223, 'min_samples': 2}\n",
      "0.39137948258050237\n",
      "{'eps': 2.7222222222222223, 'min_samples': 2}\n",
      "0.39137948258050237\n",
      "{'eps': 2.7222222222222223, 'min_samples': 2}\n",
      "0.39137948258050237\n",
      "{'eps': 2.7222222222222223, 'min_samples': 2}\n",
      "0.39137948258050237\n",
      "{'eps': 2.7222222222222223, 'min_samples': 2}\n",
      "0.39137948258050237\n",
      "{'eps': 2.7222222222222223, 'min_samples': 2}\n",
      "0.39137948258050237\n",
      "{'eps': 2.7222222222222223, 'min_samples': 2}\n",
      "0.4105250908330205\n",
      "{'eps': 2.7222222222222223, 'min_samples': 2}\n",
      "0.4105250908330205\n",
      "{'eps': 3.3777777777777778, 'min_samples': 2}\n",
      "0.4105250908330205\n",
      "{'eps': 3.3777777777777778, 'min_samples': 2}\n",
      "0.4105250908330205\n",
      "{'eps': 3.3777777777777778, 'min_samples': 2}\n",
      "0.4105250908330205\n",
      "{'eps': 3.3777777777777778, 'min_samples': 2}\n",
      "0.4105250908330205\n",
      "{'eps': 3.3777777777777778, 'min_samples': 2}\n",
      "0.4105250908330205\n",
      "{'eps': 3.3777777777777778, 'min_samples': 2}\n",
      "0.4105250908330205\n",
      "{'eps': 3.3777777777777778, 'min_samples': 2}\n",
      "Best parameters: {'eps': 3.3777777777777778, 'min_samples': 2}\n"
     ]
    }
   ],
   "source": [
    "# define parameter ranges\n",
    "eps_range = np.linspace(0.1, 6.0, num=10)\n",
    "min_samples_range = range(2,10)\n",
    "\n",
    "# perform grid search\n",
    "best_score = -1\n",
    "for eps in eps_range:\n",
    "    for min_samples in min_samples_range:\n",
    "        dbscan = DBSCAN(eps=eps, min_samples=min_samples)\n",
    "        dbscan.fit(df)\n",
    "        if len(set(dbscan.labels_)) > 1 and len(set(dbscan.labels_)) <145:\n",
    "            score = silhouette_score(df, dbscan.labels_)\n",
    "            #print(score)\n",
    "            #print(best_params)\n",
    "            if score > best_score:\n",
    "                best_score = score\n",
    "                best_params = {'eps': eps, 'min_samples': min_samples}\n",
    "\n",
    "# print best parameters\n",
    "print('Best parameters:', best_params)"
   ]
  },
  {
   "cell_type": "code",
   "execution_count": 101,
   "id": "8628e458",
   "metadata": {},
   "outputs": [
    {
     "name": "stdout",
     "output_type": "stream",
     "text": [
      "Cluster Labels:\n",
      " [-1  0 -1  0  0  0  0  0 -1  0  0  0  0  0  0 -1  0 -1  1 -1 -1  2 -1 -1\n",
      " -1  1 -1  1  1 -1  1 -1  2  1  1 -1  1  1 -1  1  1  1 -1  1 -1  1  1  1\n",
      " -1 -1  1  1 -1 -1 -1 -1  1 -1 -1  1 -1  1  1 -1 -1  1 -1 -1 -1 -1  1 -1\n",
      " -1  1  3  1 -1 -1 -1  3 -1 -1 -1 -1 -1 -1 -1  4  5 -1 -1 -1 -1 -1 -1 -1\n",
      " -1  5  4 -1  6  7 -1  6 -1 -1 -1 -1  7 -1 -1 -1  7 -1 -1 -1 -1 -1 -1 -1\n",
      " -1  8 -1 -1 -1 -1 -1 -1  9 -1 -1 -1  8  9 -1 -1 -1 -1 -1 -1 -1 -1 -1 -1\n",
      " -1 -1]\n"
     ]
    },
    {
     "data": {
      "text/plain": [
       "146"
      ]
     },
     "execution_count": 101,
     "metadata": {},
     "output_type": "execute_result"
    }
   ],
   "source": [
    "# perform k-means clustering with k=2\n",
    "dbscans = DBSCAN(eps=1, min_samples=2).fit(df)\n",
    "\n",
    "# print labels\n",
    "print(\"Cluster Labels:\\n\", dbscans.labels_)\n",
    "len(df)"
   ]
  },
  {
   "cell_type": "code",
   "execution_count": 102,
   "id": "b56b9140",
   "metadata": {},
   "outputs": [
    {
     "name": "stdout",
     "output_type": "stream",
     "text": [
      "Cluster Labels:\n",
      " [-1  2 -1  2  2  2  2  2 -1  2  2  2  2  2  2 -1  2  1  1  1  1  1  1 -1\n",
      "  1  1 -1  1  1  1  1 -1  1  1  1 -1  1  1  1  1  1  1  1  1 -1  1  1  1\n",
      " -1  1  1  1 -1 -1 -1 -1  1 -1  1  1 -1  1  1 -1 -1  1 -1 -1  1  1  1  1\n",
      "  1  1  1  1  1 -1 -1  1 -1  1 -1 -1  1  1 -1  0  1 -1 -1 -1 -1 -1 -1 -1\n",
      "  0  1  0 -1 -1  0  0  0 -1 -1 -1 -1  0 -1  0 -1  0 -1 -1  0  0  0 -1 -1\n",
      "  0 -1  0 -1 -1 -1 -1  0 -1  0 -1 -1 -1 -1  0 -1 -1 -1 -1 -1 -1 -1 -1 -1\n",
      " -1 -1]\n"
     ]
    }
   ],
   "source": [
    "hdbscanclusterer = hdbscan.HDBSCAN()\n",
    "hdbscanclusterer.fit(df)\n",
    "\n",
    "# print labels\n",
    "print(\"Cluster Labels:\\n\", hdbscanclusterer.labels_)"
   ]
  },
  {
   "cell_type": "code",
   "execution_count": null,
   "id": "3aa3fd25",
   "metadata": {},
   "outputs": [],
   "source": []
  },
  {
   "cell_type": "code",
   "execution_count": 144,
   "id": "8bf8e323",
   "metadata": {},
   "outputs": [
    {
     "name": "stdout",
     "output_type": "stream",
     "text": [
      "1\n",
      "2\n",
      "3\n",
      "4\n",
      "5\n"
     ]
    },
    {
     "data": {
      "image/png": "[encoded data removed]",
      "text/plain": [
       "<Figure size 640x480 with 1 Axes>"
      ]
     },
     "metadata": {},
     "output_type": "display_data"
    },
    {
     "name": "stdout",
     "output_type": "stream",
     "text": [
      "Best hyperparameters: [5.   0.01 0.09]\n",
      "Best silhouette score: 0.23985985556782216\n"
     ]
    }
   ],
   "source": [
    "# Define a grid of hyperparameters to test\n",
    "min_samples_range = range(1, 6)\n",
    "xi_range = np.linspace(0.01, 0.1, 10)\n",
    "min_cluster_size_range = np.linspace(0.01, 0.1, 10)\n",
    "\n",
    "# Initialize lists to store the metric scores and hyperparameters\n",
    "silhouette_scores = []\n",
    "params = []\n",
    "\n",
    "# Loop over all combinations of hyperparameters\n",
    "for min_samples in min_samples_range:\n",
    "    print(min_samples)\n",
    "    for xi in xi_range:\n",
    "        #print(\"xi is: \", xi)\n",
    "        for min_cluster_size in min_cluster_size_range:\n",
    "            #print(\"min_cluster_size is: \", min_cluster_size)\n",
    "            # Create OPTICS object\n",
    "            optics = OPTICS(min_samples=min_samples, xi=xi, min_cluster_size=min_cluster_size)\n",
    "            # Fit the model\n",
    "            optics.fit(df)\n",
    "            # Get cluster labels\n",
    "            labels = optics.labels_\n",
    "            # Compute the silhouette score\n",
    "            if (len(set(labels)) > 1 and len(set(labels)) <145):\n",
    "                score = silhouette_score(df, labels)\n",
    "                # Store the score and hyperparameters\n",
    "                silhouette_scores.append(score)\n",
    "                params.append((min_samples, xi, min_cluster_size))\n",
    "\n",
    "# Convert the lists to numpy arrays\n",
    "silhouette_scores = np.array(silhouette_scores)\n",
    "params = np.array(params)\n",
    "\n",
    "# Find the hyperparameters that give the best silhouette score\n",
    "best_params = params[np.argmax(silhouette_scores)]\n",
    "best_score = np.max(silhouette_scores)\n",
    "\n",
    "# Plot the results\n",
    "fig, ax = plt.subplots()\n",
    "ax.scatter(params[:, 0], params[:, 1], c=silhouette_scores)\n",
    "ax.set_xlabel('min_samples')\n",
    "ax.set_ylabel('xi')\n",
    "#ax.set_zlabel('min_cluster_size')\n",
    "plt.show()\n",
    "\n",
    "print('Best hyperparameters:', best_params)\n",
    "print('Best silhouette score:', best_score)"
   ]
  },
  {
   "cell_type": "code",
   "execution_count": 145,
   "id": "61da9755",
   "metadata": {},
   "outputs": [
    {
     "name": "stdout",
     "output_type": "stream",
     "text": [
      "Number of clusters: 4\n"
     ]
    }
   ],
   "source": [
    "# Create OPTICS object\n",
    "optics = OPTICS(min_samples=5, xi=0.01, min_cluster_size=0.09)\n",
    "\n",
    "# Fit the model\n",
    "optics.fit(df)\n",
    "\n",
    "# Get cluster labels\n",
    "labels = optics.labels_\n",
    "\n",
    "# Print the number of clusters found\n",
    "n_clusters = len(set(labels)) - (1 if -1 in labels else 0)\n",
    "print('Number of clusters:', n_clusters)\n"
   ]
  },
  {
   "cell_type": "code",
   "execution_count": null,
   "id": "1b4aad8d",
   "metadata": {},
   "outputs": [],
   "source": []
  },
  {
   "cell_type": "code",
   "execution_count": null,
   "id": "782cf084",
   "metadata": {},
   "outputs": [],
   "source": []
  },
  {
   "cell_type": "code",
   "execution_count": 146,
   "id": "8c88fc1e",
   "metadata": {},
   "outputs": [
    {
     "data": {
      "image/png": "[encoded data removed]",
      "text/plain": [
       "<Figure size 640x480 with 1 Axes>"
      ]
     },
     "metadata": {},
     "output_type": "display_data"
    }
   ],
   "source": [
    "#X = np.random.rand(146, 2)\n",
    "col1 = 0\n",
    "col2 = 6\n",
    "plt.scatter(df.iloc[:, col1], df.iloc[:, col2], c=kmeans.labels_)\n",
    "plt.title('KMeans Clustering')\n",
    "plt.xlabel(df.columns[col1])\n",
    "plt.ylabel(df.columns[col2])\n",
    "plt.show()"
   ]
  },
  {
   "cell_type": "code",
   "execution_count": 147,
   "id": "d8b3d0b9",
   "metadata": {},
   "outputs": [
    {
     "data": {
      "image/png": "[encoded data removed]",
      "text/plain": [
       "<Figure size 640x480 with 1 Axes>"
      ]
     },
     "metadata": {},
     "output_type": "display_data"
    }
   ],
   "source": [
    "#X = np.random.rand(146, 2)\n",
    "col1 = 0\n",
    "col2 = 6\n",
    "plt.scatter(df.iloc[:, col1], df.iloc[:, col2], c=kmedoids.labels_)\n",
    "plt.title('KMedoids Clustering')\n",
    "plt.xlabel(df.columns[col1])\n",
    "plt.ylabel(df.columns[col2])\n",
    "plt.show()"
   ]
  },
  {
   "cell_type": "code",
   "execution_count": 148,
   "id": "b2536bb6",
   "metadata": {},
   "outputs": [
    {
     "data": {
      "image/png": "[encoded data removed]",
      "text/plain": [
       "<Figure size 640x480 with 1 Axes>"
      ]
     },
     "metadata": {},
     "output_type": "display_data"
    }
   ],
   "source": [
    "#X = np.random.rand(146, 2)\n",
    "col1 = 0\n",
    "col2 = 6\n",
    "plt.scatter(df.iloc[:, col1], df.iloc[:, col2], c=dbscans.labels_)\n",
    "plt.title('dbscan Clustering')\n",
    "plt.xlabel(df.columns[col1])\n",
    "plt.ylabel(df.columns[col2])\n",
    "plt.show()"
   ]
  },
  {
   "cell_type": "code",
   "execution_count": 149,
   "id": "05668844",
   "metadata": {},
   "outputs": [
    {
     "data": {
      "image/png": "[encoded data removed]",
      "text/plain": [
       "<Figure size 640x480 with 1 Axes>"
      ]
     },
     "metadata": {},
     "output_type": "display_data"
    }
   ],
   "source": [
    "#X = np.random.rand(146, 2)\n",
    "col1 = 0\n",
    "col2 = 6\n",
    "plt.scatter(df.iloc[:, col1], df.iloc[:, col2], c=hdbscanclusterer.labels_)\n",
    "plt.title('hdbscan Clustering')\n",
    "plt.xlabel(df.columns[col1])\n",
    "plt.ylabel(df.columns[col2])\n",
    "plt.show()"
   ]
  },
  {
   "cell_type": "code",
   "execution_count": 150,
   "id": "3dce4907",
   "metadata": {},
   "outputs": [
    {
     "data": {
      "image/png": "[encoded data removed]",
      "text/plain": [
       "<Figure size 640x480 with 1 Axes>"
      ]
     },
     "metadata": {},
     "output_type": "display_data"
    }
   ],
   "source": [
    "#X = np.random.rand(146, 2)\n",
    "col1 = 0\n",
    "col2 = 6\n",
    "plt.scatter(df.iloc[:, col1], df.iloc[:, col2], c=optics.labels_)\n",
    "plt.title('optics Clustering')\n",
    "plt.xlabel(df.columns[col1])\n",
    "plt.ylabel(df.columns[col2])\n",
    "plt.show()"
   ]
  },
  {
   "cell_type": "code",
   "execution_count": null,
   "id": "4ea9ea38",
   "metadata": {},
   "outputs": [],
   "source": []
  },
  {
   "cell_type": "code",
   "execution_count": null,
   "id": "cf587169",
   "metadata": {},
   "outputs": [],
   "source": []
  },
  {
   "cell_type": "code",
   "execution_count": 45,
   "id": "75648fdf",
   "metadata": {},
   "outputs": [
    {
     "data": {
      "application/vnd.plotly.v1+json": {
       "config": {
        "plotlyServerURL": "https://plot.ly"
       },
       "data": [
        {
         "hovertemplate": "Happiness score=%{x}<br>Explained by: GDP per capita=%{y}<br>Explained by: Social support=%{z}<br>cluster=%{marker.color}<extra></extra>",
         "legendgroup": "",
         "marker": {
          "color": [
           1,
           1,
           1,
           1,
           1,
           1,
           1,
           1,
           0,
           1,
           1,
           1,
           1,
           1,
           1,
           0,
           1,
           0,
           0,
           1,
           0,
           0,
           0,
           1,
           0,
           0,
           1,
           0,
           0,
           0,
           0,
           0,
           0,
           0,
           0,
           1,
           0,
           0,
           0,
           0,
           0,
           0,
           0,
           0,
           0,
           0,
           0,
           0,
           0,
           0,
           0,
           0,
           0,
           0,
           0,
           0,
           0,
           0,
           0,
           0,
           0,
           0,
           0,
           0,
           0,
           0,
           0,
           0,
           0,
           0,
           0,
           0,
           0,
           0,
           0,
           0,
           0,
           0,
           0,
           0,
           1,
           0,
           0,
           3,
           0,
           0,
           0,
           3,
           0,
           0,
           0,
           2,
           3,
           0,
           0,
           2,
           3,
           0,
           3,
           3,
           3,
           3,
           3,
           3,
           2,
           2,
           3,
           3,
           3,
           2,
           3,
           2,
           3,
           2,
           3,
           3,
           3,
           3,
           3,
           2,
           3,
           2,
           3,
           2,
           2,
           2,
           2,
           3,
           2,
           3,
           2,
           2,
           2,
           2,
           3,
           2,
           2,
           3,
           2,
           3,
           2,
           2,
           2,
           2,
           2,
           3
          ],
          "coloraxis": "coloraxis",
          "symbol": "circle"
         },
         "mode": "markers",
         "name": "",
         "scene": "scene",
         "showlegend": false,
         "type": "scatter3d",
         "x": [
          2.093430929058579,
          1.9226271404568456,
          1.8496893064052946,
          1.8081424389075758,
          1.718585857856937,
          1.7084299569130503,
          1.6899646824696197,
          1.6724226717483606,
          1.671499408026189,
          1.5200841575900579,
          1.4859233998697112,
          1.4850001361475396,
          1.3732852257647843,
          1.3668223797095835,
          1.35851300621004,
          1.3141963475458063,
          1.2828053809919742,
          1.261570315382029,
          1.1553949873323028,
          1.046449868116062,
          1.009519319229201,
          0.9938238359522849,
          0.9495071772880513,
          0.9439675949550221,
          0.895034617679931,
          0.8848787167360441,
          0.8553342776265551,
          0.8525644864600405,
          0.851641222737869,
          0.8497946952935259,
          0.8433318492383252,
          0.8322526845722668,
          0.8248665747948946,
          0.823943311072723,
          0.7731638063532887,
          0.7270006202447122,
          0.6974561811352232,
          0.6826839615804787,
          0.6540627861931612,
          0.6282114019723584,
          0.6162089735841284,
          0.5783551609750957,
          0.5765086335307525,
          0.5709690511977233,
          0.5645062051425227,
          0.5303454474221759,
          0.5275756562556614,
          0.5257291288113183,
          0.5229593376448037,
          0.5100336455344023,
          0.4915683710909717,
          0.47771941525839867,
          0.4703333054810264,
          0.44817497614890967,
          0.4324794928719936,
          0.42693991053896446,
          0.3816999881525594,
          0.3641579774313003,
          0.3521555490430704,
          0.3235343736557529,
          0.311531945267523,
          0.2801409787136909,
          0.2736781326584902,
          0.2533663307707165,
          0.2469034847155158,
          0.2099729358286545,
          0.1979705074404246,
          0.19150766138522388,
          0.16934933205310712,
          0.14534447527664732,
          0.042862202115607304,
          0.029013246283034328,
          0.022550400227833608,
          0.005008389506574508,
          -0.006070775159483871,
          -0.01899646726988531,
          -0.06331312593411884,
          -0.07346902687800567,
          -0.0799318729332064,
          -0.08731798271057865,
          -0.11870894926441072,
          -0.14271380604087056,
          -0.16302560792864423,
          -0.16302560792864423,
          -0.16856519026167344,
          -0.20641900287070622,
          -0.28951273786614407,
          -0.2941290564770017,
          -0.3273665504751769,
          -0.3273665504751769,
          -0.3319828690860345,
          -0.3513714072516367,
          -0.3596807807511805,
          -0.36799015425072423,
          -0.38183911008329724,
          -0.3984578570823848,
          -0.3984578570823848,
          -0.433541878524903,
          -0.44185125202444675,
          -0.45570020785701976,
          -0.4667793725230781,
          -0.4667793725230781,
          -0.4686258999674212,
          -0.5083262400207971,
          -0.536024151685943,
          -0.5498731075185159,
          -0.565568590795432,
          -0.5803408103501765,
          -0.6117317769040086,
          -0.6145015680705231,
          -0.6292737876252676,
          -0.7474515440632238,
          -0.8157730595039171,
          -0.843470971169063,
          -0.859166454445979,
          -0.8720921465563805,
          -0.8776317288894097,
          -0.9247181787201578,
          -0.9330275522197016,
          -0.9579556727183329,
          -0.9579556727183329,
          -0.9884233755499935,
          -0.9921164304386796,
          -1.0105817048821102,
          -1.0687473193789168,
          -1.0705938468232599,
          -1.1001382859327489,
          -1.121373351542694,
          -1.1684598013734422,
          -1.2026205590937888,
          -1.2118531963155041,
          -1.2524768000910516,
          -1.293100403866599,
          -1.2940236675887704,
          -1.3309542164756316,
          -1.6402475634030949,
          -1.655943046680011,
          -1.6651756839017262,
          -1.7094923425659596,
          -1.8276700990039156,
          -1.8849124497785505,
          -1.9227662623875834,
          -2.110188797988404,
          -2.3622397941412325,
          -2.3991703430280937,
          -2.9078886539446076
         ],
         "y": [
          1.1459681005347757,
          1.291131340373806,
          1.2506760112383386,
          1.46485128313199,
          1.2720935384277037,
          1.900341002649081,
          1.2126004073461338,
          1.395839251077369,
          0.9889062344794313,
          1.050779090804264,
          1.2387773850220245,
          1.165005902480878,
          1.7099629831880576,
          1.222119308319185,
          1.131689749075199,
          1.360143372428427,
          1.0864749694532059,
          0.9627292568035406,
          1.1816639791837176,
          1.0769560684801547,
          1.0555385412907896,
          0.9508306305872266,
          0.4130127256098353,
          1.3982189763206316,
          1.0936141451829942,
          1.1578667267510896,
          1.7575574880533136,
          0.7342756334503124,
          0.946071180100701,
          0.48678420815098195,
          1.0079440364255337,
          -0.11528627839450478,
          1.0174629373985848,
          0.9365522791276498,
          0.7747309625857799,
          0.9103753014517592,
          0.7247567324772612,
          0.12268624593177455,
          -0.32470209980163056,
          0.61290964604391,
          0.9627292568035406,
          0.7652120616127287,
          0.33210206733890035,
          0.5724543169084425,
          -0.7268756659130426,
          0.33686151782542595,
          0.7009594800446333,
          0.8270849179375613,
          -0.34611962699099574,
          1.174524803453929,
          0.8032876655049335,
          0.4296708023126749,
          -0.45558698818108423,
          1.0103237616687963,
          -0.7125973144534659,
          0.8318443684240869,
          0.43205052755593765,
          0.6962000295581078,
          1.048399365561001,
          -0.33898045126120735,
          0.29640618868995844,
          0.01559860998494885,
          -0.2723481444498491,
          -0.8125457746705033,
          0.3606587702580539,
          0.09888899349914662,
          0.1369645973913513,
          -0.04151479585335819,
          0.30354536441974683,
          0.6628838761524286,
          -0.36753715418036087,
          0.23215360712186303,
          -0.003439191961153496,
          -0.03199589488030702,
          0.3868357479339446,
          -0.1390835308271327,
          -0.37705605515341206,
          0.175040201283556,
          0.9627292568035406,
          0.6533649751793774,
          1.3006502413468572,
          0.056053939120416334,
          -1.057657474726571,
          -1.0148224203478406,
          0.5105814605836099,
          0.15600239933745366,
          -0.06769177352924892,
          -0.7530526435889334,
          0.22501443139207467,
          0.0679525653367303,
          0.03463641193105119,
          0.11316734495872337,
          -1.4883877437571364,
          -0.8339633018598683,
          -0.4079924833158283,
          -0.11290655315124198,
          -1.8429668050032928,
          0.0013202585253720906,
          -1.0957330786187756,
          -0.48176396585697495,
          -1.9809908691125346,
          -1.0528980242400454,
          -1.136188407754243,
          -2.000028671058637,
          0.1345848721480885,
          0.11554707020198617,
          -0.2890062211526887,
          -3.3564720597184294,
          -1.3384650534315805,
          -0.0010594667178907028,
          -0.7102175892102031,
          0.7057189305311589,
          -1.5026660952167132,
          -0.9315320368336428,
          -1.138568132997506,
          -1.2170990660251781,
          -1.5074255457032388,
          -0.7887485222378753,
          -0.9005956086712266,
          -0.1438429813136583,
          -0.8601402795357591,
          -0.6245474804527426,
          -1.471729667054297,
          -0.2818670454229003,
          -0.32470209980163056,
          -0.8863172572116498,
          0.010839159498423264,
          -1.7620561467323577,
          -0.05341342206967215,
          -1.78109394867846,
          -1.4812485680273482,
          -1.712081916623839,
          -0.7387742921293566,
          -0.2057158376384909,
          -1.5217038971628156,
          -0.5793327008307495,
          -1.1433275834840315,
          -1.8144101020841392,
          -1.3384650534315805,
          -1.7239805428401531,
          -1.3598825806209456,
          0.22025498090554907,
          -1.4883877437571364,
          -1.102872254348564,
          -0.04389452109662098,
          -1.5526403253252319
         ],
         "z": [
          1.2614137574219553,
          1.2076812411075912,
          1.483508158187993,
          1.1467843892846454,
          1.0751410341988268,
          0.8924504787299892,
          1.0679766986902448,
          1.1933525700904275,
          1.1288735505131906,
          1.1790238990732638,
          0.9282721562728985,
          1.064394530935954,
          0.9318543240271894,
          0.6524452391924966,
          1.0106620146215899,
          0.9891690080958443,
          0.849464465678498,
          1.268578092930537,
          0.7169242587697334,
          1.1217092150046089,
          0.4410973416893316,
          1.2291742476333367,
          0.5306515355466049,
          0.26557112172907593,
          0.6667739102096604,
          0.6775204134725332,
          0.7921497816098431,
          0.3587074833406402,
          1.0930518729702814,
          0.9820046725872624,
          0.5234872000380231,
          0.154523921346057,
          0.9426008272900622,
          1.0679766986902448,
          1.168277395810391,
          1.168277395810391,
          0.7205064265240244,
          0.4948298580036956,
          -0.26817187366027306,
          1.1252913827588997,
          0.011237211174419691,
          1.1288735505131906,
          0.6452809036839148,
          0.6237878971581692,
          0.4410973416893316,
          -0.07115264717427176,
          0.9927511758501353,
          0.9605116660615168,
          -0.4938484421806018,
          0.27631762499194873,
          1.1718595635646818,
          0.7527459363126427,
          0.6667739102096604,
          0.6560274069467876,
          -0.0747348149285627,
          0.6166235616495873,
          0.7025955877525697,
          0.26557112172907593,
          -0.07115264717427176,
          0.02198371443729249,
          0.6811025812268241,
          0.36587181884922204,
          0.49841202575798654,
          0.7276707620326063,
          0.899614814238571,
          0.08288056626023835,
          0.580801884106678,
          1.0429015244102082,
          0.3479609800777674,
          0.11512007604885674,
          -0.09264565370001736,
          0.1867634311346754,
          0.8028962848727158,
          -0.14637817001438136,
          0.41960433516358603,
          -0.09622782145430829,
          0.09362706952311114,
          1.479925990433702,
          -0.0639883116656899,
          0.6775204134725332,
          0.17243476011751166,
          -0.3075757189574733,
          0.35512531558634924,
          -0.4365337581119469,
          0.9211078207643166,
          0.1330309148203114,
          -0.08189915043714456,
          -1.6616351300794459,
          -0.15354250552296322,
          -0.9308729082040956,
          0.6524452391924966,
          0.6703560779639514,
          -1.0204271020613689,
          -1.0455022763414055,
          -0.9022155661697682,
          0.22974944418616658,
          -0.8449008821011132,
          0.6273700649124601,
          -1.7941753369882103,
          -2.284932319326068,
          -0.8807225596440226,
          -0.8377365465925314,
          -1.3464043677018438,
          -1.2389393350731157,
          -1.0526666118499872,
          -0.6013134748093298,
          -0.8019148690496221,
          0.22258510867758471,
          -1.2174463285473702,
          -0.590566971546457,
          -1.1135634636729332,
          -0.14637817001438136,
          -1.221028496301661,
          -0.6228064813350754,
          -3.015694541201418,
          -1.5398414264335543,
          -0.11055649247147202,
          -0.6228064813350754,
          -1.0777417861300238,
          -1.1099812959186421,
          -1.7655179949538828,
          0.18318126338038446,
          -1.5147662521535177,
          -0.10339215696289016,
          -0.429369422603365,
          -0.27533620916885493,
          0.10079140503169301,
          -0.9344550759583865,
          -0.6228064813350754,
          -1.4323763938048262,
          -0.3469795642546736,
          0.4912476902494047,
          -0.14637817001438136,
          -0.6514638233694029,
          -2.0914952605943578,
          -1.8980582018626475,
          -1.17804248325017,
          -2.245528474028868,
          -1.1063991281643513,
          -1.7547714916910102,
          -0.2072750218373272,
          -0.325486557728928,
          -2.768524966155344,
          -0.7732575270152946,
          -1.4610337358391536,
          -3.244953277476038
         ]
        }
       ],
       "layout": {
        "coloraxis": {
         "colorbar": {
          "title": {
           "text": "cluster"
          }
         },
         "colorscale": [
          [
           0,
           "#0d0887"
          ],
          [
           0.1111111111111111,
           "#46039f"
          ],
          [
           0.2222222222222222,
           "#7201a8"
          ],
          [
           0.3333333333333333,
           "#9c179e"
          ],
          [
           0.4444444444444444,
           "#bd3786"
          ],
          [
           0.5555555555555556,
           "#d8576b"
          ],
          [
           0.6666666666666666,
           "#ed7953"
          ],
          [
           0.7777777777777778,
           "#fb9f3a"
          ],
          [
           0.8888888888888888,
           "#fdca26"
          ],
          [
           1,
           "#f0f921"
          ]
         ]
        },
        "legend": {
         "tracegroupgap": 0
        },
        "margin": {
         "t": 60
        },
        "scene": {
         "domain": {
          "x": [
           0,
           1
          ],
          "y": [
           0,
           1
          ]
         },
         "xaxis": {
          "title": {
           "text": "Happiness score"
          }
         },
         "yaxis": {
          "title": {
           "text": "Explained by: GDP per capita"
          }
         },
         "zaxis": {
          "title": {
           "text": "Explained by: Social support"
          }
         }
        },
        "template": {
         "data": {
          "bar": [
           {
            "error_x": {
             "color": "#2a3f5f"
            },
            "error_y": {
             "color": "#2a3f5f"
            },
            "marker": {
             "line": {
              "color": "#E5ECF6",
              "width": 0.5
             },
             "pattern": {
              "fillmode": "overlay",
              "size": 10,
              "solidity": 0.2
             }
            },
            "type": "bar"
           }
          ],
          "barpolar": [
           {
            "marker": {
             "line": {
              "color": "#E5ECF6",
              "width": 0.5
             },
             "pattern": {
              "fillmode": "overlay",
              "size": 10,
              "solidity": 0.2
             }
            },
            "type": "barpolar"
           }
          ],
          "carpet": [
           {
            "aaxis": {
             "endlinecolor": "#2a3f5f",
             "gridcolor": "white",
             "linecolor": "white",
             "minorgridcolor": "white",
             "startlinecolor": "#2a3f5f"
            },
            "baxis": {
             "endlinecolor": "#2a3f5f",
             "gridcolor": "white",
             "linecolor": "white",
             "minorgridcolor": "white",
             "startlinecolor": "#2a3f5f"
            },
            "type": "carpet"
           }
          ],
          "choropleth": [
           {
            "colorbar": {
             "outlinewidth": 0,
             "ticks": ""
            },
            "type": "choropleth"
           }
          ],
          "contour": [
           {
            "colorbar": {
             "outlinewidth": 0,
             "ticks": ""
            },
            "colorscale": [
             [
              0,
              "#0d0887"
             ],
             [
              0.1111111111111111,
              "#46039f"
             ],
             [
              0.2222222222222222,
              "#7201a8"
             ],
             [
              0.3333333333333333,
              "#9c179e"
             ],
             [
              0.4444444444444444,
              "#bd3786"
             ],
             [
              0.5555555555555556,
              "#d8576b"
             ],
             [
              0.6666666666666666,
              "#ed7953"
             ],
             [
              0.7777777777777778,
              "#fb9f3a"
             ],
             [
              0.8888888888888888,
              "#fdca26"
             ],
             [
              1,
              "#f0f921"
             ]
            ],
            "type": "contour"
           }
          ],
          "contourcarpet": [
           {
            "colorbar": {
             "outlinewidth": 0,
             "ticks": ""
            },
            "type": "contourcarpet"
           }
          ],
          "heatmap": [
           {
            "colorbar": {
             "outlinewidth": 0,
             "ticks": ""
            },
            "colorscale": [
             [
              0,
              "#0d0887"
             ],
             [
              0.1111111111111111,
              "#46039f"
             ],
             [
              0.2222222222222222,
              "#7201a8"
             ],
             [
              0.3333333333333333,
              "#9c179e"
             ],
             [
              0.4444444444444444,
              "#bd3786"
             ],
             [
              0.5555555555555556,
              "#d8576b"
             ],
             [
              0.6666666666666666,
              "#ed7953"
             ],
             [
              0.7777777777777778,
              "#fb9f3a"
             ],
             [
              0.8888888888888888,
              "#fdca26"
             ],
             [
              1,
              "#f0f921"
             ]
            ],
            "type": "heatmap"
           }
          ],
          "heatmapgl": [
           {
            "colorbar": {
             "outlinewidth": 0,
             "ticks": ""
            },
            "colorscale": [
             [
              0,
              "#0d0887"
             ],
             [
              0.1111111111111111,
              "#46039f"
             ],
             [
              0.2222222222222222,
              "#7201a8"
             ],
             [
              0.3333333333333333,
              "#9c179e"
             ],
             [
              0.4444444444444444,
              "#bd3786"
             ],
             [
              0.5555555555555556,
              "#d8576b"
             ],
             [
              0.6666666666666666,
              "#ed7953"
             ],
             [
              0.7777777777777778,
              "#fb9f3a"
             ],
             [
              0.8888888888888888,
              "#fdca26"
             ],
             [
              1,
              "#f0f921"
             ]
            ],
            "type": "heatmapgl"
           }
          ],
          "histogram": [
           {
            "marker": {
             "pattern": {
              "fillmode": "overlay",
              "size": 10,
              "solidity": 0.2
             }
            },
            "type": "histogram"
           }
          ],
          "histogram2d": [
           {
            "colorbar": {
             "outlinewidth": 0,
             "ticks": ""
            },
            "colorscale": [
             [
              0,
              "#0d0887"
             ],
             [
              0.1111111111111111,
              "#46039f"
             ],
             [
              0.2222222222222222,
              "#7201a8"
             ],
             [
              0.3333333333333333,
              "#9c179e"
             ],
             [
              0.4444444444444444,
              "#bd3786"
             ],
             [
              0.5555555555555556,
              "#d8576b"
             ],
             [
              0.6666666666666666,
              "#ed7953"
             ],
             [
              0.7777777777777778,
              "#fb9f3a"
             ],
             [
              0.8888888888888888,
              "#fdca26"
             ],
             [
              1,
              "#f0f921"
             ]
            ],
            "type": "histogram2d"
           }
          ],
          "histogram2dcontour": [
           {
            "colorbar": {
             "outlinewidth": 0,
             "ticks": ""
            },
            "colorscale": [
             [
              0,
              "#0d0887"
             ],
             [
              0.1111111111111111,
              "#46039f"
             ],
             [
              0.2222222222222222,
              "#7201a8"
             ],
             [
              0.3333333333333333,
              "#9c179e"
             ],
             [
              0.4444444444444444,
              "#bd3786"
             ],
             [
              0.5555555555555556,
              "#d8576b"
             ],
             [
              0.6666666666666666,
              "#ed7953"
             ],
             [
              0.7777777777777778,
              "#fb9f3a"
             ],
             [
              0.8888888888888888,
              "#fdca26"
             ],
             [
              1,
              "#f0f921"
             ]
            ],
            "type": "histogram2dcontour"
           }
          ],
          "mesh3d": [
           {
            "colorbar": {
             "outlinewidth": 0,
             "ticks": ""
            },
            "type": "mesh3d"
           }
          ],
          "parcoords": [
           {
            "line": {
             "colorbar": {
              "outlinewidth": 0,
              "ticks": ""
             }
            },
            "type": "parcoords"
           }
          ],
          "pie": [
           {
            "automargin": true,
            "type": "pie"
           }
          ],
          "scatter": [
           {
            "fillpattern": {
             "fillmode": "overlay",
             "size": 10,
             "solidity": 0.2
            },
            "type": "scatter"
           }
          ],
          "scatter3d": [
           {
            "line": {
             "colorbar": {
              "outlinewidth": 0,
              "ticks": ""
             }
            },
            "marker": {
             "colorbar": {
              "outlinewidth": 0,
              "ticks": ""
             }
            },
            "type": "scatter3d"
           }
          ],
          "scattercarpet": [
           {
            "marker": {
             "colorbar": {
              "outlinewidth": 0,
              "ticks": ""
             }
            },
            "type": "scattercarpet"
           }
          ],
          "scattergeo": [
           {
            "marker": {
             "colorbar": {
              "outlinewidth": 0,
              "ticks": ""
             }
            },
            "type": "scattergeo"
           }
          ],
          "scattergl": [
           {
            "marker": {
             "colorbar": {
              "outlinewidth": 0,
              "ticks": ""
             }
            },
            "type": "scattergl"
           }
          ],
          "scattermapbox": [
           {
            "marker": {
             "colorbar": {
              "outlinewidth": 0,
              "ticks": ""
             }
            },
            "type": "scattermapbox"
           }
          ],
          "scatterpolar": [
           {
            "marker": {
             "colorbar": {
              "outlinewidth": 0,
              "ticks": ""
             }
            },
            "type": "scatterpolar"
           }
          ],
          "scatterpolargl": [
           {
            "marker": {
             "colorbar": {
              "outlinewidth": 0,
              "ticks": ""
             }
            },
            "type": "scatterpolargl"
           }
          ],
          "scatterternary": [
           {
            "marker": {
             "colorbar": {
              "outlinewidth": 0,
              "ticks": ""
             }
            },
            "type": "scatterternary"
           }
          ],
          "surface": [
           {
            "colorbar": {
             "outlinewidth": 0,
             "ticks": ""
            },
            "colorscale": [
             [
              0,
              "#0d0887"
             ],
             [
              0.1111111111111111,
              "#46039f"
             ],
             [
              0.2222222222222222,
              "#7201a8"
             ],
             [
              0.3333333333333333,
              "#9c179e"
             ],
             [
              0.4444444444444444,
              "#bd3786"
             ],
             [
              0.5555555555555556,
              "#d8576b"
             ],
             [
              0.6666666666666666,
              "#ed7953"
             ],
             [
              0.7777777777777778,
              "#fb9f3a"
             ],
             [
              0.8888888888888888,
              "#fdca26"
             ],
             [
              1,
              "#f0f921"
             ]
            ],
            "type": "surface"
           }
          ],
          "table": [
           {
            "cells": {
             "fill": {
              "color": "#EBF0F8"
             },
             "line": {
              "color": "white"
             }
            },
            "header": {
             "fill": {
              "color": "#C8D4E3"
             },
             "line": {
              "color": "white"
             }
            },
            "type": "table"
           }
          ]
         },
         "layout": {
          "annotationdefaults": {
           "arrowcolor": "#2a3f5f",
           "arrowhead": 0,
           "arrowwidth": 1
          },
          "autotypenumbers": "strict",
          "coloraxis": {
           "colorbar": {
            "outlinewidth": 0,
            "ticks": ""
           }
          },
          "colorscale": {
           "diverging": [
            [
             0,
             "#8e0152"
            ],
            [
             0.1,
             "#c51b7d"
            ],
            [
             0.2,
             "#de77ae"
            ],
            [
             0.3,
             "#f1b6da"
            ],
            [
             0.4,
             "#fde0ef"
            ],
            [
             0.5,
             "#f7f7f7"
            ],
            [
             0.6,
             "#e6f5d0"
            ],
            [
             0.7,
             "#b8e186"
            ],
            [
             0.8,
             "#7fbc41"
            ],
            [
             0.9,
             "#4d9221"
            ],
            [
             1,
             "#276419"
            ]
           ],
           "sequential": [
            [
             0,
             "#0d0887"
            ],
            [
             0.1111111111111111,
             "#46039f"
            ],
            [
             0.2222222222222222,
             "#7201a8"
            ],
            [
             0.3333333333333333,
             "#9c179e"
            ],
            [
             0.4444444444444444,
             "#bd3786"
            ],
            [
             0.5555555555555556,
             "#d8576b"
            ],
            [
             0.6666666666666666,
             "#ed7953"
            ],
            [
             0.7777777777777778,
             "#fb9f3a"
            ],
            [
             0.8888888888888888,
             "#fdca26"
            ],
            [
             1,
             "#f0f921"
            ]
           ],
           "sequentialminus": [
            [
             0,
             "#0d0887"
            ],
            [
             0.1111111111111111,
             "#46039f"
            ],
            [
             0.2222222222222222,
             "#7201a8"
            ],
            [
             0.3333333333333333,
             "#9c179e"
            ],
            [
             0.4444444444444444,
             "#bd3786"
            ],
            [
             0.5555555555555556,
             "#d8576b"
            ],
            [
             0.6666666666666666,
             "#ed7953"
            ],
            [
             0.7777777777777778,
             "#fb9f3a"
            ],
            [
             0.8888888888888888,
             "#fdca26"
            ],
            [
             1,
             "#f0f921"
            ]
           ]
          },
          "colorway": [
           "#636efa",
           "#EF553B",
           "#00cc96",
           "#ab63fa",
           "#FFA15A",
           "#19d3f3",
           "#FF6692",
           "#B6E880",
           "#FF97FF",
           "#FECB52"
          ],
          "font": {
           "color": "#2a3f5f"
          },
          "geo": {
           "bgcolor": "white",
           "lakecolor": "white",
           "landcolor": "#E5ECF6",
           "showlakes": true,
           "showland": true,
           "subunitcolor": "white"
          },
          "hoverlabel": {
           "align": "left"
          },
          "hovermode": "closest",
          "mapbox": {
           "style": "light"
          },
          "paper_bgcolor": "white",
          "plot_bgcolor": "#E5ECF6",
          "polar": {
           "angularaxis": {
            "gridcolor": "white",
            "linecolor": "white",
            "ticks": ""
           },
           "bgcolor": "#E5ECF6",
           "radialaxis": {
            "gridcolor": "white",
            "linecolor": "white",
            "ticks": ""
           }
          },
          "scene": {
           "xaxis": {
            "backgroundcolor": "#E5ECF6",
            "gridcolor": "white",
            "gridwidth": 2,
            "linecolor": "white",
            "showbackground": true,
            "ticks": "",
            "zerolinecolor": "white"
           },
           "yaxis": {
            "backgroundcolor": "#E5ECF6",
            "gridcolor": "white",
            "gridwidth": 2,
            "linecolor": "white",
            "showbackground": true,
            "ticks": "",
            "zerolinecolor": "white"
           },
           "zaxis": {
            "backgroundcolor": "#E5ECF6",
            "gridcolor": "white",
            "gridwidth": 2,
            "linecolor": "white",
            "showbackground": true,
            "ticks": "",
            "zerolinecolor": "white"
           }
          },
          "shapedefaults": {
           "line": {
            "color": "#2a3f5f"
           }
          },
          "ternary": {
           "aaxis": {
            "gridcolor": "white",
            "linecolor": "white",
            "ticks": ""
           },
           "baxis": {
            "gridcolor": "white",
            "linecolor": "white",
            "ticks": ""
           },
           "bgcolor": "#E5ECF6",
           "caxis": {
            "gridcolor": "white",
            "linecolor": "white",
            "ticks": ""
           }
          },
          "title": {
           "x": 0.05
          },
          "xaxis": {
           "automargin": true,
           "gridcolor": "white",
           "linecolor": "white",
           "ticks": "",
           "title": {
            "standoff": 15
           },
           "zerolinecolor": "white",
           "zerolinewidth": 2
          },
          "yaxis": {
           "automargin": true,
           "gridcolor": "white",
           "linecolor": "white",
           "ticks": "",
           "title": {
            "standoff": 15
           },
           "zerolinecolor": "white",
           "zerolinewidth": 2
          }
         }
        }
       }
      },
      "text/html": [
       "<div>                            <div id=\"1286c9a9-86c7-4ded-91f7-5ecc4ad0dc9a\" class=\"plotly-graph-div\" style=\"height:525px; width:100%;\"></div>            <script type=\"text/javascript\">                require([\"plotly\"], function(Plotly) {                    window.PLOTLYENV=window.PLOTLYENV || {};                                    if (document.getElementById(\"1286c9a9-86c7-4ded-91f7-5ecc4ad0dc9a\")) {                    Plotly.newPlot(                        \"1286c9a9-86c7-4ded-91f7-5ecc4ad0dc9a\",                        [{\"hovertemplate\":\"Happiness score=%{x}<br>Explained by: GDP per capita=%{y}<br>Explained by: Social support=%{z}<br>cluster=%{marker.color}<extra></extra>\",\"legendgroup\":\"\",\"marker\":{\"color\":[1,1,1,1,1,1,1,1,0,1,1,1,1,1,1,0,1,0,0,1,0,0,0,1,0,0,1,0,0,0,0,0,0,0,0,1,0,0,0,0,0,0,0,0,0,0,0,0,0,0,0,0,0,0,0,0,0,0,0,0,0,0,0,0,0,0,0,0,0,0,0,0,0,0,0,0,0,0,0,0,1,0,0,3,0,0,0,3,0,0,0,2,3,0,0,2,3,0,3,3,3,3,3,3,2,2,3,3,3,2,3,2,3,2,3,3,3,3,3,2,3,2,3,2,2,2,2,3,2,3,2,2,2,2,3,2,2,3,2,3,2,2,2,2,2,3],\"coloraxis\":\"coloraxis\",\"symbol\":\"circle\"},\"mode\":\"markers\",\"name\":\"\",\"scene\":\"scene\",\"showlegend\":false,\"x\":[2.093430929058579,1.9226271404568456,1.8496893064052946,1.8081424389075758,1.718585857856937,1.7084299569130503,1.6899646824696197,1.6724226717483606,1.671499408026189,1.5200841575900579,1.4859233998697112,1.4850001361475396,1.3732852257647843,1.3668223797095835,1.35851300621004,1.3141963475458063,1.2828053809919742,1.261570315382029,1.1553949873323028,1.046449868116062,1.009519319229201,0.9938238359522849,0.9495071772880513,0.9439675949550221,0.895034617679931,0.8848787167360441,0.8553342776265551,0.8525644864600405,0.851641222737869,0.8497946952935259,0.8433318492383252,0.8322526845722668,0.8248665747948946,0.823943311072723,0.7731638063532887,0.7270006202447122,0.6974561811352232,0.6826839615804787,0.6540627861931612,0.6282114019723584,0.6162089735841284,0.5783551609750957,0.5765086335307525,0.5709690511977233,0.5645062051425227,0.5303454474221759,0.5275756562556614,0.5257291288113183,0.5229593376448037,0.5100336455344023,0.4915683710909717,0.47771941525839867,0.4703333054810264,0.44817497614890967,0.4324794928719936,0.42693991053896446,0.3816999881525594,0.3641579774313003,0.3521555490430704,0.3235343736557529,0.311531945267523,0.2801409787136909,0.2736781326584902,0.2533663307707165,0.2469034847155158,0.2099729358286545,0.1979705074404246,0.19150766138522388,0.16934933205310712,0.14534447527664732,0.042862202115607304,0.029013246283034328,0.022550400227833608,0.005008389506574508,-0.006070775159483871,-0.01899646726988531,-0.06331312593411884,-0.07346902687800567,-0.0799318729332064,-0.08731798271057865,-0.11870894926441072,-0.14271380604087056,-0.16302560792864423,-0.16302560792864423,-0.16856519026167344,-0.20641900287070622,-0.28951273786614407,-0.2941290564770017,-0.3273665504751769,-0.3273665504751769,-0.3319828690860345,-0.3513714072516367,-0.3596807807511805,-0.36799015425072423,-0.38183911008329724,-0.3984578570823848,-0.3984578570823848,-0.433541878524903,-0.44185125202444675,-0.45570020785701976,-0.4667793725230781,-0.4667793725230781,-0.4686258999674212,-0.5083262400207971,-0.536024151685943,-0.5498731075185159,-0.565568590795432,-0.5803408103501765,-0.6117317769040086,-0.6145015680705231,-0.6292737876252676,-0.7474515440632238,-0.8157730595039171,-0.843470971169063,-0.859166454445979,-0.8720921465563805,-0.8776317288894097,-0.9247181787201578,-0.9330275522197016,-0.9579556727183329,-0.9579556727183329,-0.9884233755499935,-0.9921164304386796,-1.0105817048821102,-1.0687473193789168,-1.0705938468232599,-1.1001382859327489,-1.121373351542694,-1.1684598013734422,-1.2026205590937888,-1.2118531963155041,-1.2524768000910516,-1.293100403866599,-1.2940236675887704,-1.3309542164756316,-1.6402475634030949,-1.655943046680011,-1.6651756839017262,-1.7094923425659596,-1.8276700990039156,-1.8849124497785505,-1.9227662623875834,-2.110188797988404,-2.3622397941412325,-2.3991703430280937,-2.9078886539446076],\"y\":[1.1459681005347757,1.291131340373806,1.2506760112383386,1.46485128313199,1.2720935384277037,1.900341002649081,1.2126004073461338,1.395839251077369,0.9889062344794313,1.050779090804264,1.2387773850220245,1.165005902480878,1.7099629831880576,1.222119308319185,1.131689749075199,1.360143372428427,1.0864749694532059,0.9627292568035406,1.1816639791837176,1.0769560684801547,1.0555385412907896,0.9508306305872266,0.4130127256098353,1.3982189763206316,1.0936141451829942,1.1578667267510896,1.7575574880533136,0.7342756334503124,0.946071180100701,0.48678420815098195,1.0079440364255337,-0.11528627839450478,1.0174629373985848,0.9365522791276498,0.7747309625857799,0.9103753014517592,0.7247567324772612,0.12268624593177455,-0.32470209980163056,0.61290964604391,0.9627292568035406,0.7652120616127287,0.33210206733890035,0.5724543169084425,-0.7268756659130426,0.33686151782542595,0.7009594800446333,0.8270849179375613,-0.34611962699099574,1.174524803453929,0.8032876655049335,0.4296708023126749,-0.45558698818108423,1.0103237616687963,-0.7125973144534659,0.8318443684240869,0.43205052755593765,0.6962000295581078,1.048399365561001,-0.33898045126120735,0.29640618868995844,0.01559860998494885,-0.2723481444498491,-0.8125457746705033,0.3606587702580539,0.09888899349914662,0.1369645973913513,-0.04151479585335819,0.30354536441974683,0.6628838761524286,-0.36753715418036087,0.23215360712186303,-0.003439191961153496,-0.03199589488030702,0.3868357479339446,-0.1390835308271327,-0.37705605515341206,0.175040201283556,0.9627292568035406,0.6533649751793774,1.3006502413468572,0.056053939120416334,-1.057657474726571,-1.0148224203478406,0.5105814605836099,0.15600239933745366,-0.06769177352924892,-0.7530526435889334,0.22501443139207467,0.0679525653367303,0.03463641193105119,0.11316734495872337,-1.4883877437571364,-0.8339633018598683,-0.4079924833158283,-0.11290655315124198,-1.8429668050032928,0.0013202585253720906,-1.0957330786187756,-0.48176396585697495,-1.9809908691125346,-1.0528980242400454,-1.136188407754243,-2.000028671058637,0.1345848721480885,0.11554707020198617,-0.2890062211526887,-3.3564720597184294,-1.3384650534315805,-0.0010594667178907028,-0.7102175892102031,0.7057189305311589,-1.5026660952167132,-0.9315320368336428,-1.138568132997506,-1.2170990660251781,-1.5074255457032388,-0.7887485222378753,-0.9005956086712266,-0.1438429813136583,-0.8601402795357591,-0.6245474804527426,-1.471729667054297,-0.2818670454229003,-0.32470209980163056,-0.8863172572116498,0.010839159498423264,-1.7620561467323577,-0.05341342206967215,-1.78109394867846,-1.4812485680273482,-1.712081916623839,-0.7387742921293566,-0.2057158376384909,-1.5217038971628156,-0.5793327008307495,-1.1433275834840315,-1.8144101020841392,-1.3384650534315805,-1.7239805428401531,-1.3598825806209456,0.22025498090554907,-1.4883877437571364,-1.102872254348564,-0.04389452109662098,-1.5526403253252319],\"z\":[1.2614137574219553,1.2076812411075912,1.483508158187993,1.1467843892846454,1.0751410341988268,0.8924504787299892,1.0679766986902448,1.1933525700904275,1.1288735505131906,1.1790238990732638,0.9282721562728985,1.064394530935954,0.9318543240271894,0.6524452391924966,1.0106620146215899,0.9891690080958443,0.849464465678498,1.268578092930537,0.7169242587697334,1.1217092150046089,0.4410973416893316,1.2291742476333367,0.5306515355466049,0.26557112172907593,0.6667739102096604,0.6775204134725332,0.7921497816098431,0.3587074833406402,1.0930518729702814,0.9820046725872624,0.5234872000380231,0.154523921346057,0.9426008272900622,1.0679766986902448,1.168277395810391,1.168277395810391,0.7205064265240244,0.4948298580036956,-0.26817187366027306,1.1252913827588997,0.011237211174419691,1.1288735505131906,0.6452809036839148,0.6237878971581692,0.4410973416893316,-0.07115264717427176,0.9927511758501353,0.9605116660615168,-0.4938484421806018,0.27631762499194873,1.1718595635646818,0.7527459363126427,0.6667739102096604,0.6560274069467876,-0.0747348149285627,0.6166235616495873,0.7025955877525697,0.26557112172907593,-0.07115264717427176,0.02198371443729249,0.6811025812268241,0.36587181884922204,0.49841202575798654,0.7276707620326063,0.899614814238571,0.08288056626023835,0.580801884106678,1.0429015244102082,0.3479609800777674,0.11512007604885674,-0.09264565370001736,0.1867634311346754,0.8028962848727158,-0.14637817001438136,0.41960433516358603,-0.09622782145430829,0.09362706952311114,1.479925990433702,-0.0639883116656899,0.6775204134725332,0.17243476011751166,-0.3075757189574733,0.35512531558634924,-0.4365337581119469,0.9211078207643166,0.1330309148203114,-0.08189915043714456,-1.6616351300794459,-0.15354250552296322,-0.9308729082040956,0.6524452391924966,0.6703560779639514,-1.0204271020613689,-1.0455022763414055,-0.9022155661697682,0.22974944418616658,-0.8449008821011132,0.6273700649124601,-1.7941753369882103,-2.284932319326068,-0.8807225596440226,-0.8377365465925314,-1.3464043677018438,-1.2389393350731157,-1.0526666118499872,-0.6013134748093298,-0.8019148690496221,0.22258510867758471,-1.2174463285473702,-0.590566971546457,-1.1135634636729332,-0.14637817001438136,-1.221028496301661,-0.6228064813350754,-3.015694541201418,-1.5398414264335543,-0.11055649247147202,-0.6228064813350754,-1.0777417861300238,-1.1099812959186421,-1.7655179949538828,0.18318126338038446,-1.5147662521535177,-0.10339215696289016,-0.429369422603365,-0.27533620916885493,0.10079140503169301,-0.9344550759583865,-0.6228064813350754,-1.4323763938048262,-0.3469795642546736,0.4912476902494047,-0.14637817001438136,-0.6514638233694029,-2.0914952605943578,-1.8980582018626475,-1.17804248325017,-2.245528474028868,-1.1063991281643513,-1.7547714916910102,-0.2072750218373272,-0.325486557728928,-2.768524966155344,-0.7732575270152946,-1.4610337358391536,-3.244953277476038],\"type\":\"scatter3d\"}],                        {\"template\":{\"data\":{\"histogram2dcontour\":[{\"type\":\"histogram2dcontour\",\"colorbar\":{\"outlinewidth\":0,\"ticks\":\"\"},\"colorscale\":[[0.0,\"#0d0887\"],[0.1111111111111111,\"#46039f\"],[0.2222222222222222,\"#7201a8\"],[0.3333333333333333,\"#9c179e\"],[0.4444444444444444,\"#bd3786\"],[0.5555555555555556,\"#d8576b\"],[0.6666666666666666,\"#ed7953\"],[0.7777777777777778,\"#fb9f3a\"],[0.8888888888888888,\"#fdca26\"],[1.0,\"#f0f921\"]]}],\"choropleth\":[{\"type\":\"choropleth\",\"colorbar\":{\"outlinewidth\":0,\"ticks\":\"\"}}],\"histogram2d\":[{\"type\":\"histogram2d\",\"colorbar\":{\"outlinewidth\":0,\"ticks\":\"\"},\"colorscale\":[[0.0,\"#0d0887\"],[0.1111111111111111,\"#46039f\"],[0.2222222222222222,\"#7201a8\"],[0.3333333333333333,\"#9c179e\"],[0.4444444444444444,\"#bd3786\"],[0.5555555555555556,\"#d8576b\"],[0.6666666666666666,\"#ed7953\"],[0.7777777777777778,\"#fb9f3a\"],[0.8888888888888888,\"#fdca26\"],[1.0,\"#f0f921\"]]}],\"heatmap\":[{\"type\":\"heatmap\",\"colorbar\":{\"outlinewidth\":0,\"ticks\":\"\"},\"colorscale\":[[0.0,\"#0d0887\"],[0.1111111111111111,\"#46039f\"],[0.2222222222222222,\"#7201a8\"],[0.3333333333333333,\"#9c179e\"],[0.4444444444444444,\"#bd3786\"],[0.5555555555555556,\"#d8576b\"],[0.6666666666666666,\"#ed7953\"],[0.7777777777777778,\"#fb9f3a\"],[0.8888888888888888,\"#fdca26\"],[1.0,\"#f0f921\"]]}],\"heatmapgl\":[{\"type\":\"heatmapgl\",\"colorbar\":{\"outlinewidth\":0,\"ticks\":\"\"},\"colorscale\":[[0.0,\"#0d0887\"],[0.1111111111111111,\"#46039f\"],[0.2222222222222222,\"#7201a8\"],[0.3333333333333333,\"#9c179e\"],[0.4444444444444444,\"#bd3786\"],[0.5555555555555556,\"#d8576b\"],[0.6666666666666666,\"#ed7953\"],[0.7777777777777778,\"#fb9f3a\"],[0.8888888888888888,\"#fdca26\"],[1.0,\"#f0f921\"]]}],\"contourcarpet\":[{\"type\":\"contourcarpet\",\"colorbar\":{\"outlinewidth\":0,\"ticks\":\"\"}}],\"contour\":[{\"type\":\"contour\",\"colorbar\":{\"outlinewidth\":0,\"ticks\":\"\"},\"colorscale\":[[0.0,\"#0d0887\"],[0.1111111111111111,\"#46039f\"],[0.2222222222222222,\"#7201a8\"],[0.3333333333333333,\"#9c179e\"],[0.4444444444444444,\"#bd3786\"],[0.5555555555555556,\"#d8576b\"],[0.6666666666666666,\"#ed7953\"],[0.7777777777777778,\"#fb9f3a\"],[0.8888888888888888,\"#fdca26\"],[1.0,\"#f0f921\"]]}],\"surface\":[{\"type\":\"surface\",\"colorbar\":{\"outlinewidth\":0,\"ticks\":\"\"},\"colorscale\":[[0.0,\"#0d0887\"],[0.1111111111111111,\"#46039f\"],[0.2222222222222222,\"#7201a8\"],[0.3333333333333333,\"#9c179e\"],[0.4444444444444444,\"#bd3786\"],[0.5555555555555556,\"#d8576b\"],[0.6666666666666666,\"#ed7953\"],[0.7777777777777778,\"#fb9f3a\"],[0.8888888888888888,\"#fdca26\"],[1.0,\"#f0f921\"]]}],\"mesh3d\":[{\"type\":\"mesh3d\",\"colorbar\":{\"outlinewidth\":0,\"ticks\":\"\"}}],\"scatter\":[{\"fillpattern\":{\"fillmode\":\"overlay\",\"size\":10,\"solidity\":0.2},\"type\":\"scatter\"}],\"parcoords\":[{\"type\":\"parcoords\",\"line\":{\"colorbar\":{\"outlinewidth\":0,\"ticks\":\"\"}}}],\"scatterpolargl\":[{\"type\":\"scatterpolargl\",\"marker\":{\"colorbar\":{\"outlinewidth\":0,\"ticks\":\"\"}}}],\"bar\":[{\"error_x\":{\"color\":\"#2a3f5f\"},\"error_y\":{\"color\":\"#2a3f5f\"},\"marker\":{\"line\":{\"color\":\"#E5ECF6\",\"width\":0.5},\"pattern\":{\"fillmode\":\"overlay\",\"size\":10,\"solidity\":0.2}},\"type\":\"bar\"}],\"scattergeo\":[{\"type\":\"scattergeo\",\"marker\":{\"colorbar\":{\"outlinewidth\":0,\"ticks\":\"\"}}}],\"scatterpolar\":[{\"type\":\"scatterpolar\",\"marker\":{\"colorbar\":{\"outlinewidth\":0,\"ticks\":\"\"}}}],\"histogram\":[{\"marker\":{\"pattern\":{\"fillmode\":\"overlay\",\"size\":10,\"solidity\":0.2}},\"type\":\"histogram\"}],\"scattergl\":[{\"type\":\"scattergl\",\"marker\":{\"colorbar\":{\"outlinewidth\":0,\"ticks\":\"\"}}}],\"scatter3d\":[{\"type\":\"scatter3d\",\"line\":{\"colorbar\":{\"outlinewidth\":0,\"ticks\":\"\"}},\"marker\":{\"colorbar\":{\"outlinewidth\":0,\"ticks\":\"\"}}}],\"scattermapbox\":[{\"type\":\"scattermapbox\",\"marker\":{\"colorbar\":{\"outlinewidth\":0,\"ticks\":\"\"}}}],\"scatterternary\":[{\"type\":\"scatterternary\",\"marker\":{\"colorbar\":{\"outlinewidth\":0,\"ticks\":\"\"}}}],\"scattercarpet\":[{\"type\":\"scattercarpet\",\"marker\":{\"colorbar\":{\"outlinewidth\":0,\"ticks\":\"\"}}}],\"carpet\":[{\"aaxis\":{\"endlinecolor\":\"#2a3f5f\",\"gridcolor\":\"white\",\"linecolor\":\"white\",\"minorgridcolor\":\"white\",\"startlinecolor\":\"#2a3f5f\"},\"baxis\":{\"endlinecolor\":\"#2a3f5f\",\"gridcolor\":\"white\",\"linecolor\":\"white\",\"minorgridcolor\":\"white\",\"startlinecolor\":\"#2a3f5f\"},\"type\":\"carpet\"}],\"table\":[{\"cells\":{\"fill\":{\"color\":\"#EBF0F8\"},\"line\":{\"color\":\"white\"}},\"header\":{\"fill\":{\"color\":\"#C8D4E3\"},\"line\":{\"color\":\"white\"}},\"type\":\"table\"}],\"barpolar\":[{\"marker\":{\"line\":{\"color\":\"#E5ECF6\",\"width\":0.5},\"pattern\":{\"fillmode\":\"overlay\",\"size\":10,\"solidity\":0.2}},\"type\":\"barpolar\"}],\"pie\":[{\"automargin\":true,\"type\":\"pie\"}]},\"layout\":{\"autotypenumbers\":\"strict\",\"colorway\":[\"#636efa\",\"#EF553B\",\"#00cc96\",\"#ab63fa\",\"#FFA15A\",\"#19d3f3\",\"#FF6692\",\"#B6E880\",\"#FF97FF\",\"#FECB52\"],\"font\":{\"color\":\"#2a3f5f\"},\"hovermode\":\"closest\",\"hoverlabel\":{\"align\":\"left\"},\"paper_bgcolor\":\"white\",\"plot_bgcolor\":\"#E5ECF6\",\"polar\":{\"bgcolor\":\"#E5ECF6\",\"angularaxis\":{\"gridcolor\":\"white\",\"linecolor\":\"white\",\"ticks\":\"\"},\"radialaxis\":{\"gridcolor\":\"white\",\"linecolor\":\"white\",\"ticks\":\"\"}},\"ternary\":{\"bgcolor\":\"#E5ECF6\",\"aaxis\":{\"gridcolor\":\"white\",\"linecolor\":\"white\",\"ticks\":\"\"},\"baxis\":{\"gridcolor\":\"white\",\"linecolor\":\"white\",\"ticks\":\"\"},\"caxis\":{\"gridcolor\":\"white\",\"linecolor\":\"white\",\"ticks\":\"\"}},\"coloraxis\":{\"colorbar\":{\"outlinewidth\":0,\"ticks\":\"\"}},\"colorscale\":{\"sequential\":[[0.0,\"#0d0887\"],[0.1111111111111111,\"#46039f\"],[0.2222222222222222,\"#7201a8\"],[0.3333333333333333,\"#9c179e\"],[0.4444444444444444,\"#bd3786\"],[0.5555555555555556,\"#d8576b\"],[0.6666666666666666,\"#ed7953\"],[0.7777777777777778,\"#fb9f3a\"],[0.8888888888888888,\"#fdca26\"],[1.0,\"#f0f921\"]],\"sequentialminus\":[[0.0,\"#0d0887\"],[0.1111111111111111,\"#46039f\"],[0.2222222222222222,\"#7201a8\"],[0.3333333333333333,\"#9c179e\"],[0.4444444444444444,\"#bd3786\"],[0.5555555555555556,\"#d8576b\"],[0.6666666666666666,\"#ed7953\"],[0.7777777777777778,\"#fb9f3a\"],[0.8888888888888888,\"#fdca26\"],[1.0,\"#f0f921\"]],\"diverging\":[[0,\"#8e0152\"],[0.1,\"#c51b7d\"],[0.2,\"#de77ae\"],[0.3,\"#f1b6da\"],[0.4,\"#fde0ef\"],[0.5,\"#f7f7f7\"],[0.6,\"#e6f5d0\"],[0.7,\"#b8e186\"],[0.8,\"#7fbc41\"],[0.9,\"#4d9221\"],[1,\"#276419\"]]},\"xaxis\":{\"gridcolor\":\"white\",\"linecolor\":\"white\",\"ticks\":\"\",\"title\":{\"standoff\":15},\"zerolinecolor\":\"white\",\"automargin\":true,\"zerolinewidth\":2},\"yaxis\":{\"gridcolor\":\"white\",\"linecolor\":\"white\",\"ticks\":\"\",\"title\":{\"standoff\":15},\"zerolinecolor\":\"white\",\"automargin\":true,\"zerolinewidth\":2},\"scene\":{\"xaxis\":{\"backgroundcolor\":\"#E5ECF6\",\"gridcolor\":\"white\",\"linecolor\":\"white\",\"showbackground\":true,\"ticks\":\"\",\"zerolinecolor\":\"white\",\"gridwidth\":2},\"yaxis\":{\"backgroundcolor\":\"#E5ECF6\",\"gridcolor\":\"white\",\"linecolor\":\"white\",\"showbackground\":true,\"ticks\":\"\",\"zerolinecolor\":\"white\",\"gridwidth\":2},\"zaxis\":{\"backgroundcolor\":\"#E5ECF6\",\"gridcolor\":\"white\",\"linecolor\":\"white\",\"showbackground\":true,\"ticks\":\"\",\"zerolinecolor\":\"white\",\"gridwidth\":2}},\"shapedefaults\":{\"line\":{\"color\":\"#2a3f5f\"}},\"annotationdefaults\":{\"arrowcolor\":\"#2a3f5f\",\"arrowhead\":0,\"arrowwidth\":1},\"geo\":{\"bgcolor\":\"white\",\"landcolor\":\"#E5ECF6\",\"subunitcolor\":\"white\",\"showland\":true,\"showlakes\":true,\"lakecolor\":\"white\"},\"title\":{\"x\":0.05},\"mapbox\":{\"style\":\"light\"}}},\"scene\":{\"domain\":{\"x\":[0.0,1.0],\"y\":[0.0,1.0]},\"xaxis\":{\"title\":{\"text\":\"Happiness score\"}},\"yaxis\":{\"title\":{\"text\":\"Explained by: GDP per capita\"}},\"zaxis\":{\"title\":{\"text\":\"Explained by: Social support\"}}},\"coloraxis\":{\"colorbar\":{\"title\":{\"text\":\"cluster\"}},\"colorscale\":[[0.0,\"#0d0887\"],[0.1111111111111111,\"#46039f\"],[0.2222222222222222,\"#7201a8\"],[0.3333333333333333,\"#9c179e\"],[0.4444444444444444,\"#bd3786\"],[0.5555555555555556,\"#d8576b\"],[0.6666666666666666,\"#ed7953\"],[0.7777777777777778,\"#fb9f3a\"],[0.8888888888888888,\"#fdca26\"],[1.0,\"#f0f921\"]]},\"legend\":{\"tracegroupgap\":0},\"margin\":{\"t\":60}},                        {\"responsive\": true}                    ).then(function(){\n",
       "                            \n",
       "var gd = document.getElementById('1286c9a9-86c7-4ded-91f7-5ecc4ad0dc9a');\n",
       "var x = new MutationObserver(function (mutations, observer) {{\n",
       "        var display = window.getComputedStyle(gd).display;\n",
       "        if (!display || display === 'none') {{\n",
       "            console.log([gd, 'removed!']);\n",
       "            Plotly.purge(gd);\n",
       "            observer.disconnect();\n",
       "        }}\n",
       "}});\n",
       "\n",
       "// Listen for the removal of the full notebook cells\n",
       "var notebookContainer = gd.closest('#notebook-container');\n",
       "if (notebookContainer) {{\n",
       "    x.observe(notebookContainer, {childList: true});\n",
       "}}\n",
       "\n",
       "// Listen for the clearing of the current output cell\n",
       "var outputEl = gd.closest('.output');\n",
       "if (outputEl) {{\n",
       "    x.observe(outputEl, {childList: true});\n",
       "}}\n",
       "\n",
       "                        })                };                });            </script>        </div>"
      ]
     },
     "metadata": {},
     "output_type": "display_data"
    }
   ],
   "source": [
    "df['cluster'] = kmeans.labels_\n",
    "fig = px.scatter_3d(df, x='Happiness score',y = 'Explained by: GDP per capita', z='Explained by: Social support', color = 'cluster')\n",
    "fig.show()"
   ]
  },
  {
   "cell_type": "code",
   "execution_count": 46,
   "id": "64b2dc5d",
   "metadata": {},
   "outputs": [
    {
     "data": {
      "application/vnd.plotly.v1+json": {
       "config": {
        "plotlyServerURL": "https://plot.ly"
       },
       "data": [
        {
         "hovertemplate": "Happiness score=%{x}<br>Explained by: GDP per capita=%{y}<br>Explained by: Social support=%{z}<br>cluster=%{marker.color}<extra></extra>",
         "legendgroup": "",
         "marker": {
          "color": [
           1,
           1,
           1,
           1,
           1,
           1,
           1,
           1,
           1,
           1,
           1,
           1,
           1,
           1,
           1,
           1,
           1,
           1,
           1,
           1,
           1,
           1,
           1,
           1,
           1,
           1,
           1,
           1,
           1,
           1,
           2,
           1,
           1,
           1,
           1,
           1,
           1,
           1,
           1,
           1,
           2,
           1,
           1,
           2,
           1,
           1,
           2,
           1,
           1,
           1,
           1,
           1,
           1,
           1,
           1,
           1,
           1,
           2,
           2,
           1,
           2,
           2,
           2,
           1,
           2,
           2,
           2,
           2,
           1,
           1,
           2,
           2,
           2,
           2,
           2,
           2,
           1,
           1,
           2,
           2,
           2,
           2,
           1,
           0,
           2,
           2,
           2,
           0,
           2,
           2,
           2,
           1,
           0,
           0,
           0,
           2,
           0,
           2,
           0,
           0,
           0,
           0,
           0,
           0,
           2,
           2,
           0,
           0,
           0,
           2,
           0,
           2,
           0,
           0,
           0,
           0,
           0,
           0,
           0,
           2,
           0,
           2,
           0,
           2,
           0,
           0,
           2,
           0,
           2,
           0,
           0,
           0,
           2,
           2,
           0,
           0,
           0,
           0,
           0,
           0,
           0,
           2,
           0,
           0,
           0,
           0
          ],
          "coloraxis": "coloraxis",
          "symbol": "circle"
         },
         "mode": "markers",
         "name": "",
         "scene": "scene",
         "showlegend": false,
         "type": "scatter3d",
         "x": [
          2.093430929058579,
          1.9226271404568456,
          1.8496893064052946,
          1.8081424389075758,
          1.718585857856937,
          1.7084299569130503,
          1.6899646824696197,
          1.6724226717483606,
          1.671499408026189,
          1.5200841575900579,
          1.4859233998697112,
          1.4850001361475396,
          1.3732852257647843,
          1.3668223797095835,
          1.35851300621004,
          1.3141963475458063,
          1.2828053809919742,
          1.261570315382029,
          1.1553949873323028,
          1.046449868116062,
          1.009519319229201,
          0.9938238359522849,
          0.9495071772880513,
          0.9439675949550221,
          0.895034617679931,
          0.8848787167360441,
          0.8553342776265551,
          0.8525644864600405,
          0.851641222737869,
          0.8497946952935259,
          0.8433318492383252,
          0.8322526845722668,
          0.8248665747948946,
          0.823943311072723,
          0.7731638063532887,
          0.7270006202447122,
          0.6974561811352232,
          0.6826839615804787,
          0.6540627861931612,
          0.6282114019723584,
          0.6162089735841284,
          0.5783551609750957,
          0.5765086335307525,
          0.5709690511977233,
          0.5645062051425227,
          0.5303454474221759,
          0.5275756562556614,
          0.5257291288113183,
          0.5229593376448037,
          0.5100336455344023,
          0.4915683710909717,
          0.47771941525839867,
          0.4703333054810264,
          0.44817497614890967,
          0.4324794928719936,
          0.42693991053896446,
          0.3816999881525594,
          0.3641579774313003,
          0.3521555490430704,
          0.3235343736557529,
          0.311531945267523,
          0.2801409787136909,
          0.2736781326584902,
          0.2533663307707165,
          0.2469034847155158,
          0.2099729358286545,
          0.1979705074404246,
          0.19150766138522388,
          0.16934933205310712,
          0.14534447527664732,
          0.042862202115607304,
          0.029013246283034328,
          0.022550400227833608,
          0.005008389506574508,
          -0.006070775159483871,
          -0.01899646726988531,
          -0.06331312593411884,
          -0.07346902687800567,
          -0.0799318729332064,
          -0.08731798271057865,
          -0.11870894926441072,
          -0.14271380604087056,
          -0.16302560792864423,
          -0.16302560792864423,
          -0.16856519026167344,
          -0.20641900287070622,
          -0.28951273786614407,
          -0.2941290564770017,
          -0.3273665504751769,
          -0.3273665504751769,
          -0.3319828690860345,
          -0.3513714072516367,
          -0.3596807807511805,
          -0.36799015425072423,
          -0.38183911008329724,
          -0.3984578570823848,
          -0.3984578570823848,
          -0.433541878524903,
          -0.44185125202444675,
          -0.45570020785701976,
          -0.4667793725230781,
          -0.4667793725230781,
          -0.4686258999674212,
          -0.5083262400207971,
          -0.536024151685943,
          -0.5498731075185159,
          -0.565568590795432,
          -0.5803408103501765,
          -0.6117317769040086,
          -0.6145015680705231,
          -0.6292737876252676,
          -0.7474515440632238,
          -0.8157730595039171,
          -0.843470971169063,
          -0.859166454445979,
          -0.8720921465563805,
          -0.8776317288894097,
          -0.9247181787201578,
          -0.9330275522197016,
          -0.9579556727183329,
          -0.9579556727183329,
          -0.9884233755499935,
          -0.9921164304386796,
          -1.0105817048821102,
          -1.0687473193789168,
          -1.0705938468232599,
          -1.1001382859327489,
          -1.121373351542694,
          -1.1684598013734422,
          -1.2026205590937888,
          -1.2118531963155041,
          -1.2524768000910516,
          -1.293100403866599,
          -1.2940236675887704,
          -1.3309542164756316,
          -1.6402475634030949,
          -1.655943046680011,
          -1.6651756839017262,
          -1.7094923425659596,
          -1.8276700990039156,
          -1.8849124497785505,
          -1.9227662623875834,
          -2.110188797988404,
          -2.3622397941412325,
          -2.3991703430280937,
          -2.9078886539446076
         ],
         "y": [
          1.1459681005347757,
          1.291131340373806,
          1.2506760112383386,
          1.46485128313199,
          1.2720935384277037,
          1.900341002649081,
          1.2126004073461338,
          1.395839251077369,
          0.9889062344794313,
          1.050779090804264,
          1.2387773850220245,
          1.165005902480878,
          1.7099629831880576,
          1.222119308319185,
          1.131689749075199,
          1.360143372428427,
          1.0864749694532059,
          0.9627292568035406,
          1.1816639791837176,
          1.0769560684801547,
          1.0555385412907896,
          0.9508306305872266,
          0.4130127256098353,
          1.3982189763206316,
          1.0936141451829942,
          1.1578667267510896,
          1.7575574880533136,
          0.7342756334503124,
          0.946071180100701,
          0.48678420815098195,
          1.0079440364255337,
          -0.11528627839450478,
          1.0174629373985848,
          0.9365522791276498,
          0.7747309625857799,
          0.9103753014517592,
          0.7247567324772612,
          0.12268624593177455,
          -0.32470209980163056,
          0.61290964604391,
          0.9627292568035406,
          0.7652120616127287,
          0.33210206733890035,
          0.5724543169084425,
          -0.7268756659130426,
          0.33686151782542595,
          0.7009594800446333,
          0.8270849179375613,
          -0.34611962699099574,
          1.174524803453929,
          0.8032876655049335,
          0.4296708023126749,
          -0.45558698818108423,
          1.0103237616687963,
          -0.7125973144534659,
          0.8318443684240869,
          0.43205052755593765,
          0.6962000295581078,
          1.048399365561001,
          -0.33898045126120735,
          0.29640618868995844,
          0.01559860998494885,
          -0.2723481444498491,
          -0.8125457746705033,
          0.3606587702580539,
          0.09888899349914662,
          0.1369645973913513,
          -0.04151479585335819,
          0.30354536441974683,
          0.6628838761524286,
          -0.36753715418036087,
          0.23215360712186303,
          -0.003439191961153496,
          -0.03199589488030702,
          0.3868357479339446,
          -0.1390835308271327,
          -0.37705605515341206,
          0.175040201283556,
          0.9627292568035406,
          0.6533649751793774,
          1.3006502413468572,
          0.056053939120416334,
          -1.057657474726571,
          -1.0148224203478406,
          0.5105814605836099,
          0.15600239933745366,
          -0.06769177352924892,
          -0.7530526435889334,
          0.22501443139207467,
          0.0679525653367303,
          0.03463641193105119,
          0.11316734495872337,
          -1.4883877437571364,
          -0.8339633018598683,
          -0.4079924833158283,
          -0.11290655315124198,
          -1.8429668050032928,
          0.0013202585253720906,
          -1.0957330786187756,
          -0.48176396585697495,
          -1.9809908691125346,
          -1.0528980242400454,
          -1.136188407754243,
          -2.000028671058637,
          0.1345848721480885,
          0.11554707020198617,
          -0.2890062211526887,
          -3.3564720597184294,
          -1.3384650534315805,
          -0.0010594667178907028,
          -0.7102175892102031,
          0.7057189305311589,
          -1.5026660952167132,
          -0.9315320368336428,
          -1.138568132997506,
          -1.2170990660251781,
          -1.5074255457032388,
          -0.7887485222378753,
          -0.9005956086712266,
          -0.1438429813136583,
          -0.8601402795357591,
          -0.6245474804527426,
          -1.471729667054297,
          -0.2818670454229003,
          -0.32470209980163056,
          -0.8863172572116498,
          0.010839159498423264,
          -1.7620561467323577,
          -0.05341342206967215,
          -1.78109394867846,
          -1.4812485680273482,
          -1.712081916623839,
          -0.7387742921293566,
          -0.2057158376384909,
          -1.5217038971628156,
          -0.5793327008307495,
          -1.1433275834840315,
          -1.8144101020841392,
          -1.3384650534315805,
          -1.7239805428401531,
          -1.3598825806209456,
          0.22025498090554907,
          -1.4883877437571364,
          -1.102872254348564,
          -0.04389452109662098,
          -1.5526403253252319
         ],
         "z": [
          1.2614137574219553,
          1.2076812411075912,
          1.483508158187993,
          1.1467843892846454,
          1.0751410341988268,
          0.8924504787299892,
          1.0679766986902448,
          1.1933525700904275,
          1.1288735505131906,
          1.1790238990732638,
          0.9282721562728985,
          1.064394530935954,
          0.9318543240271894,
          0.6524452391924966,
          1.0106620146215899,
          0.9891690080958443,
          0.849464465678498,
          1.268578092930537,
          0.7169242587697334,
          1.1217092150046089,
          0.4410973416893316,
          1.2291742476333367,
          0.5306515355466049,
          0.26557112172907593,
          0.6667739102096604,
          0.6775204134725332,
          0.7921497816098431,
          0.3587074833406402,
          1.0930518729702814,
          0.9820046725872624,
          0.5234872000380231,
          0.154523921346057,
          0.9426008272900622,
          1.0679766986902448,
          1.168277395810391,
          1.168277395810391,
          0.7205064265240244,
          0.4948298580036956,
          -0.26817187366027306,
          1.1252913827588997,
          0.011237211174419691,
          1.1288735505131906,
          0.6452809036839148,
          0.6237878971581692,
          0.4410973416893316,
          -0.07115264717427176,
          0.9927511758501353,
          0.9605116660615168,
          -0.4938484421806018,
          0.27631762499194873,
          1.1718595635646818,
          0.7527459363126427,
          0.6667739102096604,
          0.6560274069467876,
          -0.0747348149285627,
          0.6166235616495873,
          0.7025955877525697,
          0.26557112172907593,
          -0.07115264717427176,
          0.02198371443729249,
          0.6811025812268241,
          0.36587181884922204,
          0.49841202575798654,
          0.7276707620326063,
          0.899614814238571,
          0.08288056626023835,
          0.580801884106678,
          1.0429015244102082,
          0.3479609800777674,
          0.11512007604885674,
          -0.09264565370001736,
          0.1867634311346754,
          0.8028962848727158,
          -0.14637817001438136,
          0.41960433516358603,
          -0.09622782145430829,
          0.09362706952311114,
          1.479925990433702,
          -0.0639883116656899,
          0.6775204134725332,
          0.17243476011751166,
          -0.3075757189574733,
          0.35512531558634924,
          -0.4365337581119469,
          0.9211078207643166,
          0.1330309148203114,
          -0.08189915043714456,
          -1.6616351300794459,
          -0.15354250552296322,
          -0.9308729082040956,
          0.6524452391924966,
          0.6703560779639514,
          -1.0204271020613689,
          -1.0455022763414055,
          -0.9022155661697682,
          0.22974944418616658,
          -0.8449008821011132,
          0.6273700649124601,
          -1.7941753369882103,
          -2.284932319326068,
          -0.8807225596440226,
          -0.8377365465925314,
          -1.3464043677018438,
          -1.2389393350731157,
          -1.0526666118499872,
          -0.6013134748093298,
          -0.8019148690496221,
          0.22258510867758471,
          -1.2174463285473702,
          -0.590566971546457,
          -1.1135634636729332,
          -0.14637817001438136,
          -1.221028496301661,
          -0.6228064813350754,
          -3.015694541201418,
          -1.5398414264335543,
          -0.11055649247147202,
          -0.6228064813350754,
          -1.0777417861300238,
          -1.1099812959186421,
          -1.7655179949538828,
          0.18318126338038446,
          -1.5147662521535177,
          -0.10339215696289016,
          -0.429369422603365,
          -0.27533620916885493,
          0.10079140503169301,
          -0.9344550759583865,
          -0.6228064813350754,
          -1.4323763938048262,
          -0.3469795642546736,
          0.4912476902494047,
          -0.14637817001438136,
          -0.6514638233694029,
          -2.0914952605943578,
          -1.8980582018626475,
          -1.17804248325017,
          -2.245528474028868,
          -1.1063991281643513,
          -1.7547714916910102,
          -0.2072750218373272,
          -0.325486557728928,
          -2.768524966155344,
          -0.7732575270152946,
          -1.4610337358391536,
          -3.244953277476038
         ]
        }
       ],
       "layout": {
        "coloraxis": {
         "colorbar": {
          "title": {
           "text": "cluster"
          }
         },
         "colorscale": [
          [
           0,
           "#0d0887"
          ],
          [
           0.1111111111111111,
           "#46039f"
          ],
          [
           0.2222222222222222,
           "#7201a8"
          ],
          [
           0.3333333333333333,
           "#9c179e"
          ],
          [
           0.4444444444444444,
           "#bd3786"
          ],
          [
           0.5555555555555556,
           "#d8576b"
          ],
          [
           0.6666666666666666,
           "#ed7953"
          ],
          [
           0.7777777777777778,
           "#fb9f3a"
          ],
          [
           0.8888888888888888,
           "#fdca26"
          ],
          [
           1,
           "#f0f921"
          ]
         ]
        },
        "legend": {
         "tracegroupgap": 0
        },
        "margin": {
         "t": 60
        },
        "scene": {
         "domain": {
          "x": [
           0,
           1
          ],
          "y": [
           0,
           1
          ]
         },
         "xaxis": {
          "title": {
           "text": "Happiness score"
          }
         },
         "yaxis": {
          "title": {
           "text": "Explained by: GDP per capita"
          }
         },
         "zaxis": {
          "title": {
           "text": "Explained by: Social support"
          }
         }
        },
        "template": {
         "data": {
          "bar": [
           {
            "error_x": {
             "color": "#2a3f5f"
            },
            "error_y": {
             "color": "#2a3f5f"
            },
            "marker": {
             "line": {
              "color": "#E5ECF6",
              "width": 0.5
             },
             "pattern": {
              "fillmode": "overlay",
              "size": 10,
              "solidity": 0.2
             }
            },
            "type": "bar"
           }
          ],
          "barpolar": [
           {
            "marker": {
             "line": {
              "color": "#E5ECF6",
              "width": 0.5
             },
             "pattern": {
              "fillmode": "overlay",
              "size": 10,
              "solidity": 0.2
             }
            },
            "type": "barpolar"
           }
          ],
          "carpet": [
           {
            "aaxis": {
             "endlinecolor": "#2a3f5f",
             "gridcolor": "white",
             "linecolor": "white",
             "minorgridcolor": "white",
             "startlinecolor": "#2a3f5f"
            },
            "baxis": {
             "endlinecolor": "#2a3f5f",
             "gridcolor": "white",
             "linecolor": "white",
             "minorgridcolor": "white",
             "startlinecolor": "#2a3f5f"
            },
            "type": "carpet"
           }
          ],
          "choropleth": [
           {
            "colorbar": {
             "outlinewidth": 0,
             "ticks": ""
            },
            "type": "choropleth"
           }
          ],
          "contour": [
           {
            "colorbar": {
             "outlinewidth": 0,
             "ticks": ""
            },
            "colorscale": [
             [
              0,
              "#0d0887"
             ],
             [
              0.1111111111111111,
              "#46039f"
             ],
             [
              0.2222222222222222,
              "#7201a8"
             ],
             [
              0.3333333333333333,
              "#9c179e"
             ],
             [
              0.4444444444444444,
              "#bd3786"
             ],
             [
              0.5555555555555556,
              "#d8576b"
             ],
             [
              0.6666666666666666,
              "#ed7953"
             ],
             [
              0.7777777777777778,
              "#fb9f3a"
             ],
             [
              0.8888888888888888,
              "#fdca26"
             ],
             [
              1,
              "#f0f921"
             ]
            ],
            "type": "contour"
           }
          ],
          "contourcarpet": [
           {
            "colorbar": {
             "outlinewidth": 0,
             "ticks": ""
            },
            "type": "contourcarpet"
           }
          ],
          "heatmap": [
           {
            "colorbar": {
             "outlinewidth": 0,
             "ticks": ""
            },
            "colorscale": [
             [
              0,
              "#0d0887"
             ],
             [
              0.1111111111111111,
              "#46039f"
             ],
             [
              0.2222222222222222,
              "#7201a8"
             ],
             [
              0.3333333333333333,
              "#9c179e"
             ],
             [
              0.4444444444444444,
              "#bd3786"
             ],
             [
              0.5555555555555556,
              "#d8576b"
             ],
             [
              0.6666666666666666,
              "#ed7953"
             ],
             [
              0.7777777777777778,
              "#fb9f3a"
             ],
             [
              0.8888888888888888,
              "#fdca26"
             ],
             [
              1,
              "#f0f921"
             ]
            ],
            "type": "heatmap"
           }
          ],
          "heatmapgl": [
           {
            "colorbar": {
             "outlinewidth": 0,
             "ticks": ""
            },
            "colorscale": [
             [
              0,
              "#0d0887"
             ],
             [
              0.1111111111111111,
              "#46039f"
             ],
             [
              0.2222222222222222,
              "#7201a8"
             ],
             [
              0.3333333333333333,
              "#9c179e"
             ],
             [
              0.4444444444444444,
              "#bd3786"
             ],
             [
              0.5555555555555556,
              "#d8576b"
             ],
             [
              0.6666666666666666,
              "#ed7953"
             ],
             [
              0.7777777777777778,
              "#fb9f3a"
             ],
             [
              0.8888888888888888,
              "#fdca26"
             ],
             [
              1,
              "#f0f921"
             ]
            ],
            "type": "heatmapgl"
           }
          ],
          "histogram": [
           {
            "marker": {
             "pattern": {
              "fillmode": "overlay",
              "size": 10,
              "solidity": 0.2
             }
            },
            "type": "histogram"
           }
          ],
          "histogram2d": [
           {
            "colorbar": {
             "outlinewidth": 0,
             "ticks": ""
            },
            "colorscale": [
             [
              0,
              "#0d0887"
             ],
             [
              0.1111111111111111,
              "#46039f"
             ],
             [
              0.2222222222222222,
              "#7201a8"
             ],
             [
              0.3333333333333333,
              "#9c179e"
             ],
             [
              0.4444444444444444,
              "#bd3786"
             ],
             [
              0.5555555555555556,
              "#d8576b"
             ],
             [
              0.6666666666666666,
              "#ed7953"
             ],
             [
              0.7777777777777778,
              "#fb9f3a"
             ],
             [
              0.8888888888888888,
              "#fdca26"
             ],
             [
              1,
              "#f0f921"
             ]
            ],
            "type": "histogram2d"
           }
          ],
          "histogram2dcontour": [
           {
            "colorbar": {
             "outlinewidth": 0,
             "ticks": ""
            },
            "colorscale": [
             [
              0,
              "#0d0887"
             ],
             [
              0.1111111111111111,
              "#46039f"
             ],
             [
              0.2222222222222222,
              "#7201a8"
             ],
             [
              0.3333333333333333,
              "#9c179e"
             ],
             [
              0.4444444444444444,
              "#bd3786"
             ],
             [
              0.5555555555555556,
              "#d8576b"
             ],
             [
              0.6666666666666666,
              "#ed7953"
             ],
             [
              0.7777777777777778,
              "#fb9f3a"
             ],
             [
              0.8888888888888888,
              "#fdca26"
             ],
             [
              1,
              "#f0f921"
             ]
            ],
            "type": "histogram2dcontour"
           }
          ],
          "mesh3d": [
           {
            "colorbar": {
             "outlinewidth": 0,
             "ticks": ""
            },
            "type": "mesh3d"
           }
          ],
          "parcoords": [
           {
            "line": {
             "colorbar": {
              "outlinewidth": 0,
              "ticks": ""
             }
            },
            "type": "parcoords"
           }
          ],
          "pie": [
           {
            "automargin": true,
            "type": "pie"
           }
          ],
          "scatter": [
           {
            "fillpattern": {
             "fillmode": "overlay",
             "size": 10,
             "solidity": 0.2
            },
            "type": "scatter"
           }
          ],
          "scatter3d": [
           {
            "line": {
             "colorbar": {
              "outlinewidth": 0,
              "ticks": ""
             }
            },
            "marker": {
             "colorbar": {
              "outlinewidth": 0,
              "ticks": ""
             }
            },
            "type": "scatter3d"
           }
          ],
          "scattercarpet": [
           {
            "marker": {
             "colorbar": {
              "outlinewidth": 0,
              "ticks": ""
             }
            },
            "type": "scattercarpet"
           }
          ],
          "scattergeo": [
           {
            "marker": {
             "colorbar": {
              "outlinewidth": 0,
              "ticks": ""
             }
            },
            "type": "scattergeo"
           }
          ],
          "scattergl": [
           {
            "marker": {
             "colorbar": {
              "outlinewidth": 0,
              "ticks": ""
             }
            },
            "type": "scattergl"
           }
          ],
          "scattermapbox": [
           {
            "marker": {
             "colorbar": {
              "outlinewidth": 0,
              "ticks": ""
             }
            },
            "type": "scattermapbox"
           }
          ],
          "scatterpolar": [
           {
            "marker": {
             "colorbar": {
              "outlinewidth": 0,
              "ticks": ""
             }
            },
            "type": "scatterpolar"
           }
          ],
          "scatterpolargl": [
           {
            "marker": {
             "colorbar": {
              "outlinewidth": 0,
              "ticks": ""
             }
            },
            "type": "scatterpolargl"
           }
          ],
          "scatterternary": [
           {
            "marker": {
             "colorbar": {
              "outlinewidth": 0,
              "ticks": ""
             }
            },
            "type": "scatterternary"
           }
          ],
          "surface": [
           {
            "colorbar": {
             "outlinewidth": 0,
             "ticks": ""
            },
            "colorscale": [
             [
              0,
              "#0d0887"
             ],
             [
              0.1111111111111111,
              "#46039f"
             ],
             [
              0.2222222222222222,
              "#7201a8"
             ],
             [
              0.3333333333333333,
              "#9c179e"
             ],
             [
              0.4444444444444444,
              "#bd3786"
             ],
             [
              0.5555555555555556,
              "#d8576b"
             ],
             [
              0.6666666666666666,
              "#ed7953"
             ],
             [
              0.7777777777777778,
              "#fb9f3a"
             ],
             [
              0.8888888888888888,
              "#fdca26"
             ],
             [
              1,
              "#f0f921"
             ]
            ],
            "type": "surface"
           }
          ],
          "table": [
           {
            "cells": {
             "fill": {
              "color": "#EBF0F8"
             },
             "line": {
              "color": "white"
             }
            },
            "header": {
             "fill": {
              "color": "#C8D4E3"
             },
             "line": {
              "color": "white"
             }
            },
            "type": "table"
           }
          ]
         },
         "layout": {
          "annotationdefaults": {
           "arrowcolor": "#2a3f5f",
           "arrowhead": 0,
           "arrowwidth": 1
          },
          "autotypenumbers": "strict",
          "coloraxis": {
           "colorbar": {
            "outlinewidth": 0,
            "ticks": ""
           }
          },
          "colorscale": {
           "diverging": [
            [
             0,
             "#8e0152"
            ],
            [
             0.1,
             "#c51b7d"
            ],
            [
             0.2,
             "#de77ae"
            ],
            [
             0.3,
             "#f1b6da"
            ],
            [
             0.4,
             "#fde0ef"
            ],
            [
             0.5,
             "#f7f7f7"
            ],
            [
             0.6,
             "#e6f5d0"
            ],
            [
             0.7,
             "#b8e186"
            ],
            [
             0.8,
             "#7fbc41"
            ],
            [
             0.9,
             "#4d9221"
            ],
            [
             1,
             "#276419"
            ]
           ],
           "sequential": [
            [
             0,
             "#0d0887"
            ],
            [
             0.1111111111111111,
             "#46039f"
            ],
            [
             0.2222222222222222,
             "#7201a8"
            ],
            [
             0.3333333333333333,
             "#9c179e"
            ],
            [
             0.4444444444444444,
             "#bd3786"
            ],
            [
             0.5555555555555556,
             "#d8576b"
            ],
            [
             0.6666666666666666,
             "#ed7953"
            ],
            [
             0.7777777777777778,
             "#fb9f3a"
            ],
            [
             0.8888888888888888,
             "#fdca26"
            ],
            [
             1,
             "#f0f921"
            ]
           ],
           "sequentialminus": [
            [
             0,
             "#0d0887"
            ],
            [
             0.1111111111111111,
             "#46039f"
            ],
            [
             0.2222222222222222,
             "#7201a8"
            ],
            [
             0.3333333333333333,
             "#9c179e"
            ],
            [
             0.4444444444444444,
             "#bd3786"
            ],
            [
             0.5555555555555556,
             "#d8576b"
            ],
            [
             0.6666666666666666,
             "#ed7953"
            ],
            [
             0.7777777777777778,
             "#fb9f3a"
            ],
            [
             0.8888888888888888,
             "#fdca26"
            ],
            [
             1,
             "#f0f921"
            ]
           ]
          },
          "colorway": [
           "#636efa",
           "#EF553B",
           "#00cc96",
           "#ab63fa",
           "#FFA15A",
           "#19d3f3",
           "#FF6692",
           "#B6E880",
           "#FF97FF",
           "#FECB52"
          ],
          "font": {
           "color": "#2a3f5f"
          },
          "geo": {
           "bgcolor": "white",
           "lakecolor": "white",
           "landcolor": "#E5ECF6",
           "showlakes": true,
           "showland": true,
           "subunitcolor": "white"
          },
          "hoverlabel": {
           "align": "left"
          },
          "hovermode": "closest",
          "mapbox": {
           "style": "light"
          },
          "paper_bgcolor": "white",
          "plot_bgcolor": "#E5ECF6",
          "polar": {
           "angularaxis": {
            "gridcolor": "white",
            "linecolor": "white",
            "ticks": ""
           },
           "bgcolor": "#E5ECF6",
           "radialaxis": {
            "gridcolor": "white",
            "linecolor": "white",
            "ticks": ""
           }
          },
          "scene": {
           "xaxis": {
            "backgroundcolor": "#E5ECF6",
            "gridcolor": "white",
            "gridwidth": 2,
            "linecolor": "white",
            "showbackground": true,
            "ticks": "",
            "zerolinecolor": "white"
           },
           "yaxis": {
            "backgroundcolor": "#E5ECF6",
            "gridcolor": "white",
            "gridwidth": 2,
            "linecolor": "white",
            "showbackground": true,
            "ticks": "",
            "zerolinecolor": "white"
           },
           "zaxis": {
            "backgroundcolor": "#E5ECF6",
            "gridcolor": "white",
            "gridwidth": 2,
            "linecolor": "white",
            "showbackground": true,
            "ticks": "",
            "zerolinecolor": "white"
           }
          },
          "shapedefaults": {
           "line": {
            "color": "#2a3f5f"
           }
          },
          "ternary": {
           "aaxis": {
            "gridcolor": "white",
            "linecolor": "white",
            "ticks": ""
           },
           "baxis": {
            "gridcolor": "white",
            "linecolor": "white",
            "ticks": ""
           },
           "bgcolor": "#E5ECF6",
           "caxis": {
            "gridcolor": "white",
            "linecolor": "white",
            "ticks": ""
           }
          },
          "title": {
           "x": 0.05
          },
          "xaxis": {
           "automargin": true,
           "gridcolor": "white",
           "linecolor": "white",
           "ticks": "",
           "title": {
            "standoff": 15
           },
           "zerolinecolor": "white",
           "zerolinewidth": 2
          },
          "yaxis": {
           "automargin": true,
           "gridcolor": "white",
           "linecolor": "white",
           "ticks": "",
           "title": {
            "standoff": 15
           },
           "zerolinecolor": "white",
           "zerolinewidth": 2
          }
         }
        }
       }
      },
      "text/html": [
       "<div>                            <div id=\"80c8fb06-ae82-4d2b-bd9e-88cfc7726416\" class=\"plotly-graph-div\" style=\"height:525px; width:100%;\"></div>            <script type=\"text/javascript\">                require([\"plotly\"], function(Plotly) {                    window.PLOTLYENV=window.PLOTLYENV || {};                                    if (document.getElementById(\"80c8fb06-ae82-4d2b-bd9e-88cfc7726416\")) {                    Plotly.newPlot(                        \"80c8fb06-ae82-4d2b-bd9e-88cfc7726416\",                        [{\"hovertemplate\":\"Happiness score=%{x}<br>Explained by: GDP per capita=%{y}<br>Explained by: Social support=%{z}<br>cluster=%{marker.color}<extra></extra>\",\"legendgroup\":\"\",\"marker\":{\"color\":[1,1,1,1,1,1,1,1,1,1,1,1,1,1,1,1,1,1,1,1,1,1,1,1,1,1,1,1,1,1,2,1,1,1,1,1,1,1,1,1,2,1,1,2,1,1,2,1,1,1,1,1,1,1,1,1,1,2,2,1,2,2,2,1,2,2,2,2,1,1,2,2,2,2,2,2,1,1,2,2,2,2,1,0,2,2,2,0,2,2,2,1,0,0,0,2,0,2,0,0,0,0,0,0,2,2,0,0,0,2,0,2,0,0,0,0,0,0,0,2,0,2,0,2,0,0,2,0,2,0,0,0,2,2,0,0,0,0,0,0,0,2,0,0,0,0],\"coloraxis\":\"coloraxis\",\"symbol\":\"circle\"},\"mode\":\"markers\",\"name\":\"\",\"scene\":\"scene\",\"showlegend\":false,\"x\":[2.093430929058579,1.9226271404568456,1.8496893064052946,1.8081424389075758,1.718585857856937,1.7084299569130503,1.6899646824696197,1.6724226717483606,1.671499408026189,1.5200841575900579,1.4859233998697112,1.4850001361475396,1.3732852257647843,1.3668223797095835,1.35851300621004,1.3141963475458063,1.2828053809919742,1.261570315382029,1.1553949873323028,1.046449868116062,1.009519319229201,0.9938238359522849,0.9495071772880513,0.9439675949550221,0.895034617679931,0.8848787167360441,0.8553342776265551,0.8525644864600405,0.851641222737869,0.8497946952935259,0.8433318492383252,0.8322526845722668,0.8248665747948946,0.823943311072723,0.7731638063532887,0.7270006202447122,0.6974561811352232,0.6826839615804787,0.6540627861931612,0.6282114019723584,0.6162089735841284,0.5783551609750957,0.5765086335307525,0.5709690511977233,0.5645062051425227,0.5303454474221759,0.5275756562556614,0.5257291288113183,0.5229593376448037,0.5100336455344023,0.4915683710909717,0.47771941525839867,0.4703333054810264,0.44817497614890967,0.4324794928719936,0.42693991053896446,0.3816999881525594,0.3641579774313003,0.3521555490430704,0.3235343736557529,0.311531945267523,0.2801409787136909,0.2736781326584902,0.2533663307707165,0.2469034847155158,0.2099729358286545,0.1979705074404246,0.19150766138522388,0.16934933205310712,0.14534447527664732,0.042862202115607304,0.029013246283034328,0.022550400227833608,0.005008389506574508,-0.006070775159483871,-0.01899646726988531,-0.06331312593411884,-0.07346902687800567,-0.0799318729332064,-0.08731798271057865,-0.11870894926441072,-0.14271380604087056,-0.16302560792864423,-0.16302560792864423,-0.16856519026167344,-0.20641900287070622,-0.28951273786614407,-0.2941290564770017,-0.3273665504751769,-0.3273665504751769,-0.3319828690860345,-0.3513714072516367,-0.3596807807511805,-0.36799015425072423,-0.38183911008329724,-0.3984578570823848,-0.3984578570823848,-0.433541878524903,-0.44185125202444675,-0.45570020785701976,-0.4667793725230781,-0.4667793725230781,-0.4686258999674212,-0.5083262400207971,-0.536024151685943,-0.5498731075185159,-0.565568590795432,-0.5803408103501765,-0.6117317769040086,-0.6145015680705231,-0.6292737876252676,-0.7474515440632238,-0.8157730595039171,-0.843470971169063,-0.859166454445979,-0.8720921465563805,-0.8776317288894097,-0.9247181787201578,-0.9330275522197016,-0.9579556727183329,-0.9579556727183329,-0.9884233755499935,-0.9921164304386796,-1.0105817048821102,-1.0687473193789168,-1.0705938468232599,-1.1001382859327489,-1.121373351542694,-1.1684598013734422,-1.2026205590937888,-1.2118531963155041,-1.2524768000910516,-1.293100403866599,-1.2940236675887704,-1.3309542164756316,-1.6402475634030949,-1.655943046680011,-1.6651756839017262,-1.7094923425659596,-1.8276700990039156,-1.8849124497785505,-1.9227662623875834,-2.110188797988404,-2.3622397941412325,-2.3991703430280937,-2.9078886539446076],\"y\":[1.1459681005347757,1.291131340373806,1.2506760112383386,1.46485128313199,1.2720935384277037,1.900341002649081,1.2126004073461338,1.395839251077369,0.9889062344794313,1.050779090804264,1.2387773850220245,1.165005902480878,1.7099629831880576,1.222119308319185,1.131689749075199,1.360143372428427,1.0864749694532059,0.9627292568035406,1.1816639791837176,1.0769560684801547,1.0555385412907896,0.9508306305872266,0.4130127256098353,1.3982189763206316,1.0936141451829942,1.1578667267510896,1.7575574880533136,0.7342756334503124,0.946071180100701,0.48678420815098195,1.0079440364255337,-0.11528627839450478,1.0174629373985848,0.9365522791276498,0.7747309625857799,0.9103753014517592,0.7247567324772612,0.12268624593177455,-0.32470209980163056,0.61290964604391,0.9627292568035406,0.7652120616127287,0.33210206733890035,0.5724543169084425,-0.7268756659130426,0.33686151782542595,0.7009594800446333,0.8270849179375613,-0.34611962699099574,1.174524803453929,0.8032876655049335,0.4296708023126749,-0.45558698818108423,1.0103237616687963,-0.7125973144534659,0.8318443684240869,0.43205052755593765,0.6962000295581078,1.048399365561001,-0.33898045126120735,0.29640618868995844,0.01559860998494885,-0.2723481444498491,-0.8125457746705033,0.3606587702580539,0.09888899349914662,0.1369645973913513,-0.04151479585335819,0.30354536441974683,0.6628838761524286,-0.36753715418036087,0.23215360712186303,-0.003439191961153496,-0.03199589488030702,0.3868357479339446,-0.1390835308271327,-0.37705605515341206,0.175040201283556,0.9627292568035406,0.6533649751793774,1.3006502413468572,0.056053939120416334,-1.057657474726571,-1.0148224203478406,0.5105814605836099,0.15600239933745366,-0.06769177352924892,-0.7530526435889334,0.22501443139207467,0.0679525653367303,0.03463641193105119,0.11316734495872337,-1.4883877437571364,-0.8339633018598683,-0.4079924833158283,-0.11290655315124198,-1.8429668050032928,0.0013202585253720906,-1.0957330786187756,-0.48176396585697495,-1.9809908691125346,-1.0528980242400454,-1.136188407754243,-2.000028671058637,0.1345848721480885,0.11554707020198617,-0.2890062211526887,-3.3564720597184294,-1.3384650534315805,-0.0010594667178907028,-0.7102175892102031,0.7057189305311589,-1.5026660952167132,-0.9315320368336428,-1.138568132997506,-1.2170990660251781,-1.5074255457032388,-0.7887485222378753,-0.9005956086712266,-0.1438429813136583,-0.8601402795357591,-0.6245474804527426,-1.471729667054297,-0.2818670454229003,-0.32470209980163056,-0.8863172572116498,0.010839159498423264,-1.7620561467323577,-0.05341342206967215,-1.78109394867846,-1.4812485680273482,-1.712081916623839,-0.7387742921293566,-0.2057158376384909,-1.5217038971628156,-0.5793327008307495,-1.1433275834840315,-1.8144101020841392,-1.3384650534315805,-1.7239805428401531,-1.3598825806209456,0.22025498090554907,-1.4883877437571364,-1.102872254348564,-0.04389452109662098,-1.5526403253252319],\"z\":[1.2614137574219553,1.2076812411075912,1.483508158187993,1.1467843892846454,1.0751410341988268,0.8924504787299892,1.0679766986902448,1.1933525700904275,1.1288735505131906,1.1790238990732638,0.9282721562728985,1.064394530935954,0.9318543240271894,0.6524452391924966,1.0106620146215899,0.9891690080958443,0.849464465678498,1.268578092930537,0.7169242587697334,1.1217092150046089,0.4410973416893316,1.2291742476333367,0.5306515355466049,0.26557112172907593,0.6667739102096604,0.6775204134725332,0.7921497816098431,0.3587074833406402,1.0930518729702814,0.9820046725872624,0.5234872000380231,0.154523921346057,0.9426008272900622,1.0679766986902448,1.168277395810391,1.168277395810391,0.7205064265240244,0.4948298580036956,-0.26817187366027306,1.1252913827588997,0.011237211174419691,1.1288735505131906,0.6452809036839148,0.6237878971581692,0.4410973416893316,-0.07115264717427176,0.9927511758501353,0.9605116660615168,-0.4938484421806018,0.27631762499194873,1.1718595635646818,0.7527459363126427,0.6667739102096604,0.6560274069467876,-0.0747348149285627,0.6166235616495873,0.7025955877525697,0.26557112172907593,-0.07115264717427176,0.02198371443729249,0.6811025812268241,0.36587181884922204,0.49841202575798654,0.7276707620326063,0.899614814238571,0.08288056626023835,0.580801884106678,1.0429015244102082,0.3479609800777674,0.11512007604885674,-0.09264565370001736,0.1867634311346754,0.8028962848727158,-0.14637817001438136,0.41960433516358603,-0.09622782145430829,0.09362706952311114,1.479925990433702,-0.0639883116656899,0.6775204134725332,0.17243476011751166,-0.3075757189574733,0.35512531558634924,-0.4365337581119469,0.9211078207643166,0.1330309148203114,-0.08189915043714456,-1.6616351300794459,-0.15354250552296322,-0.9308729082040956,0.6524452391924966,0.6703560779639514,-1.0204271020613689,-1.0455022763414055,-0.9022155661697682,0.22974944418616658,-0.8449008821011132,0.6273700649124601,-1.7941753369882103,-2.284932319326068,-0.8807225596440226,-0.8377365465925314,-1.3464043677018438,-1.2389393350731157,-1.0526666118499872,-0.6013134748093298,-0.8019148690496221,0.22258510867758471,-1.2174463285473702,-0.590566971546457,-1.1135634636729332,-0.14637817001438136,-1.221028496301661,-0.6228064813350754,-3.015694541201418,-1.5398414264335543,-0.11055649247147202,-0.6228064813350754,-1.0777417861300238,-1.1099812959186421,-1.7655179949538828,0.18318126338038446,-1.5147662521535177,-0.10339215696289016,-0.429369422603365,-0.27533620916885493,0.10079140503169301,-0.9344550759583865,-0.6228064813350754,-1.4323763938048262,-0.3469795642546736,0.4912476902494047,-0.14637817001438136,-0.6514638233694029,-2.0914952605943578,-1.8980582018626475,-1.17804248325017,-2.245528474028868,-1.1063991281643513,-1.7547714916910102,-0.2072750218373272,-0.325486557728928,-2.768524966155344,-0.7732575270152946,-1.4610337358391536,-3.244953277476038],\"type\":\"scatter3d\"}],                        {\"template\":{\"data\":{\"histogram2dcontour\":[{\"type\":\"histogram2dcontour\",\"colorbar\":{\"outlinewidth\":0,\"ticks\":\"\"},\"colorscale\":[[0.0,\"#0d0887\"],[0.1111111111111111,\"#46039f\"],[0.2222222222222222,\"#7201a8\"],[0.3333333333333333,\"#9c179e\"],[0.4444444444444444,\"#bd3786\"],[0.5555555555555556,\"#d8576b\"],[0.6666666666666666,\"#ed7953\"],[0.7777777777777778,\"#fb9f3a\"],[0.8888888888888888,\"#fdca26\"],[1.0,\"#f0f921\"]]}],\"choropleth\":[{\"type\":\"choropleth\",\"colorbar\":{\"outlinewidth\":0,\"ticks\":\"\"}}],\"histogram2d\":[{\"type\":\"histogram2d\",\"colorbar\":{\"outlinewidth\":0,\"ticks\":\"\"},\"colorscale\":[[0.0,\"#0d0887\"],[0.1111111111111111,\"#46039f\"],[0.2222222222222222,\"#7201a8\"],[0.3333333333333333,\"#9c179e\"],[0.4444444444444444,\"#bd3786\"],[0.5555555555555556,\"#d8576b\"],[0.6666666666666666,\"#ed7953\"],[0.7777777777777778,\"#fb9f3a\"],[0.8888888888888888,\"#fdca26\"],[1.0,\"#f0f921\"]]}],\"heatmap\":[{\"type\":\"heatmap\",\"colorbar\":{\"outlinewidth\":0,\"ticks\":\"\"},\"colorscale\":[[0.0,\"#0d0887\"],[0.1111111111111111,\"#46039f\"],[0.2222222222222222,\"#7201a8\"],[0.3333333333333333,\"#9c179e\"],[0.4444444444444444,\"#bd3786\"],[0.5555555555555556,\"#d8576b\"],[0.6666666666666666,\"#ed7953\"],[0.7777777777777778,\"#fb9f3a\"],[0.8888888888888888,\"#fdca26\"],[1.0,\"#f0f921\"]]}],\"heatmapgl\":[{\"type\":\"heatmapgl\",\"colorbar\":{\"outlinewidth\":0,\"ticks\":\"\"},\"colorscale\":[[0.0,\"#0d0887\"],[0.1111111111111111,\"#46039f\"],[0.2222222222222222,\"#7201a8\"],[0.3333333333333333,\"#9c179e\"],[0.4444444444444444,\"#bd3786\"],[0.5555555555555556,\"#d8576b\"],[0.6666666666666666,\"#ed7953\"],[0.7777777777777778,\"#fb9f3a\"],[0.8888888888888888,\"#fdca26\"],[1.0,\"#f0f921\"]]}],\"contourcarpet\":[{\"type\":\"contourcarpet\",\"colorbar\":{\"outlinewidth\":0,\"ticks\":\"\"}}],\"contour\":[{\"type\":\"contour\",\"colorbar\":{\"outlinewidth\":0,\"ticks\":\"\"},\"colorscale\":[[0.0,\"#0d0887\"],[0.1111111111111111,\"#46039f\"],[0.2222222222222222,\"#7201a8\"],[0.3333333333333333,\"#9c179e\"],[0.4444444444444444,\"#bd3786\"],[0.5555555555555556,\"#d8576b\"],[0.6666666666666666,\"#ed7953\"],[0.7777777777777778,\"#fb9f3a\"],[0.8888888888888888,\"#fdca26\"],[1.0,\"#f0f921\"]]}],\"surface\":[{\"type\":\"surface\",\"colorbar\":{\"outlinewidth\":0,\"ticks\":\"\"},\"colorscale\":[[0.0,\"#0d0887\"],[0.1111111111111111,\"#46039f\"],[0.2222222222222222,\"#7201a8\"],[0.3333333333333333,\"#9c179e\"],[0.4444444444444444,\"#bd3786\"],[0.5555555555555556,\"#d8576b\"],[0.6666666666666666,\"#ed7953\"],[0.7777777777777778,\"#fb9f3a\"],[0.8888888888888888,\"#fdca26\"],[1.0,\"#f0f921\"]]}],\"mesh3d\":[{\"type\":\"mesh3d\",\"colorbar\":{\"outlinewidth\":0,\"ticks\":\"\"}}],\"scatter\":[{\"fillpattern\":{\"fillmode\":\"overlay\",\"size\":10,\"solidity\":0.2},\"type\":\"scatter\"}],\"parcoords\":[{\"type\":\"parcoords\",\"line\":{\"colorbar\":{\"outlinewidth\":0,\"ticks\":\"\"}}}],\"scatterpolargl\":[{\"type\":\"scatterpolargl\",\"marker\":{\"colorbar\":{\"outlinewidth\":0,\"ticks\":\"\"}}}],\"bar\":[{\"error_x\":{\"color\":\"#2a3f5f\"},\"error_y\":{\"color\":\"#2a3f5f\"},\"marker\":{\"line\":{\"color\":\"#E5ECF6\",\"width\":0.5},\"pattern\":{\"fillmode\":\"overlay\",\"size\":10,\"solidity\":0.2}},\"type\":\"bar\"}],\"scattergeo\":[{\"type\":\"scattergeo\",\"marker\":{\"colorbar\":{\"outlinewidth\":0,\"ticks\":\"\"}}}],\"scatterpolar\":[{\"type\":\"scatterpolar\",\"marker\":{\"colorbar\":{\"outlinewidth\":0,\"ticks\":\"\"}}}],\"histogram\":[{\"marker\":{\"pattern\":{\"fillmode\":\"overlay\",\"size\":10,\"solidity\":0.2}},\"type\":\"histogram\"}],\"scattergl\":[{\"type\":\"scattergl\",\"marker\":{\"colorbar\":{\"outlinewidth\":0,\"ticks\":\"\"}}}],\"scatter3d\":[{\"type\":\"scatter3d\",\"line\":{\"colorbar\":{\"outlinewidth\":0,\"ticks\":\"\"}},\"marker\":{\"colorbar\":{\"outlinewidth\":0,\"ticks\":\"\"}}}],\"scattermapbox\":[{\"type\":\"scattermapbox\",\"marker\":{\"colorbar\":{\"outlinewidth\":0,\"ticks\":\"\"}}}],\"scatterternary\":[{\"type\":\"scatterternary\",\"marker\":{\"colorbar\":{\"outlinewidth\":0,\"ticks\":\"\"}}}],\"scattercarpet\":[{\"type\":\"scattercarpet\",\"marker\":{\"colorbar\":{\"outlinewidth\":0,\"ticks\":\"\"}}}],\"carpet\":[{\"aaxis\":{\"endlinecolor\":\"#2a3f5f\",\"gridcolor\":\"white\",\"linecolor\":\"white\",\"minorgridcolor\":\"white\",\"startlinecolor\":\"#2a3f5f\"},\"baxis\":{\"endlinecolor\":\"#2a3f5f\",\"gridcolor\":\"white\",\"linecolor\":\"white\",\"minorgridcolor\":\"white\",\"startlinecolor\":\"#2a3f5f\"},\"type\":\"carpet\"}],\"table\":[{\"cells\":{\"fill\":{\"color\":\"#EBF0F8\"},\"line\":{\"color\":\"white\"}},\"header\":{\"fill\":{\"color\":\"#C8D4E3\"},\"line\":{\"color\":\"white\"}},\"type\":\"table\"}],\"barpolar\":[{\"marker\":{\"line\":{\"color\":\"#E5ECF6\",\"width\":0.5},\"pattern\":{\"fillmode\":\"overlay\",\"size\":10,\"solidity\":0.2}},\"type\":\"barpolar\"}],\"pie\":[{\"automargin\":true,\"type\":\"pie\"}]},\"layout\":{\"autotypenumbers\":\"strict\",\"colorway\":[\"#636efa\",\"#EF553B\",\"#00cc96\",\"#ab63fa\",\"#FFA15A\",\"#19d3f3\",\"#FF6692\",\"#B6E880\",\"#FF97FF\",\"#FECB52\"],\"font\":{\"color\":\"#2a3f5f\"},\"hovermode\":\"closest\",\"hoverlabel\":{\"align\":\"left\"},\"paper_bgcolor\":\"white\",\"plot_bgcolor\":\"#E5ECF6\",\"polar\":{\"bgcolor\":\"#E5ECF6\",\"angularaxis\":{\"gridcolor\":\"white\",\"linecolor\":\"white\",\"ticks\":\"\"},\"radialaxis\":{\"gridcolor\":\"white\",\"linecolor\":\"white\",\"ticks\":\"\"}},\"ternary\":{\"bgcolor\":\"#E5ECF6\",\"aaxis\":{\"gridcolor\":\"white\",\"linecolor\":\"white\",\"ticks\":\"\"},\"baxis\":{\"gridcolor\":\"white\",\"linecolor\":\"white\",\"ticks\":\"\"},\"caxis\":{\"gridcolor\":\"white\",\"linecolor\":\"white\",\"ticks\":\"\"}},\"coloraxis\":{\"colorbar\":{\"outlinewidth\":0,\"ticks\":\"\"}},\"colorscale\":{\"sequential\":[[0.0,\"#0d0887\"],[0.1111111111111111,\"#46039f\"],[0.2222222222222222,\"#7201a8\"],[0.3333333333333333,\"#9c179e\"],[0.4444444444444444,\"#bd3786\"],[0.5555555555555556,\"#d8576b\"],[0.6666666666666666,\"#ed7953\"],[0.7777777777777778,\"#fb9f3a\"],[0.8888888888888888,\"#fdca26\"],[1.0,\"#f0f921\"]],\"sequentialminus\":[[0.0,\"#0d0887\"],[0.1111111111111111,\"#46039f\"],[0.2222222222222222,\"#7201a8\"],[0.3333333333333333,\"#9c179e\"],[0.4444444444444444,\"#bd3786\"],[0.5555555555555556,\"#d8576b\"],[0.6666666666666666,\"#ed7953\"],[0.7777777777777778,\"#fb9f3a\"],[0.8888888888888888,\"#fdca26\"],[1.0,\"#f0f921\"]],\"diverging\":[[0,\"#8e0152\"],[0.1,\"#c51b7d\"],[0.2,\"#de77ae\"],[0.3,\"#f1b6da\"],[0.4,\"#fde0ef\"],[0.5,\"#f7f7f7\"],[0.6,\"#e6f5d0\"],[0.7,\"#b8e186\"],[0.8,\"#7fbc41\"],[0.9,\"#4d9221\"],[1,\"#276419\"]]},\"xaxis\":{\"gridcolor\":\"white\",\"linecolor\":\"white\",\"ticks\":\"\",\"title\":{\"standoff\":15},\"zerolinecolor\":\"white\",\"automargin\":true,\"zerolinewidth\":2},\"yaxis\":{\"gridcolor\":\"white\",\"linecolor\":\"white\",\"ticks\":\"\",\"title\":{\"standoff\":15},\"zerolinecolor\":\"white\",\"automargin\":true,\"zerolinewidth\":2},\"scene\":{\"xaxis\":{\"backgroundcolor\":\"#E5ECF6\",\"gridcolor\":\"white\",\"linecolor\":\"white\",\"showbackground\":true,\"ticks\":\"\",\"zerolinecolor\":\"white\",\"gridwidth\":2},\"yaxis\":{\"backgroundcolor\":\"#E5ECF6\",\"gridcolor\":\"white\",\"linecolor\":\"white\",\"showbackground\":true,\"ticks\":\"\",\"zerolinecolor\":\"white\",\"gridwidth\":2},\"zaxis\":{\"backgroundcolor\":\"#E5ECF6\",\"gridcolor\":\"white\",\"linecolor\":\"white\",\"showbackground\":true,\"ticks\":\"\",\"zerolinecolor\":\"white\",\"gridwidth\":2}},\"shapedefaults\":{\"line\":{\"color\":\"#2a3f5f\"}},\"annotationdefaults\":{\"arrowcolor\":\"#2a3f5f\",\"arrowhead\":0,\"arrowwidth\":1},\"geo\":{\"bgcolor\":\"white\",\"landcolor\":\"#E5ECF6\",\"subunitcolor\":\"white\",\"showland\":true,\"showlakes\":true,\"lakecolor\":\"white\"},\"title\":{\"x\":0.05},\"mapbox\":{\"style\":\"light\"}}},\"scene\":{\"domain\":{\"x\":[0.0,1.0],\"y\":[0.0,1.0]},\"xaxis\":{\"title\":{\"text\":\"Happiness score\"}},\"yaxis\":{\"title\":{\"text\":\"Explained by: GDP per capita\"}},\"zaxis\":{\"title\":{\"text\":\"Explained by: Social support\"}}},\"coloraxis\":{\"colorbar\":{\"title\":{\"text\":\"cluster\"}},\"colorscale\":[[0.0,\"#0d0887\"],[0.1111111111111111,\"#46039f\"],[0.2222222222222222,\"#7201a8\"],[0.3333333333333333,\"#9c179e\"],[0.4444444444444444,\"#bd3786\"],[0.5555555555555556,\"#d8576b\"],[0.6666666666666666,\"#ed7953\"],[0.7777777777777778,\"#fb9f3a\"],[0.8888888888888888,\"#fdca26\"],[1.0,\"#f0f921\"]]},\"legend\":{\"tracegroupgap\":0},\"margin\":{\"t\":60}},                        {\"responsive\": true}                    ).then(function(){\n",
       "                            \n",
       "var gd = document.getElementById('80c8fb06-ae82-4d2b-bd9e-88cfc7726416');\n",
       "var x = new MutationObserver(function (mutations, observer) {{\n",
       "        var display = window.getComputedStyle(gd).display;\n",
       "        if (!display || display === 'none') {{\n",
       "            console.log([gd, 'removed!']);\n",
       "            Plotly.purge(gd);\n",
       "            observer.disconnect();\n",
       "        }}\n",
       "}});\n",
       "\n",
       "// Listen for the removal of the full notebook cells\n",
       "var notebookContainer = gd.closest('#notebook-container');\n",
       "if (notebookContainer) {{\n",
       "    x.observe(notebookContainer, {childList: true});\n",
       "}}\n",
       "\n",
       "// Listen for the clearing of the current output cell\n",
       "var outputEl = gd.closest('.output');\n",
       "if (outputEl) {{\n",
       "    x.observe(outputEl, {childList: true});\n",
       "}}\n",
       "\n",
       "                        })                };                });            </script>        </div>"
      ]
     },
     "metadata": {},
     "output_type": "display_data"
    }
   ],
   "source": [
    "df['cluster'] = kmedoids.labels_\n",
    "fig = px.scatter_3d(df, x='Happiness score',y = 'Explained by: GDP per capita', z='Explained by: Social support', color = 'cluster')\n",
    "fig.show()"
   ]
  },
  {
   "cell_type": "code",
   "execution_count": 47,
   "id": "d14c8642",
   "metadata": {},
   "outputs": [
    {
     "data": {
      "application/vnd.plotly.v1+json": {
       "config": {
        "plotlyServerURL": "https://plot.ly"
       },
       "data": [
        {
         "hovertemplate": "Happiness score=%{x}<br>Explained by: GDP per capita=%{y}<br>Explained by: Social support=%{z}<br>cluster=%{marker.color}<extra></extra>",
         "legendgroup": "",
         "marker": {
          "color": [
           -1,
           0,
           -1,
           0,
           0,
           0,
           0,
           0,
           -1,
           0,
           0,
           0,
           0,
           0,
           0,
           -1,
           0,
           -1,
           1,
           -1,
           -1,
           2,
           -1,
           -1,
           -1,
           1,
           -1,
           1,
           1,
           -1,
           1,
           -1,
           2,
           1,
           1,
           -1,
           1,
           1,
           -1,
           1,
           1,
           1,
           -1,
           1,
           -1,
           1,
           1,
           1,
           -1,
           -1,
           1,
           1,
           -1,
           -1,
           -1,
           -1,
           1,
           -1,
           -1,
           1,
           -1,
           1,
           1,
           -1,
           -1,
           1,
           -1,
           -1,
           -1,
           -1,
           1,
           -1,
           -1,
           1,
           3,
           1,
           -1,
           -1,
           -1,
           3,
           -1,
           -1,
           -1,
           -1,
           -1,
           -1,
           -1,
           4,
           5,
           -1,
           -1,
           -1,
           -1,
           -1,
           -1,
           -1,
           -1,
           5,
           4,
           -1,
           6,
           7,
           -1,
           6,
           -1,
           -1,
           -1,
           -1,
           7,
           -1,
           -1,
           -1,
           7,
           -1,
           -1,
           -1,
           -1,
           -1,
           -1,
           -1,
           -1,
           8,
           -1,
           -1,
           -1,
           -1,
           -1,
           -1,
           9,
           -1,
           -1,
           -1,
           8,
           9,
           -1,
           -1,
           -1,
           -1,
           -1,
           -1,
           -1,
           -1,
           -1,
           -1,
           -1,
           -1
          ],
          "coloraxis": "coloraxis",
          "symbol": "circle"
         },
         "mode": "markers",
         "name": "",
         "scene": "scene",
         "showlegend": false,
         "type": "scatter3d",
         "x": [
          2.093430929058579,
          1.9226271404568456,
          1.8496893064052946,
          1.8081424389075758,
          1.718585857856937,
          1.7084299569130503,
          1.6899646824696197,
          1.6724226717483606,
          1.671499408026189,
          1.5200841575900579,
          1.4859233998697112,
          1.4850001361475396,
          1.3732852257647843,
          1.3668223797095835,
          1.35851300621004,
          1.3141963475458063,
          1.2828053809919742,
          1.261570315382029,
          1.1553949873323028,
          1.046449868116062,
          1.009519319229201,
          0.9938238359522849,
          0.9495071772880513,
          0.9439675949550221,
          0.895034617679931,
          0.8848787167360441,
          0.8553342776265551,
          0.8525644864600405,
          0.851641222737869,
          0.8497946952935259,
          0.8433318492383252,
          0.8322526845722668,
          0.8248665747948946,
          0.823943311072723,
          0.7731638063532887,
          0.7270006202447122,
          0.6974561811352232,
          0.6826839615804787,
          0.6540627861931612,
          0.6282114019723584,
          0.6162089735841284,
          0.5783551609750957,
          0.5765086335307525,
          0.5709690511977233,
          0.5645062051425227,
          0.5303454474221759,
          0.5275756562556614,
          0.5257291288113183,
          0.5229593376448037,
          0.5100336455344023,
          0.4915683710909717,
          0.47771941525839867,
          0.4703333054810264,
          0.44817497614890967,
          0.4324794928719936,
          0.42693991053896446,
          0.3816999881525594,
          0.3641579774313003,
          0.3521555490430704,
          0.3235343736557529,
          0.311531945267523,
          0.2801409787136909,
          0.2736781326584902,
          0.2533663307707165,
          0.2469034847155158,
          0.2099729358286545,
          0.1979705074404246,
          0.19150766138522388,
          0.16934933205310712,
          0.14534447527664732,
          0.042862202115607304,
          0.029013246283034328,
          0.022550400227833608,
          0.005008389506574508,
          -0.006070775159483871,
          -0.01899646726988531,
          -0.06331312593411884,
          -0.07346902687800567,
          -0.0799318729332064,
          -0.08731798271057865,
          -0.11870894926441072,
          -0.14271380604087056,
          -0.16302560792864423,
          -0.16302560792864423,
          -0.16856519026167344,
          -0.20641900287070622,
          -0.28951273786614407,
          -0.2941290564770017,
          -0.3273665504751769,
          -0.3273665504751769,
          -0.3319828690860345,
          -0.3513714072516367,
          -0.3596807807511805,
          -0.36799015425072423,
          -0.38183911008329724,
          -0.3984578570823848,
          -0.3984578570823848,
          -0.433541878524903,
          -0.44185125202444675,
          -0.45570020785701976,
          -0.4667793725230781,
          -0.4667793725230781,
          -0.4686258999674212,
          -0.5083262400207971,
          -0.536024151685943,
          -0.5498731075185159,
          -0.565568590795432,
          -0.5803408103501765,
          -0.6117317769040086,
          -0.6145015680705231,
          -0.6292737876252676,
          -0.7474515440632238,
          -0.8157730595039171,
          -0.843470971169063,
          -0.859166454445979,
          -0.8720921465563805,
          -0.8776317288894097,
          -0.9247181787201578,
          -0.9330275522197016,
          -0.9579556727183329,
          -0.9579556727183329,
          -0.9884233755499935,
          -0.9921164304386796,
          -1.0105817048821102,
          -1.0687473193789168,
          -1.0705938468232599,
          -1.1001382859327489,
          -1.121373351542694,
          -1.1684598013734422,
          -1.2026205590937888,
          -1.2118531963155041,
          -1.2524768000910516,
          -1.293100403866599,
          -1.2940236675887704,
          -1.3309542164756316,
          -1.6402475634030949,
          -1.655943046680011,
          -1.6651756839017262,
          -1.7094923425659596,
          -1.8276700990039156,
          -1.8849124497785505,
          -1.9227662623875834,
          -2.110188797988404,
          -2.3622397941412325,
          -2.3991703430280937,
          -2.9078886539446076
         ],
         "y": [
          1.1459681005347757,
          1.291131340373806,
          1.2506760112383386,
          1.46485128313199,
          1.2720935384277037,
          1.900341002649081,
          1.2126004073461338,
          1.395839251077369,
          0.9889062344794313,
          1.050779090804264,
          1.2387773850220245,
          1.165005902480878,
          1.7099629831880576,
          1.222119308319185,
          1.131689749075199,
          1.360143372428427,
          1.0864749694532059,
          0.9627292568035406,
          1.1816639791837176,
          1.0769560684801547,
          1.0555385412907896,
          0.9508306305872266,
          0.4130127256098353,
          1.3982189763206316,
          1.0936141451829942,
          1.1578667267510896,
          1.7575574880533136,
          0.7342756334503124,
          0.946071180100701,
          0.48678420815098195,
          1.0079440364255337,
          -0.11528627839450478,
          1.0174629373985848,
          0.9365522791276498,
          0.7747309625857799,
          0.9103753014517592,
          0.7247567324772612,
          0.12268624593177455,
          -0.32470209980163056,
          0.61290964604391,
          0.9627292568035406,
          0.7652120616127287,
          0.33210206733890035,
          0.5724543169084425,
          -0.7268756659130426,
          0.33686151782542595,
          0.7009594800446333,
          0.8270849179375613,
          -0.34611962699099574,
          1.174524803453929,
          0.8032876655049335,
          0.4296708023126749,
          -0.45558698818108423,
          1.0103237616687963,
          -0.7125973144534659,
          0.8318443684240869,
          0.43205052755593765,
          0.6962000295581078,
          1.048399365561001,
          -0.33898045126120735,
          0.29640618868995844,
          0.01559860998494885,
          -0.2723481444498491,
          -0.8125457746705033,
          0.3606587702580539,
          0.09888899349914662,
          0.1369645973913513,
          -0.04151479585335819,
          0.30354536441974683,
          0.6628838761524286,
          -0.36753715418036087,
          0.23215360712186303,
          -0.003439191961153496,
          -0.03199589488030702,
          0.3868357479339446,
          -0.1390835308271327,
          -0.37705605515341206,
          0.175040201283556,
          0.9627292568035406,
          0.6533649751793774,
          1.3006502413468572,
          0.056053939120416334,
          -1.057657474726571,
          -1.0148224203478406,
          0.5105814605836099,
          0.15600239933745366,
          -0.06769177352924892,
          -0.7530526435889334,
          0.22501443139207467,
          0.0679525653367303,
          0.03463641193105119,
          0.11316734495872337,
          -1.4883877437571364,
          -0.8339633018598683,
          -0.4079924833158283,
          -0.11290655315124198,
          -1.8429668050032928,
          0.0013202585253720906,
          -1.0957330786187756,
          -0.48176396585697495,
          -1.9809908691125346,
          -1.0528980242400454,
          -1.136188407754243,
          -2.000028671058637,
          0.1345848721480885,
          0.11554707020198617,
          -0.2890062211526887,
          -3.3564720597184294,
          -1.3384650534315805,
          -0.0010594667178907028,
          -0.7102175892102031,
          0.7057189305311589,
          -1.5026660952167132,
          -0.9315320368336428,
          -1.138568132997506,
          -1.2170990660251781,
          -1.5074255457032388,
          -0.7887485222378753,
          -0.9005956086712266,
          -0.1438429813136583,
          -0.8601402795357591,
          -0.6245474804527426,
          -1.471729667054297,
          -0.2818670454229003,
          -0.32470209980163056,
          -0.8863172572116498,
          0.010839159498423264,
          -1.7620561467323577,
          -0.05341342206967215,
          -1.78109394867846,
          -1.4812485680273482,
          -1.712081916623839,
          -0.7387742921293566,
          -0.2057158376384909,
          -1.5217038971628156,
          -0.5793327008307495,
          -1.1433275834840315,
          -1.8144101020841392,
          -1.3384650534315805,
          -1.7239805428401531,
          -1.3598825806209456,
          0.22025498090554907,
          -1.4883877437571364,
          -1.102872254348564,
          -0.04389452109662098,
          -1.5526403253252319
         ],
         "z": [
          1.2614137574219553,
          1.2076812411075912,
          1.483508158187993,
          1.1467843892846454,
          1.0751410341988268,
          0.8924504787299892,
          1.0679766986902448,
          1.1933525700904275,
          1.1288735505131906,
          1.1790238990732638,
          0.9282721562728985,
          1.064394530935954,
          0.9318543240271894,
          0.6524452391924966,
          1.0106620146215899,
          0.9891690080958443,
          0.849464465678498,
          1.268578092930537,
          0.7169242587697334,
          1.1217092150046089,
          0.4410973416893316,
          1.2291742476333367,
          0.5306515355466049,
          0.26557112172907593,
          0.6667739102096604,
          0.6775204134725332,
          0.7921497816098431,
          0.3587074833406402,
          1.0930518729702814,
          0.9820046725872624,
          0.5234872000380231,
          0.154523921346057,
          0.9426008272900622,
          1.0679766986902448,
          1.168277395810391,
          1.168277395810391,
          0.7205064265240244,
          0.4948298580036956,
          -0.26817187366027306,
          1.1252913827588997,
          0.011237211174419691,
          1.1288735505131906,
          0.6452809036839148,
          0.6237878971581692,
          0.4410973416893316,
          -0.07115264717427176,
          0.9927511758501353,
          0.9605116660615168,
          -0.4938484421806018,
          0.27631762499194873,
          1.1718595635646818,
          0.7527459363126427,
          0.6667739102096604,
          0.6560274069467876,
          -0.0747348149285627,
          0.6166235616495873,
          0.7025955877525697,
          0.26557112172907593,
          -0.07115264717427176,
          0.02198371443729249,
          0.6811025812268241,
          0.36587181884922204,
          0.49841202575798654,
          0.7276707620326063,
          0.899614814238571,
          0.08288056626023835,
          0.580801884106678,
          1.0429015244102082,
          0.3479609800777674,
          0.11512007604885674,
          -0.09264565370001736,
          0.1867634311346754,
          0.8028962848727158,
          -0.14637817001438136,
          0.41960433516358603,
          -0.09622782145430829,
          0.09362706952311114,
          1.479925990433702,
          -0.0639883116656899,
          0.6775204134725332,
          0.17243476011751166,
          -0.3075757189574733,
          0.35512531558634924,
          -0.4365337581119469,
          0.9211078207643166,
          0.1330309148203114,
          -0.08189915043714456,
          -1.6616351300794459,
          -0.15354250552296322,
          -0.9308729082040956,
          0.6524452391924966,
          0.6703560779639514,
          -1.0204271020613689,
          -1.0455022763414055,
          -0.9022155661697682,
          0.22974944418616658,
          -0.8449008821011132,
          0.6273700649124601,
          -1.7941753369882103,
          -2.284932319326068,
          -0.8807225596440226,
          -0.8377365465925314,
          -1.3464043677018438,
          -1.2389393350731157,
          -1.0526666118499872,
          -0.6013134748093298,
          -0.8019148690496221,
          0.22258510867758471,
          -1.2174463285473702,
          -0.590566971546457,
          -1.1135634636729332,
          -0.14637817001438136,
          -1.221028496301661,
          -0.6228064813350754,
          -3.015694541201418,
          -1.5398414264335543,
          -0.11055649247147202,
          -0.6228064813350754,
          -1.0777417861300238,
          -1.1099812959186421,
          -1.7655179949538828,
          0.18318126338038446,
          -1.5147662521535177,
          -0.10339215696289016,
          -0.429369422603365,
          -0.27533620916885493,
          0.10079140503169301,
          -0.9344550759583865,
          -0.6228064813350754,
          -1.4323763938048262,
          -0.3469795642546736,
          0.4912476902494047,
          -0.14637817001438136,
          -0.6514638233694029,
          -2.0914952605943578,
          -1.8980582018626475,
          -1.17804248325017,
          -2.245528474028868,
          -1.1063991281643513,
          -1.7547714916910102,
          -0.2072750218373272,
          -0.325486557728928,
          -2.768524966155344,
          -0.7732575270152946,
          -1.4610337358391536,
          -3.244953277476038
         ]
        }
       ],
       "layout": {
        "coloraxis": {
         "colorbar": {
          "title": {
           "text": "cluster"
          }
         },
         "colorscale": [
          [
           0,
           "#0d0887"
          ],
          [
           0.1111111111111111,
           "#46039f"
          ],
          [
           0.2222222222222222,
           "#7201a8"
          ],
          [
           0.3333333333333333,
           "#9c179e"
          ],
          [
           0.4444444444444444,
           "#bd3786"
          ],
          [
           0.5555555555555556,
           "#d8576b"
          ],
          [
           0.6666666666666666,
           "#ed7953"
          ],
          [
           0.7777777777777778,
           "#fb9f3a"
          ],
          [
           0.8888888888888888,
           "#fdca26"
          ],
          [
           1,
           "#f0f921"
          ]
         ]
        },
        "legend": {
         "tracegroupgap": 0
        },
        "margin": {
         "t": 60
        },
        "scene": {
         "domain": {
          "x": [
           0,
           1
          ],
          "y": [
           0,
           1
          ]
         },
         "xaxis": {
          "title": {
           "text": "Happiness score"
          }
         },
         "yaxis": {
          "title": {
           "text": "Explained by: GDP per capita"
          }
         },
         "zaxis": {
          "title": {
           "text": "Explained by: Social support"
          }
         }
        },
        "template": {
         "data": {
          "bar": [
           {
            "error_x": {
             "color": "#2a3f5f"
            },
            "error_y": {
             "color": "#2a3f5f"
            },
            "marker": {
             "line": {
              "color": "#E5ECF6",
              "width": 0.5
             },
             "pattern": {
              "fillmode": "overlay",
              "size": 10,
              "solidity": 0.2
             }
            },
            "type": "bar"
           }
          ],
          "barpolar": [
           {
            "marker": {
             "line": {
              "color": "#E5ECF6",
              "width": 0.5
             },
             "pattern": {
              "fillmode": "overlay",
              "size": 10,
              "solidity": 0.2
             }
            },
            "type": "barpolar"
           }
          ],
          "carpet": [
           {
            "aaxis": {
             "endlinecolor": "#2a3f5f",
             "gridcolor": "white",
             "linecolor": "white",
             "minorgridcolor": "white",
             "startlinecolor": "#2a3f5f"
            },
            "baxis": {
             "endlinecolor": "#2a3f5f",
             "gridcolor": "white",
             "linecolor": "white",
             "minorgridcolor": "white",
             "startlinecolor": "#2a3f5f"
            },
            "type": "carpet"
           }
          ],
          "choropleth": [
           {
            "colorbar": {
             "outlinewidth": 0,
             "ticks": ""
            },
            "type": "choropleth"
           }
          ],
          "contour": [
           {
            "colorbar": {
             "outlinewidth": 0,
             "ticks": ""
            },
            "colorscale": [
             [
              0,
              "#0d0887"
             ],
             [
              0.1111111111111111,
              "#46039f"
             ],
             [
              0.2222222222222222,
              "#7201a8"
             ],
             [
              0.3333333333333333,
              "#9c179e"
             ],
             [
              0.4444444444444444,
              "#bd3786"
             ],
             [
              0.5555555555555556,
              "#d8576b"
             ],
             [
              0.6666666666666666,
              "#ed7953"
             ],
             [
              0.7777777777777778,
              "#fb9f3a"
             ],
             [
              0.8888888888888888,
              "#fdca26"
             ],
             [
              1,
              "#f0f921"
             ]
            ],
            "type": "contour"
           }
          ],
          "contourcarpet": [
           {
            "colorbar": {
             "outlinewidth": 0,
             "ticks": ""
            },
            "type": "contourcarpet"
           }
          ],
          "heatmap": [
           {
            "colorbar": {
             "outlinewidth": 0,
             "ticks": ""
            },
            "colorscale": [
             [
              0,
              "#0d0887"
             ],
             [
              0.1111111111111111,
              "#46039f"
             ],
             [
              0.2222222222222222,
              "#7201a8"
             ],
             [
              0.3333333333333333,
              "#9c179e"
             ],
             [
              0.4444444444444444,
              "#bd3786"
             ],
             [
              0.5555555555555556,
              "#d8576b"
             ],
             [
              0.6666666666666666,
              "#ed7953"
             ],
             [
              0.7777777777777778,
              "#fb9f3a"
             ],
             [
              0.8888888888888888,
              "#fdca26"
             ],
             [
              1,
              "#f0f921"
             ]
            ],
            "type": "heatmap"
           }
          ],
          "heatmapgl": [
           {
            "colorbar": {
             "outlinewidth": 0,
             "ticks": ""
            },
            "colorscale": [
             [
              0,
              "#0d0887"
             ],
             [
              0.1111111111111111,
              "#46039f"
             ],
             [
              0.2222222222222222,
              "#7201a8"
             ],
             [
              0.3333333333333333,
              "#9c179e"
             ],
             [
              0.4444444444444444,
              "#bd3786"
             ],
             [
              0.5555555555555556,
              "#d8576b"
             ],
             [
              0.6666666666666666,
              "#ed7953"
             ],
             [
              0.7777777777777778,
              "#fb9f3a"
             ],
             [
              0.8888888888888888,
              "#fdca26"
             ],
             [
              1,
              "#f0f921"
             ]
            ],
            "type": "heatmapgl"
           }
          ],
          "histogram": [
           {
            "marker": {
             "pattern": {
              "fillmode": "overlay",
              "size": 10,
              "solidity": 0.2
             }
            },
            "type": "histogram"
           }
          ],
          "histogram2d": [
           {
            "colorbar": {
             "outlinewidth": 0,
             "ticks": ""
            },
            "colorscale": [
             [
              0,
              "#0d0887"
             ],
             [
              0.1111111111111111,
              "#46039f"
             ],
             [
              0.2222222222222222,
              "#7201a8"
             ],
             [
              0.3333333333333333,
              "#9c179e"
             ],
             [
              0.4444444444444444,
              "#bd3786"
             ],
             [
              0.5555555555555556,
              "#d8576b"
             ],
             [
              0.6666666666666666,
              "#ed7953"
             ],
             [
              0.7777777777777778,
              "#fb9f3a"
             ],
             [
              0.8888888888888888,
              "#fdca26"
             ],
             [
              1,
              "#f0f921"
             ]
            ],
            "type": "histogram2d"
           }
          ],
          "histogram2dcontour": [
           {
            "colorbar": {
             "outlinewidth": 0,
             "ticks": ""
            },
            "colorscale": [
             [
              0,
              "#0d0887"
             ],
             [
              0.1111111111111111,
              "#46039f"
             ],
             [
              0.2222222222222222,
              "#7201a8"
             ],
             [
              0.3333333333333333,
              "#9c179e"
             ],
             [
              0.4444444444444444,
              "#bd3786"
             ],
             [
              0.5555555555555556,
              "#d8576b"
             ],
             [
              0.6666666666666666,
              "#ed7953"
             ],
             [
              0.7777777777777778,
              "#fb9f3a"
             ],
             [
              0.8888888888888888,
              "#fdca26"
             ],
             [
              1,
              "#f0f921"
             ]
            ],
            "type": "histogram2dcontour"
           }
          ],
          "mesh3d": [
           {
            "colorbar": {
             "outlinewidth": 0,
             "ticks": ""
            },
            "type": "mesh3d"
           }
          ],
          "parcoords": [
           {
            "line": {
             "colorbar": {
              "outlinewidth": 0,
              "ticks": ""
             }
            },
            "type": "parcoords"
           }
          ],
          "pie": [
           {
            "automargin": true,
            "type": "pie"
           }
          ],
          "scatter": [
           {
            "fillpattern": {
             "fillmode": "overlay",
             "size": 10,
             "solidity": 0.2
            },
            "type": "scatter"
           }
          ],
          "scatter3d": [
           {
            "line": {
             "colorbar": {
              "outlinewidth": 0,
              "ticks": ""
             }
            },
            "marker": {
             "colorbar": {
              "outlinewidth": 0,
              "ticks": ""
             }
            },
            "type": "scatter3d"
           }
          ],
          "scattercarpet": [
           {
            "marker": {
             "colorbar": {
              "outlinewidth": 0,
              "ticks": ""
             }
            },
            "type": "scattercarpet"
           }
          ],
          "scattergeo": [
           {
            "marker": {
             "colorbar": {
              "outlinewidth": 0,
              "ticks": ""
             }
            },
            "type": "scattergeo"
           }
          ],
          "scattergl": [
           {
            "marker": {
             "colorbar": {
              "outlinewidth": 0,
              "ticks": ""
             }
            },
            "type": "scattergl"
           }
          ],
          "scattermapbox": [
           {
            "marker": {
             "colorbar": {
              "outlinewidth": 0,
              "ticks": ""
             }
            },
            "type": "scattermapbox"
           }
          ],
          "scatterpolar": [
           {
            "marker": {
             "colorbar": {
              "outlinewidth": 0,
              "ticks": ""
             }
            },
            "type": "scatterpolar"
           }
          ],
          "scatterpolargl": [
           {
            "marker": {
             "colorbar": {
              "outlinewidth": 0,
              "ticks": ""
             }
            },
            "type": "scatterpolargl"
           }
          ],
          "scatterternary": [
           {
            "marker": {
             "colorbar": {
              "outlinewidth": 0,
              "ticks": ""
             }
            },
            "type": "scatterternary"
           }
          ],
          "surface": [
           {
            "colorbar": {
             "outlinewidth": 0,
             "ticks": ""
            },
            "colorscale": [
             [
              0,
              "#0d0887"
             ],
             [
              0.1111111111111111,
              "#46039f"
             ],
             [
              0.2222222222222222,
              "#7201a8"
             ],
             [
              0.3333333333333333,
              "#9c179e"
             ],
             [
              0.4444444444444444,
              "#bd3786"
             ],
             [
              0.5555555555555556,
              "#d8576b"
             ],
             [
              0.6666666666666666,
              "#ed7953"
             ],
             [
              0.7777777777777778,
              "#fb9f3a"
             ],
             [
              0.8888888888888888,
              "#fdca26"
             ],
             [
              1,
              "#f0f921"
             ]
            ],
            "type": "surface"
           }
          ],
          "table": [
           {
            "cells": {
             "fill": {
              "color": "#EBF0F8"
             },
             "line": {
              "color": "white"
             }
            },
            "header": {
             "fill": {
              "color": "#C8D4E3"
             },
             "line": {
              "color": "white"
             }
            },
            "type": "table"
           }
          ]
         },
         "layout": {
          "annotationdefaults": {
           "arrowcolor": "#2a3f5f",
           "arrowhead": 0,
           "arrowwidth": 1
          },
          "autotypenumbers": "strict",
          "coloraxis": {
           "colorbar": {
            "outlinewidth": 0,
            "ticks": ""
           }
          },
          "colorscale": {
           "diverging": [
            [
             0,
             "#8e0152"
            ],
            [
             0.1,
             "#c51b7d"
            ],
            [
             0.2,
             "#de77ae"
            ],
            [
             0.3,
             "#f1b6da"
            ],
            [
             0.4,
             "#fde0ef"
            ],
            [
             0.5,
             "#f7f7f7"
            ],
            [
             0.6,
             "#e6f5d0"
            ],
            [
             0.7,
             "#b8e186"
            ],
            [
             0.8,
             "#7fbc41"
            ],
            [
             0.9,
             "#4d9221"
            ],
            [
             1,
             "#276419"
            ]
           ],
           "sequential": [
            [
             0,
             "#0d0887"
            ],
            [
             0.1111111111111111,
             "#46039f"
            ],
            [
             0.2222222222222222,
             "#7201a8"
            ],
            [
             0.3333333333333333,
             "#9c179e"
            ],
            [
             0.4444444444444444,
             "#bd3786"
            ],
            [
             0.5555555555555556,
             "#d8576b"
            ],
            [
             0.6666666666666666,
             "#ed7953"
            ],
            [
             0.7777777777777778,
             "#fb9f3a"
            ],
            [
             0.8888888888888888,
             "#fdca26"
            ],
            [
             1,
             "#f0f921"
            ]
           ],
           "sequentialminus": [
            [
             0,
             "#0d0887"
            ],
            [
             0.1111111111111111,
             "#46039f"
            ],
            [
             0.2222222222222222,
             "#7201a8"
            ],
            [
             0.3333333333333333,
             "#9c179e"
            ],
            [
             0.4444444444444444,
             "#bd3786"
            ],
            [
             0.5555555555555556,
             "#d8576b"
            ],
            [
             0.6666666666666666,
             "#ed7953"
            ],
            [
             0.7777777777777778,
             "#fb9f3a"
            ],
            [
             0.8888888888888888,
             "#fdca26"
            ],
            [
             1,
             "#f0f921"
            ]
           ]
          },
          "colorway": [
           "#636efa",
           "#EF553B",
           "#00cc96",
           "#ab63fa",
           "#FFA15A",
           "#19d3f3",
           "#FF6692",
           "#B6E880",
           "#FF97FF",
           "#FECB52"
          ],
          "font": {
           "color": "#2a3f5f"
          },
          "geo": {
           "bgcolor": "white",
           "lakecolor": "white",
           "landcolor": "#E5ECF6",
           "showlakes": true,
           "showland": true,
           "subunitcolor": "white"
          },
          "hoverlabel": {
           "align": "left"
          },
          "hovermode": "closest",
          "mapbox": {
           "style": "light"
          },
          "paper_bgcolor": "white",
          "plot_bgcolor": "#E5ECF6",
          "polar": {
           "angularaxis": {
            "gridcolor": "white",
            "linecolor": "white",
            "ticks": ""
           },
           "bgcolor": "#E5ECF6",
           "radialaxis": {
            "gridcolor": "white",
            "linecolor": "white",
            "ticks": ""
           }
          },
          "scene": {
           "xaxis": {
            "backgroundcolor": "#E5ECF6",
            "gridcolor": "white",
            "gridwidth": 2,
            "linecolor": "white",
            "showbackground": true,
            "ticks": "",
            "zerolinecolor": "white"
           },
           "yaxis": {
            "backgroundcolor": "#E5ECF6",
            "gridcolor": "white",
            "gridwidth": 2,
            "linecolor": "white",
            "showbackground": true,
            "ticks": "",
            "zerolinecolor": "white"
           },
           "zaxis": {
            "backgroundcolor": "#E5ECF6",
            "gridcolor": "white",
            "gridwidth": 2,
            "linecolor": "white",
            "showbackground": true,
            "ticks": "",
            "zerolinecolor": "white"
           }
          },
          "shapedefaults": {
           "line": {
            "color": "#2a3f5f"
           }
          },
          "ternary": {
           "aaxis": {
            "gridcolor": "white",
            "linecolor": "white",
            "ticks": ""
           },
           "baxis": {
            "gridcolor": "white",
            "linecolor": "white",
            "ticks": ""
           },
           "bgcolor": "#E5ECF6",
           "caxis": {
            "gridcolor": "white",
            "linecolor": "white",
            "ticks": ""
           }
          },
          "title": {
           "x": 0.05
          },
          "xaxis": {
           "automargin": true,
           "gridcolor": "white",
           "linecolor": "white",
           "ticks": "",
           "title": {
            "standoff": 15
           },
           "zerolinecolor": "white",
           "zerolinewidth": 2
          },
          "yaxis": {
           "automargin": true,
           "gridcolor": "white",
           "linecolor": "white",
           "ticks": "",
           "title": {
            "standoff": 15
           },
           "zerolinecolor": "white",
           "zerolinewidth": 2
          }
         }
        }
       }
      },
      "text/html": [
       "<div>                            <div id=\"6522e2d6-ef30-4710-9f3d-00e8dfe96b18\" class=\"plotly-graph-div\" style=\"height:525px; width:100%;\"></div>            <script type=\"text/javascript\">                require([\"plotly\"], function(Plotly) {                    window.PLOTLYENV=window.PLOTLYENV || {};                                    if (document.getElementById(\"6522e2d6-ef30-4710-9f3d-00e8dfe96b18\")) {                    Plotly.newPlot(                        \"6522e2d6-ef30-4710-9f3d-00e8dfe96b18\",                        [{\"hovertemplate\":\"Happiness score=%{x}<br>Explained by: GDP per capita=%{y}<br>Explained by: Social support=%{z}<br>cluster=%{marker.color}<extra></extra>\",\"legendgroup\":\"\",\"marker\":{\"color\":[-1,0,-1,0,0,0,0,0,-1,0,0,0,0,0,0,-1,0,-1,1,-1,-1,2,-1,-1,-1,1,-1,1,1,-1,1,-1,2,1,1,-1,1,1,-1,1,1,1,-1,1,-1,1,1,1,-1,-1,1,1,-1,-1,-1,-1,1,-1,-1,1,-1,1,1,-1,-1,1,-1,-1,-1,-1,1,-1,-1,1,3,1,-1,-1,-1,3,-1,-1,-1,-1,-1,-1,-1,4,5,-1,-1,-1,-1,-1,-1,-1,-1,5,4,-1,6,7,-1,6,-1,-1,-1,-1,7,-1,-1,-1,7,-1,-1,-1,-1,-1,-1,-1,-1,8,-1,-1,-1,-1,-1,-1,9,-1,-1,-1,8,9,-1,-1,-1,-1,-1,-1,-1,-1,-1,-1,-1,-1],\"coloraxis\":\"coloraxis\",\"symbol\":\"circle\"},\"mode\":\"markers\",\"name\":\"\",\"scene\":\"scene\",\"showlegend\":false,\"x\":[2.093430929058579,1.9226271404568456,1.8496893064052946,1.8081424389075758,1.718585857856937,1.7084299569130503,1.6899646824696197,1.6724226717483606,1.671499408026189,1.5200841575900579,1.4859233998697112,1.4850001361475396,1.3732852257647843,1.3668223797095835,1.35851300621004,1.3141963475458063,1.2828053809919742,1.261570315382029,1.1553949873323028,1.046449868116062,1.009519319229201,0.9938238359522849,0.9495071772880513,0.9439675949550221,0.895034617679931,0.8848787167360441,0.8553342776265551,0.8525644864600405,0.851641222737869,0.8497946952935259,0.8433318492383252,0.8322526845722668,0.8248665747948946,0.823943311072723,0.7731638063532887,0.7270006202447122,0.6974561811352232,0.6826839615804787,0.6540627861931612,0.6282114019723584,0.6162089735841284,0.5783551609750957,0.5765086335307525,0.5709690511977233,0.5645062051425227,0.5303454474221759,0.5275756562556614,0.5257291288113183,0.5229593376448037,0.5100336455344023,0.4915683710909717,0.47771941525839867,0.4703333054810264,0.44817497614890967,0.4324794928719936,0.42693991053896446,0.3816999881525594,0.3641579774313003,0.3521555490430704,0.3235343736557529,0.311531945267523,0.2801409787136909,0.2736781326584902,0.2533663307707165,0.2469034847155158,0.2099729358286545,0.1979705074404246,0.19150766138522388,0.16934933205310712,0.14534447527664732,0.042862202115607304,0.029013246283034328,0.022550400227833608,0.005008389506574508,-0.006070775159483871,-0.01899646726988531,-0.06331312593411884,-0.07346902687800567,-0.0799318729332064,-0.08731798271057865,-0.11870894926441072,-0.14271380604087056,-0.16302560792864423,-0.16302560792864423,-0.16856519026167344,-0.20641900287070622,-0.28951273786614407,-0.2941290564770017,-0.3273665504751769,-0.3273665504751769,-0.3319828690860345,-0.3513714072516367,-0.3596807807511805,-0.36799015425072423,-0.38183911008329724,-0.3984578570823848,-0.3984578570823848,-0.433541878524903,-0.44185125202444675,-0.45570020785701976,-0.4667793725230781,-0.4667793725230781,-0.4686258999674212,-0.5083262400207971,-0.536024151685943,-0.5498731075185159,-0.565568590795432,-0.5803408103501765,-0.6117317769040086,-0.6145015680705231,-0.6292737876252676,-0.7474515440632238,-0.8157730595039171,-0.843470971169063,-0.859166454445979,-0.8720921465563805,-0.8776317288894097,-0.9247181787201578,-0.9330275522197016,-0.9579556727183329,-0.9579556727183329,-0.9884233755499935,-0.9921164304386796,-1.0105817048821102,-1.0687473193789168,-1.0705938468232599,-1.1001382859327489,-1.121373351542694,-1.1684598013734422,-1.2026205590937888,-1.2118531963155041,-1.2524768000910516,-1.293100403866599,-1.2940236675887704,-1.3309542164756316,-1.6402475634030949,-1.655943046680011,-1.6651756839017262,-1.7094923425659596,-1.8276700990039156,-1.8849124497785505,-1.9227662623875834,-2.110188797988404,-2.3622397941412325,-2.3991703430280937,-2.9078886539446076],\"y\":[1.1459681005347757,1.291131340373806,1.2506760112383386,1.46485128313199,1.2720935384277037,1.900341002649081,1.2126004073461338,1.395839251077369,0.9889062344794313,1.050779090804264,1.2387773850220245,1.165005902480878,1.7099629831880576,1.222119308319185,1.131689749075199,1.360143372428427,1.0864749694532059,0.9627292568035406,1.1816639791837176,1.0769560684801547,1.0555385412907896,0.9508306305872266,0.4130127256098353,1.3982189763206316,1.0936141451829942,1.1578667267510896,1.7575574880533136,0.7342756334503124,0.946071180100701,0.48678420815098195,1.0079440364255337,-0.11528627839450478,1.0174629373985848,0.9365522791276498,0.7747309625857799,0.9103753014517592,0.7247567324772612,0.12268624593177455,-0.32470209980163056,0.61290964604391,0.9627292568035406,0.7652120616127287,0.33210206733890035,0.5724543169084425,-0.7268756659130426,0.33686151782542595,0.7009594800446333,0.8270849179375613,-0.34611962699099574,1.174524803453929,0.8032876655049335,0.4296708023126749,-0.45558698818108423,1.0103237616687963,-0.7125973144534659,0.8318443684240869,0.43205052755593765,0.6962000295581078,1.048399365561001,-0.33898045126120735,0.29640618868995844,0.01559860998494885,-0.2723481444498491,-0.8125457746705033,0.3606587702580539,0.09888899349914662,0.1369645973913513,-0.04151479585335819,0.30354536441974683,0.6628838761524286,-0.36753715418036087,0.23215360712186303,-0.003439191961153496,-0.03199589488030702,0.3868357479339446,-0.1390835308271327,-0.37705605515341206,0.175040201283556,0.9627292568035406,0.6533649751793774,1.3006502413468572,0.056053939120416334,-1.057657474726571,-1.0148224203478406,0.5105814605836099,0.15600239933745366,-0.06769177352924892,-0.7530526435889334,0.22501443139207467,0.0679525653367303,0.03463641193105119,0.11316734495872337,-1.4883877437571364,-0.8339633018598683,-0.4079924833158283,-0.11290655315124198,-1.8429668050032928,0.0013202585253720906,-1.0957330786187756,-0.48176396585697495,-1.9809908691125346,-1.0528980242400454,-1.136188407754243,-2.000028671058637,0.1345848721480885,0.11554707020198617,-0.2890062211526887,-3.3564720597184294,-1.3384650534315805,-0.0010594667178907028,-0.7102175892102031,0.7057189305311589,-1.5026660952167132,-0.9315320368336428,-1.138568132997506,-1.2170990660251781,-1.5074255457032388,-0.7887485222378753,-0.9005956086712266,-0.1438429813136583,-0.8601402795357591,-0.6245474804527426,-1.471729667054297,-0.2818670454229003,-0.32470209980163056,-0.8863172572116498,0.010839159498423264,-1.7620561467323577,-0.05341342206967215,-1.78109394867846,-1.4812485680273482,-1.712081916623839,-0.7387742921293566,-0.2057158376384909,-1.5217038971628156,-0.5793327008307495,-1.1433275834840315,-1.8144101020841392,-1.3384650534315805,-1.7239805428401531,-1.3598825806209456,0.22025498090554907,-1.4883877437571364,-1.102872254348564,-0.04389452109662098,-1.5526403253252319],\"z\":[1.2614137574219553,1.2076812411075912,1.483508158187993,1.1467843892846454,1.0751410341988268,0.8924504787299892,1.0679766986902448,1.1933525700904275,1.1288735505131906,1.1790238990732638,0.9282721562728985,1.064394530935954,0.9318543240271894,0.6524452391924966,1.0106620146215899,0.9891690080958443,0.849464465678498,1.268578092930537,0.7169242587697334,1.1217092150046089,0.4410973416893316,1.2291742476333367,0.5306515355466049,0.26557112172907593,0.6667739102096604,0.6775204134725332,0.7921497816098431,0.3587074833406402,1.0930518729702814,0.9820046725872624,0.5234872000380231,0.154523921346057,0.9426008272900622,1.0679766986902448,1.168277395810391,1.168277395810391,0.7205064265240244,0.4948298580036956,-0.26817187366027306,1.1252913827588997,0.011237211174419691,1.1288735505131906,0.6452809036839148,0.6237878971581692,0.4410973416893316,-0.07115264717427176,0.9927511758501353,0.9605116660615168,-0.4938484421806018,0.27631762499194873,1.1718595635646818,0.7527459363126427,0.6667739102096604,0.6560274069467876,-0.0747348149285627,0.6166235616495873,0.7025955877525697,0.26557112172907593,-0.07115264717427176,0.02198371443729249,0.6811025812268241,0.36587181884922204,0.49841202575798654,0.7276707620326063,0.899614814238571,0.08288056626023835,0.580801884106678,1.0429015244102082,0.3479609800777674,0.11512007604885674,-0.09264565370001736,0.1867634311346754,0.8028962848727158,-0.14637817001438136,0.41960433516358603,-0.09622782145430829,0.09362706952311114,1.479925990433702,-0.0639883116656899,0.6775204134725332,0.17243476011751166,-0.3075757189574733,0.35512531558634924,-0.4365337581119469,0.9211078207643166,0.1330309148203114,-0.08189915043714456,-1.6616351300794459,-0.15354250552296322,-0.9308729082040956,0.6524452391924966,0.6703560779639514,-1.0204271020613689,-1.0455022763414055,-0.9022155661697682,0.22974944418616658,-0.8449008821011132,0.6273700649124601,-1.7941753369882103,-2.284932319326068,-0.8807225596440226,-0.8377365465925314,-1.3464043677018438,-1.2389393350731157,-1.0526666118499872,-0.6013134748093298,-0.8019148690496221,0.22258510867758471,-1.2174463285473702,-0.590566971546457,-1.1135634636729332,-0.14637817001438136,-1.221028496301661,-0.6228064813350754,-3.015694541201418,-1.5398414264335543,-0.11055649247147202,-0.6228064813350754,-1.0777417861300238,-1.1099812959186421,-1.7655179949538828,0.18318126338038446,-1.5147662521535177,-0.10339215696289016,-0.429369422603365,-0.27533620916885493,0.10079140503169301,-0.9344550759583865,-0.6228064813350754,-1.4323763938048262,-0.3469795642546736,0.4912476902494047,-0.14637817001438136,-0.6514638233694029,-2.0914952605943578,-1.8980582018626475,-1.17804248325017,-2.245528474028868,-1.1063991281643513,-1.7547714916910102,-0.2072750218373272,-0.325486557728928,-2.768524966155344,-0.7732575270152946,-1.4610337358391536,-3.244953277476038],\"type\":\"scatter3d\"}],                        {\"template\":{\"data\":{\"histogram2dcontour\":[{\"type\":\"histogram2dcontour\",\"colorbar\":{\"outlinewidth\":0,\"ticks\":\"\"},\"colorscale\":[[0.0,\"#0d0887\"],[0.1111111111111111,\"#46039f\"],[0.2222222222222222,\"#7201a8\"],[0.3333333333333333,\"#9c179e\"],[0.4444444444444444,\"#bd3786\"],[0.5555555555555556,\"#d8576b\"],[0.6666666666666666,\"#ed7953\"],[0.7777777777777778,\"#fb9f3a\"],[0.8888888888888888,\"#fdca26\"],[1.0,\"#f0f921\"]]}],\"choropleth\":[{\"type\":\"choropleth\",\"colorbar\":{\"outlinewidth\":0,\"ticks\":\"\"}}],\"histogram2d\":[{\"type\":\"histogram2d\",\"colorbar\":{\"outlinewidth\":0,\"ticks\":\"\"},\"colorscale\":[[0.0,\"#0d0887\"],[0.1111111111111111,\"#46039f\"],[0.2222222222222222,\"#7201a8\"],[0.3333333333333333,\"#9c179e\"],[0.4444444444444444,\"#bd3786\"],[0.5555555555555556,\"#d8576b\"],[0.6666666666666666,\"#ed7953\"],[0.7777777777777778,\"#fb9f3a\"],[0.8888888888888888,\"#fdca26\"],[1.0,\"#f0f921\"]]}],\"heatmap\":[{\"type\":\"heatmap\",\"colorbar\":{\"outlinewidth\":0,\"ticks\":\"\"},\"colorscale\":[[0.0,\"#0d0887\"],[0.1111111111111111,\"#46039f\"],[0.2222222222222222,\"#7201a8\"],[0.3333333333333333,\"#9c179e\"],[0.4444444444444444,\"#bd3786\"],[0.5555555555555556,\"#d8576b\"],[0.6666666666666666,\"#ed7953\"],[0.7777777777777778,\"#fb9f3a\"],[0.8888888888888888,\"#fdca26\"],[1.0,\"#f0f921\"]]}],\"heatmapgl\":[{\"type\":\"heatmapgl\",\"colorbar\":{\"outlinewidth\":0,\"ticks\":\"\"},\"colorscale\":[[0.0,\"#0d0887\"],[0.1111111111111111,\"#46039f\"],[0.2222222222222222,\"#7201a8\"],[0.3333333333333333,\"#9c179e\"],[0.4444444444444444,\"#bd3786\"],[0.5555555555555556,\"#d8576b\"],[0.6666666666666666,\"#ed7953\"],[0.7777777777777778,\"#fb9f3a\"],[0.8888888888888888,\"#fdca26\"],[1.0,\"#f0f921\"]]}],\"contourcarpet\":[{\"type\":\"contourcarpet\",\"colorbar\":{\"outlinewidth\":0,\"ticks\":\"\"}}],\"contour\":[{\"type\":\"contour\",\"colorbar\":{\"outlinewidth\":0,\"ticks\":\"\"},\"colorscale\":[[0.0,\"#0d0887\"],[0.1111111111111111,\"#46039f\"],[0.2222222222222222,\"#7201a8\"],[0.3333333333333333,\"#9c179e\"],[0.4444444444444444,\"#bd3786\"],[0.5555555555555556,\"#d8576b\"],[0.6666666666666666,\"#ed7953\"],[0.7777777777777778,\"#fb9f3a\"],[0.8888888888888888,\"#fdca26\"],[1.0,\"#f0f921\"]]}],\"surface\":[{\"type\":\"surface\",\"colorbar\":{\"outlinewidth\":0,\"ticks\":\"\"},\"colorscale\":[[0.0,\"#0d0887\"],[0.1111111111111111,\"#46039f\"],[0.2222222222222222,\"#7201a8\"],[0.3333333333333333,\"#9c179e\"],[0.4444444444444444,\"#bd3786\"],[0.5555555555555556,\"#d8576b\"],[0.6666666666666666,\"#ed7953\"],[0.7777777777777778,\"#fb9f3a\"],[0.8888888888888888,\"#fdca26\"],[1.0,\"#f0f921\"]]}],\"mesh3d\":[{\"type\":\"mesh3d\",\"colorbar\":{\"outlinewidth\":0,\"ticks\":\"\"}}],\"scatter\":[{\"fillpattern\":{\"fillmode\":\"overlay\",\"size\":10,\"solidity\":0.2},\"type\":\"scatter\"}],\"parcoords\":[{\"type\":\"parcoords\",\"line\":{\"colorbar\":{\"outlinewidth\":0,\"ticks\":\"\"}}}],\"scatterpolargl\":[{\"type\":\"scatterpolargl\",\"marker\":{\"colorbar\":{\"outlinewidth\":0,\"ticks\":\"\"}}}],\"bar\":[{\"error_x\":{\"color\":\"#2a3f5f\"},\"error_y\":{\"color\":\"#2a3f5f\"},\"marker\":{\"line\":{\"color\":\"#E5ECF6\",\"width\":0.5},\"pattern\":{\"fillmode\":\"overlay\",\"size\":10,\"solidity\":0.2}},\"type\":\"bar\"}],\"scattergeo\":[{\"type\":\"scattergeo\",\"marker\":{\"colorbar\":{\"outlinewidth\":0,\"ticks\":\"\"}}}],\"scatterpolar\":[{\"type\":\"scatterpolar\",\"marker\":{\"colorbar\":{\"outlinewidth\":0,\"ticks\":\"\"}}}],\"histogram\":[{\"marker\":{\"pattern\":{\"fillmode\":\"overlay\",\"size\":10,\"solidity\":0.2}},\"type\":\"histogram\"}],\"scattergl\":[{\"type\":\"scattergl\",\"marker\":{\"colorbar\":{\"outlinewidth\":0,\"ticks\":\"\"}}}],\"scatter3d\":[{\"type\":\"scatter3d\",\"line\":{\"colorbar\":{\"outlinewidth\":0,\"ticks\":\"\"}},\"marker\":{\"colorbar\":{\"outlinewidth\":0,\"ticks\":\"\"}}}],\"scattermapbox\":[{\"type\":\"scattermapbox\",\"marker\":{\"colorbar\":{\"outlinewidth\":0,\"ticks\":\"\"}}}],\"scatterternary\":[{\"type\":\"scatterternary\",\"marker\":{\"colorbar\":{\"outlinewidth\":0,\"ticks\":\"\"}}}],\"scattercarpet\":[{\"type\":\"scattercarpet\",\"marker\":{\"colorbar\":{\"outlinewidth\":0,\"ticks\":\"\"}}}],\"carpet\":[{\"aaxis\":{\"endlinecolor\":\"#2a3f5f\",\"gridcolor\":\"white\",\"linecolor\":\"white\",\"minorgridcolor\":\"white\",\"startlinecolor\":\"#2a3f5f\"},\"baxis\":{\"endlinecolor\":\"#2a3f5f\",\"gridcolor\":\"white\",\"linecolor\":\"white\",\"minorgridcolor\":\"white\",\"startlinecolor\":\"#2a3f5f\"},\"type\":\"carpet\"}],\"table\":[{\"cells\":{\"fill\":{\"color\":\"#EBF0F8\"},\"line\":{\"color\":\"white\"}},\"header\":{\"fill\":{\"color\":\"#C8D4E3\"},\"line\":{\"color\":\"white\"}},\"type\":\"table\"}],\"barpolar\":[{\"marker\":{\"line\":{\"color\":\"#E5ECF6\",\"width\":0.5},\"pattern\":{\"fillmode\":\"overlay\",\"size\":10,\"solidity\":0.2}},\"type\":\"barpolar\"}],\"pie\":[{\"automargin\":true,\"type\":\"pie\"}]},\"layout\":{\"autotypenumbers\":\"strict\",\"colorway\":[\"#636efa\",\"#EF553B\",\"#00cc96\",\"#ab63fa\",\"#FFA15A\",\"#19d3f3\",\"#FF6692\",\"#B6E880\",\"#FF97FF\",\"#FECB52\"],\"font\":{\"color\":\"#2a3f5f\"},\"hovermode\":\"closest\",\"hoverlabel\":{\"align\":\"left\"},\"paper_bgcolor\":\"white\",\"plot_bgcolor\":\"#E5ECF6\",\"polar\":{\"bgcolor\":\"#E5ECF6\",\"angularaxis\":{\"gridcolor\":\"white\",\"linecolor\":\"white\",\"ticks\":\"\"},\"radialaxis\":{\"gridcolor\":\"white\",\"linecolor\":\"white\",\"ticks\":\"\"}},\"ternary\":{\"bgcolor\":\"#E5ECF6\",\"aaxis\":{\"gridcolor\":\"white\",\"linecolor\":\"white\",\"ticks\":\"\"},\"baxis\":{\"gridcolor\":\"white\",\"linecolor\":\"white\",\"ticks\":\"\"},\"caxis\":{\"gridcolor\":\"white\",\"linecolor\":\"white\",\"ticks\":\"\"}},\"coloraxis\":{\"colorbar\":{\"outlinewidth\":0,\"ticks\":\"\"}},\"colorscale\":{\"sequential\":[[0.0,\"#0d0887\"],[0.1111111111111111,\"#46039f\"],[0.2222222222222222,\"#7201a8\"],[0.3333333333333333,\"#9c179e\"],[0.4444444444444444,\"#bd3786\"],[0.5555555555555556,\"#d8576b\"],[0.6666666666666666,\"#ed7953\"],[0.7777777777777778,\"#fb9f3a\"],[0.8888888888888888,\"#fdca26\"],[1.0,\"#f0f921\"]],\"sequentialminus\":[[0.0,\"#0d0887\"],[0.1111111111111111,\"#46039f\"],[0.2222222222222222,\"#7201a8\"],[0.3333333333333333,\"#9c179e\"],[0.4444444444444444,\"#bd3786\"],[0.5555555555555556,\"#d8576b\"],[0.6666666666666666,\"#ed7953\"],[0.7777777777777778,\"#fb9f3a\"],[0.8888888888888888,\"#fdca26\"],[1.0,\"#f0f921\"]],\"diverging\":[[0,\"#8e0152\"],[0.1,\"#c51b7d\"],[0.2,\"#de77ae\"],[0.3,\"#f1b6da\"],[0.4,\"#fde0ef\"],[0.5,\"#f7f7f7\"],[0.6,\"#e6f5d0\"],[0.7,\"#b8e186\"],[0.8,\"#7fbc41\"],[0.9,\"#4d9221\"],[1,\"#276419\"]]},\"xaxis\":{\"gridcolor\":\"white\",\"linecolor\":\"white\",\"ticks\":\"\",\"title\":{\"standoff\":15},\"zerolinecolor\":\"white\",\"automargin\":true,\"zerolinewidth\":2},\"yaxis\":{\"gridcolor\":\"white\",\"linecolor\":\"white\",\"ticks\":\"\",\"title\":{\"standoff\":15},\"zerolinecolor\":\"white\",\"automargin\":true,\"zerolinewidth\":2},\"scene\":{\"xaxis\":{\"backgroundcolor\":\"#E5ECF6\",\"gridcolor\":\"white\",\"linecolor\":\"white\",\"showbackground\":true,\"ticks\":\"\",\"zerolinecolor\":\"white\",\"gridwidth\":2},\"yaxis\":{\"backgroundcolor\":\"#E5ECF6\",\"gridcolor\":\"white\",\"linecolor\":\"white\",\"showbackground\":true,\"ticks\":\"\",\"zerolinecolor\":\"white\",\"gridwidth\":2},\"zaxis\":{\"backgroundcolor\":\"#E5ECF6\",\"gridcolor\":\"white\",\"linecolor\":\"white\",\"showbackground\":true,\"ticks\":\"\",\"zerolinecolor\":\"white\",\"gridwidth\":2}},\"shapedefaults\":{\"line\":{\"color\":\"#2a3f5f\"}},\"annotationdefaults\":{\"arrowcolor\":\"#2a3f5f\",\"arrowhead\":0,\"arrowwidth\":1},\"geo\":{\"bgcolor\":\"white\",\"landcolor\":\"#E5ECF6\",\"subunitcolor\":\"white\",\"showland\":true,\"showlakes\":true,\"lakecolor\":\"white\"},\"title\":{\"x\":0.05},\"mapbox\":{\"style\":\"light\"}}},\"scene\":{\"domain\":{\"x\":[0.0,1.0],\"y\":[0.0,1.0]},\"xaxis\":{\"title\":{\"text\":\"Happiness score\"}},\"yaxis\":{\"title\":{\"text\":\"Explained by: GDP per capita\"}},\"zaxis\":{\"title\":{\"text\":\"Explained by: Social support\"}}},\"coloraxis\":{\"colorbar\":{\"title\":{\"text\":\"cluster\"}},\"colorscale\":[[0.0,\"#0d0887\"],[0.1111111111111111,\"#46039f\"],[0.2222222222222222,\"#7201a8\"],[0.3333333333333333,\"#9c179e\"],[0.4444444444444444,\"#bd3786\"],[0.5555555555555556,\"#d8576b\"],[0.6666666666666666,\"#ed7953\"],[0.7777777777777778,\"#fb9f3a\"],[0.8888888888888888,\"#fdca26\"],[1.0,\"#f0f921\"]]},\"legend\":{\"tracegroupgap\":0},\"margin\":{\"t\":60}},                        {\"responsive\": true}                    ).then(function(){\n",
       "                            \n",
       "var gd = document.getElementById('6522e2d6-ef30-4710-9f3d-00e8dfe96b18');\n",
       "var x = new MutationObserver(function (mutations, observer) {{\n",
       "        var display = window.getComputedStyle(gd).display;\n",
       "        if (!display || display === 'none') {{\n",
       "            console.log([gd, 'removed!']);\n",
       "            Plotly.purge(gd);\n",
       "            observer.disconnect();\n",
       "        }}\n",
       "}});\n",
       "\n",
       "// Listen for the removal of the full notebook cells\n",
       "var notebookContainer = gd.closest('#notebook-container');\n",
       "if (notebookContainer) {{\n",
       "    x.observe(notebookContainer, {childList: true});\n",
       "}}\n",
       "\n",
       "// Listen for the clearing of the current output cell\n",
       "var outputEl = gd.closest('.output');\n",
       "if (outputEl) {{\n",
       "    x.observe(outputEl, {childList: true});\n",
       "}}\n",
       "\n",
       "                        })                };                });            </script>        </div>"
      ]
     },
     "metadata": {},
     "output_type": "display_data"
    }
   ],
   "source": [
    "df['cluster'] = dbscans.labels_\n",
    "fig = px.scatter_3d(df, x='Happiness score',y = 'Explained by: GDP per capita', z='Explained by: Social support', color = 'cluster')\n",
    "fig.show()"
   ]
  },
  {
   "cell_type": "code",
   "execution_count": 32,
   "id": "f5cddcfa",
   "metadata": {},
   "outputs": [
    {
     "data": {
      "application/vnd.plotly.v1+json": {
       "config": {
        "plotlyServerURL": "https://plot.ly"
       },
       "data": [
        {
         "hovertemplate": "Happiness score=%{x}<br>Explained by: GDP per capita=%{y}<br>Explained by: Social support=%{z}<br>cluster=%{marker.color}<extra></extra>",
         "legendgroup": "",
         "marker": {
          "color": [
           -1,
           2,
           -1,
           2,
           2,
           2,
           2,
           2,
           -1,
           2,
           2,
           2,
           2,
           2,
           2,
           -1,
           2,
           1,
           1,
           1,
           1,
           1,
           1,
           -1,
           1,
           1,
           -1,
           1,
           1,
           1,
           1,
           -1,
           1,
           1,
           1,
           -1,
           1,
           1,
           1,
           1,
           1,
           1,
           1,
           1,
           -1,
           1,
           1,
           1,
           -1,
           1,
           1,
           1,
           -1,
           -1,
           -1,
           -1,
           1,
           -1,
           1,
           1,
           -1,
           1,
           1,
           -1,
           -1,
           1,
           -1,
           -1,
           1,
           1,
           1,
           1,
           1,
           1,
           1,
           1,
           1,
           -1,
           -1,
           1,
           -1,
           1,
           -1,
           -1,
           1,
           1,
           -1,
           0,
           1,
           -1,
           -1,
           -1,
           -1,
           -1,
           -1,
           -1,
           0,
           1,
           0,
           -1,
           -1,
           0,
           0,
           0,
           -1,
           -1,
           -1,
           -1,
           0,
           -1,
           0,
           -1,
           0,
           -1,
           -1,
           0,
           0,
           0,
           -1,
           -1,
           0,
           -1,
           0,
           -1,
           -1,
           -1,
           -1,
           0,
           -1,
           0,
           -1,
           -1,
           -1,
           -1,
           0,
           -1,
           -1,
           -1,
           -1,
           -1,
           -1,
           -1,
           -1,
           -1,
           -1,
           -1
          ],
          "coloraxis": "coloraxis",
          "symbol": "circle"
         },
         "mode": "markers",
         "name": "",
         "scene": "scene",
         "showlegend": false,
         "type": "scatter3d",
         "x": [
          2.093430929058579,
          1.9226271404568456,
          1.8496893064052946,
          1.8081424389075758,
          1.718585857856937,
          1.7084299569130503,
          1.6899646824696197,
          1.6724226717483606,
          1.671499408026189,
          1.5200841575900579,
          1.4859233998697112,
          1.4850001361475396,
          1.3732852257647843,
          1.3668223797095835,
          1.35851300621004,
          1.3141963475458063,
          1.2828053809919742,
          1.261570315382029,
          1.1553949873323028,
          1.046449868116062,
          1.009519319229201,
          0.9938238359522849,
          0.9495071772880513,
          0.9439675949550221,
          0.895034617679931,
          0.8848787167360441,
          0.8553342776265551,
          0.8525644864600405,
          0.851641222737869,
          0.8497946952935259,
          0.8433318492383252,
          0.8322526845722668,
          0.8248665747948946,
          0.823943311072723,
          0.7731638063532887,
          0.7270006202447122,
          0.6974561811352232,
          0.6826839615804787,
          0.6540627861931612,
          0.6282114019723584,
          0.6162089735841284,
          0.5783551609750957,
          0.5765086335307525,
          0.5709690511977233,
          0.5645062051425227,
          0.5303454474221759,
          0.5275756562556614,
          0.5257291288113183,
          0.5229593376448037,
          0.5100336455344023,
          0.4915683710909717,
          0.47771941525839867,
          0.4703333054810264,
          0.44817497614890967,
          0.4324794928719936,
          0.42693991053896446,
          0.3816999881525594,
          0.3641579774313003,
          0.3521555490430704,
          0.3235343736557529,
          0.311531945267523,
          0.2801409787136909,
          0.2736781326584902,
          0.2533663307707165,
          0.2469034847155158,
          0.2099729358286545,
          0.1979705074404246,
          0.19150766138522388,
          0.16934933205310712,
          0.14534447527664732,
          0.042862202115607304,
          0.029013246283034328,
          0.022550400227833608,
          0.005008389506574508,
          -0.006070775159483871,
          -0.01899646726988531,
          -0.06331312593411884,
          -0.07346902687800567,
          -0.0799318729332064,
          -0.08731798271057865,
          -0.11870894926441072,
          -0.14271380604087056,
          -0.16302560792864423,
          -0.16302560792864423,
          -0.16856519026167344,
          -0.20641900287070622,
          -0.28951273786614407,
          -0.2941290564770017,
          -0.3273665504751769,
          -0.3273665504751769,
          -0.3319828690860345,
          -0.3513714072516367,
          -0.3596807807511805,
          -0.36799015425072423,
          -0.38183911008329724,
          -0.3984578570823848,
          -0.3984578570823848,
          -0.433541878524903,
          -0.44185125202444675,
          -0.45570020785701976,
          -0.4667793725230781,
          -0.4667793725230781,
          -0.4686258999674212,
          -0.5083262400207971,
          -0.536024151685943,
          -0.5498731075185159,
          -0.565568590795432,
          -0.5803408103501765,
          -0.6117317769040086,
          -0.6145015680705231,
          -0.6292737876252676,
          -0.7474515440632238,
          -0.8157730595039171,
          -0.843470971169063,
          -0.859166454445979,
          -0.8720921465563805,
          -0.8776317288894097,
          -0.9247181787201578,
          -0.9330275522197016,
          -0.9579556727183329,
          -0.9579556727183329,
          -0.9884233755499935,
          -0.9921164304386796,
          -1.0105817048821102,
          -1.0687473193789168,
          -1.0705938468232599,
          -1.1001382859327489,
          -1.121373351542694,
          -1.1684598013734422,
          -1.2026205590937888,
          -1.2118531963155041,
          -1.2524768000910516,
          -1.293100403866599,
          -1.2940236675887704,
          -1.3309542164756316,
          -1.6402475634030949,
          -1.655943046680011,
          -1.6651756839017262,
          -1.7094923425659596,
          -1.8276700990039156,
          -1.8849124497785505,
          -1.9227662623875834,
          -2.110188797988404,
          -2.3622397941412325,
          -2.3991703430280937,
          -2.9078886539446076
         ],
         "y": [
          1.1459681005347757,
          1.291131340373806,
          1.2506760112383386,
          1.46485128313199,
          1.2720935384277037,
          1.900341002649081,
          1.2126004073461338,
          1.395839251077369,
          0.9889062344794313,
          1.050779090804264,
          1.2387773850220245,
          1.165005902480878,
          1.7099629831880576,
          1.222119308319185,
          1.131689749075199,
          1.360143372428427,
          1.0864749694532059,
          0.9627292568035406,
          1.1816639791837176,
          1.0769560684801547,
          1.0555385412907896,
          0.9508306305872266,
          0.4130127256098353,
          1.3982189763206316,
          1.0936141451829942,
          1.1578667267510896,
          1.7575574880533136,
          0.7342756334503124,
          0.946071180100701,
          0.48678420815098195,
          1.0079440364255337,
          -0.11528627839450478,
          1.0174629373985848,
          0.9365522791276498,
          0.7747309625857799,
          0.9103753014517592,
          0.7247567324772612,
          0.12268624593177455,
          -0.32470209980163056,
          0.61290964604391,
          0.9627292568035406,
          0.7652120616127287,
          0.33210206733890035,
          0.5724543169084425,
          -0.7268756659130426,
          0.33686151782542595,
          0.7009594800446333,
          0.8270849179375613,
          -0.34611962699099574,
          1.174524803453929,
          0.8032876655049335,
          0.4296708023126749,
          -0.45558698818108423,
          1.0103237616687963,
          -0.7125973144534659,
          0.8318443684240869,
          0.43205052755593765,
          0.6962000295581078,
          1.048399365561001,
          -0.33898045126120735,
          0.29640618868995844,
          0.01559860998494885,
          -0.2723481444498491,
          -0.8125457746705033,
          0.3606587702580539,
          0.09888899349914662,
          0.1369645973913513,
          -0.04151479585335819,
          0.30354536441974683,
          0.6628838761524286,
          -0.36753715418036087,
          0.23215360712186303,
          -0.003439191961153496,
          -0.03199589488030702,
          0.3868357479339446,
          -0.1390835308271327,
          -0.37705605515341206,
          0.175040201283556,
          0.9627292568035406,
          0.6533649751793774,
          1.3006502413468572,
          0.056053939120416334,
          -1.057657474726571,
          -1.0148224203478406,
          0.5105814605836099,
          0.15600239933745366,
          -0.06769177352924892,
          -0.7530526435889334,
          0.22501443139207467,
          0.0679525653367303,
          0.03463641193105119,
          0.11316734495872337,
          -1.4883877437571364,
          -0.8339633018598683,
          -0.4079924833158283,
          -0.11290655315124198,
          -1.8429668050032928,
          0.0013202585253720906,
          -1.0957330786187756,
          -0.48176396585697495,
          -1.9809908691125346,
          -1.0528980242400454,
          -1.136188407754243,
          -2.000028671058637,
          0.1345848721480885,
          0.11554707020198617,
          -0.2890062211526887,
          -3.3564720597184294,
          -1.3384650534315805,
          -0.0010594667178907028,
          -0.7102175892102031,
          0.7057189305311589,
          -1.5026660952167132,
          -0.9315320368336428,
          -1.138568132997506,
          -1.2170990660251781,
          -1.5074255457032388,
          -0.7887485222378753,
          -0.9005956086712266,
          -0.1438429813136583,
          -0.8601402795357591,
          -0.6245474804527426,
          -1.471729667054297,
          -0.2818670454229003,
          -0.32470209980163056,
          -0.8863172572116498,
          0.010839159498423264,
          -1.7620561467323577,
          -0.05341342206967215,
          -1.78109394867846,
          -1.4812485680273482,
          -1.712081916623839,
          -0.7387742921293566,
          -0.2057158376384909,
          -1.5217038971628156,
          -0.5793327008307495,
          -1.1433275834840315,
          -1.8144101020841392,
          -1.3384650534315805,
          -1.7239805428401531,
          -1.3598825806209456,
          0.22025498090554907,
          -1.4883877437571364,
          -1.102872254348564,
          -0.04389452109662098,
          -1.5526403253252319
         ],
         "z": [
          1.2614137574219553,
          1.2076812411075912,
          1.483508158187993,
          1.1467843892846454,
          1.0751410341988268,
          0.8924504787299892,
          1.0679766986902448,
          1.1933525700904275,
          1.1288735505131906,
          1.1790238990732638,
          0.9282721562728985,
          1.064394530935954,
          0.9318543240271894,
          0.6524452391924966,
          1.0106620146215899,
          0.9891690080958443,
          0.849464465678498,
          1.268578092930537,
          0.7169242587697334,
          1.1217092150046089,
          0.4410973416893316,
          1.2291742476333367,
          0.5306515355466049,
          0.26557112172907593,
          0.6667739102096604,
          0.6775204134725332,
          0.7921497816098431,
          0.3587074833406402,
          1.0930518729702814,
          0.9820046725872624,
          0.5234872000380231,
          0.154523921346057,
          0.9426008272900622,
          1.0679766986902448,
          1.168277395810391,
          1.168277395810391,
          0.7205064265240244,
          0.4948298580036956,
          -0.26817187366027306,
          1.1252913827588997,
          0.011237211174419691,
          1.1288735505131906,
          0.6452809036839148,
          0.6237878971581692,
          0.4410973416893316,
          -0.07115264717427176,
          0.9927511758501353,
          0.9605116660615168,
          -0.4938484421806018,
          0.27631762499194873,
          1.1718595635646818,
          0.7527459363126427,
          0.6667739102096604,
          0.6560274069467876,
          -0.0747348149285627,
          0.6166235616495873,
          0.7025955877525697,
          0.26557112172907593,
          -0.07115264717427176,
          0.02198371443729249,
          0.6811025812268241,
          0.36587181884922204,
          0.49841202575798654,
          0.7276707620326063,
          0.899614814238571,
          0.08288056626023835,
          0.580801884106678,
          1.0429015244102082,
          0.3479609800777674,
          0.11512007604885674,
          -0.09264565370001736,
          0.1867634311346754,
          0.8028962848727158,
          -0.14637817001438136,
          0.41960433516358603,
          -0.09622782145430829,
          0.09362706952311114,
          1.479925990433702,
          -0.0639883116656899,
          0.6775204134725332,
          0.17243476011751166,
          -0.3075757189574733,
          0.35512531558634924,
          -0.4365337581119469,
          0.9211078207643166,
          0.1330309148203114,
          -0.08189915043714456,
          -1.6616351300794459,
          -0.15354250552296322,
          -0.9308729082040956,
          0.6524452391924966,
          0.6703560779639514,
          -1.0204271020613689,
          -1.0455022763414055,
          -0.9022155661697682,
          0.22974944418616658,
          -0.8449008821011132,
          0.6273700649124601,
          -1.7941753369882103,
          -2.284932319326068,
          -0.8807225596440226,
          -0.8377365465925314,
          -1.3464043677018438,
          -1.2389393350731157,
          -1.0526666118499872,
          -0.6013134748093298,
          -0.8019148690496221,
          0.22258510867758471,
          -1.2174463285473702,
          -0.590566971546457,
          -1.1135634636729332,
          -0.14637817001438136,
          -1.221028496301661,
          -0.6228064813350754,
          -3.015694541201418,
          -1.5398414264335543,
          -0.11055649247147202,
          -0.6228064813350754,
          -1.0777417861300238,
          -1.1099812959186421,
          -1.7655179949538828,
          0.18318126338038446,
          -1.5147662521535177,
          -0.10339215696289016,
          -0.429369422603365,
          -0.27533620916885493,
          0.10079140503169301,
          -0.9344550759583865,
          -0.6228064813350754,
          -1.4323763938048262,
          -0.3469795642546736,
          0.4912476902494047,
          -0.14637817001438136,
          -0.6514638233694029,
          -2.0914952605943578,
          -1.8980582018626475,
          -1.17804248325017,
          -2.245528474028868,
          -1.1063991281643513,
          -1.7547714916910102,
          -0.2072750218373272,
          -0.325486557728928,
          -2.768524966155344,
          -0.7732575270152946,
          -1.4610337358391536,
          -3.244953277476038
         ]
        }
       ],
       "layout": {
        "coloraxis": {
         "colorbar": {
          "title": {
           "text": "cluster"
          }
         },
         "colorscale": [
          [
           0,
           "#0d0887"
          ],
          [
           0.1111111111111111,
           "#46039f"
          ],
          [
           0.2222222222222222,
           "#7201a8"
          ],
          [
           0.3333333333333333,
           "#9c179e"
          ],
          [
           0.4444444444444444,
           "#bd3786"
          ],
          [
           0.5555555555555556,
           "#d8576b"
          ],
          [
           0.6666666666666666,
           "#ed7953"
          ],
          [
           0.7777777777777778,
           "#fb9f3a"
          ],
          [
           0.8888888888888888,
           "#fdca26"
          ],
          [
           1,
           "#f0f921"
          ]
         ]
        },
        "legend": {
         "tracegroupgap": 0
        },
        "margin": {
         "t": 60
        },
        "scene": {
         "domain": {
          "x": [
           0,
           1
          ],
          "y": [
           0,
           1
          ]
         },
         "xaxis": {
          "title": {
           "text": "Happiness score"
          }
         },
         "yaxis": {
          "title": {
           "text": "Explained by: GDP per capita"
          }
         },
         "zaxis": {
          "title": {
           "text": "Explained by: Social support"
          }
         }
        },
        "template": {
         "data": {
          "bar": [
           {
            "error_x": {
             "color": "#2a3f5f"
            },
            "error_y": {
             "color": "#2a3f5f"
            },
            "marker": {
             "line": {
              "color": "#E5ECF6",
              "width": 0.5
             },
             "pattern": {
              "fillmode": "overlay",
              "size": 10,
              "solidity": 0.2
             }
            },
            "type": "bar"
           }
          ],
          "barpolar": [
           {
            "marker": {
             "line": {
              "color": "#E5ECF6",
              "width": 0.5
             },
             "pattern": {
              "fillmode": "overlay",
              "size": 10,
              "solidity": 0.2
             }
            },
            "type": "barpolar"
           }
          ],
          "carpet": [
           {
            "aaxis": {
             "endlinecolor": "#2a3f5f",
             "gridcolor": "white",
             "linecolor": "white",
             "minorgridcolor": "white",
             "startlinecolor": "#2a3f5f"
            },
            "baxis": {
             "endlinecolor": "#2a3f5f",
             "gridcolor": "white",
             "linecolor": "white",
             "minorgridcolor": "white",
             "startlinecolor": "#2a3f5f"
            },
            "type": "carpet"
           }
          ],
          "choropleth": [
           {
            "colorbar": {
             "outlinewidth": 0,
             "ticks": ""
            },
            "type": "choropleth"
           }
          ],
          "contour": [
           {
            "colorbar": {
             "outlinewidth": 0,
             "ticks": ""
            },
            "colorscale": [
             [
              0,
              "#0d0887"
             ],
             [
              0.1111111111111111,
              "#46039f"
             ],
             [
              0.2222222222222222,
              "#7201a8"
             ],
             [
              0.3333333333333333,
              "#9c179e"
             ],
             [
              0.4444444444444444,
              "#bd3786"
             ],
             [
              0.5555555555555556,
              "#d8576b"
             ],
             [
              0.6666666666666666,
              "#ed7953"
             ],
             [
              0.7777777777777778,
              "#fb9f3a"
             ],
             [
              0.8888888888888888,
              "#fdca26"
             ],
             [
              1,
              "#f0f921"
             ]
            ],
            "type": "contour"
           }
          ],
          "contourcarpet": [
           {
            "colorbar": {
             "outlinewidth": 0,
             "ticks": ""
            },
            "type": "contourcarpet"
           }
          ],
          "heatmap": [
           {
            "colorbar": {
             "outlinewidth": 0,
             "ticks": ""
            },
            "colorscale": [
             [
              0,
              "#0d0887"
             ],
             [
              0.1111111111111111,
              "#46039f"
             ],
             [
              0.2222222222222222,
              "#7201a8"
             ],
             [
              0.3333333333333333,
              "#9c179e"
             ],
             [
              0.4444444444444444,
              "#bd3786"
             ],
             [
              0.5555555555555556,
              "#d8576b"
             ],
             [
              0.6666666666666666,
              "#ed7953"
             ],
             [
              0.7777777777777778,
              "#fb9f3a"
             ],
             [
              0.8888888888888888,
              "#fdca26"
             ],
             [
              1,
              "#f0f921"
             ]
            ],
            "type": "heatmap"
           }
          ],
          "heatmapgl": [
           {
            "colorbar": {
             "outlinewidth": 0,
             "ticks": ""
            },
            "colorscale": [
             [
              0,
              "#0d0887"
             ],
             [
              0.1111111111111111,
              "#46039f"
             ],
             [
              0.2222222222222222,
              "#7201a8"
             ],
             [
              0.3333333333333333,
              "#9c179e"
             ],
             [
              0.4444444444444444,
              "#bd3786"
             ],
             [
              0.5555555555555556,
              "#d8576b"
             ],
             [
              0.6666666666666666,
              "#ed7953"
             ],
             [
              0.7777777777777778,
              "#fb9f3a"
             ],
             [
              0.8888888888888888,
              "#fdca26"
             ],
             [
              1,
              "#f0f921"
             ]
            ],
            "type": "heatmapgl"
           }
          ],
          "histogram": [
           {
            "marker": {
             "pattern": {
              "fillmode": "overlay",
              "size": 10,
              "solidity": 0.2
             }
            },
            "type": "histogram"
           }
          ],
          "histogram2d": [
           {
            "colorbar": {
             "outlinewidth": 0,
             "ticks": ""
            },
            "colorscale": [
             [
              0,
              "#0d0887"
             ],
             [
              0.1111111111111111,
              "#46039f"
             ],
             [
              0.2222222222222222,
              "#7201a8"
             ],
             [
              0.3333333333333333,
              "#9c179e"
             ],
             [
              0.4444444444444444,
              "#bd3786"
             ],
             [
              0.5555555555555556,
              "#d8576b"
             ],
             [
              0.6666666666666666,
              "#ed7953"
             ],
             [
              0.7777777777777778,
              "#fb9f3a"
             ],
             [
              0.8888888888888888,
              "#fdca26"
             ],
             [
              1,
              "#f0f921"
             ]
            ],
            "type": "histogram2d"
           }
          ],
          "histogram2dcontour": [
           {
            "colorbar": {
             "outlinewidth": 0,
             "ticks": ""
            },
            "colorscale": [
             [
              0,
              "#0d0887"
             ],
             [
              0.1111111111111111,
              "#46039f"
             ],
             [
              0.2222222222222222,
              "#7201a8"
             ],
             [
              0.3333333333333333,
              "#9c179e"
             ],
             [
              0.4444444444444444,
              "#bd3786"
             ],
             [
              0.5555555555555556,
              "#d8576b"
             ],
             [
              0.6666666666666666,
              "#ed7953"
             ],
             [
              0.7777777777777778,
              "#fb9f3a"
             ],
             [
              0.8888888888888888,
              "#fdca26"
             ],
             [
              1,
              "#f0f921"
             ]
            ],
            "type": "histogram2dcontour"
           }
          ],
          "mesh3d": [
           {
            "colorbar": {
             "outlinewidth": 0,
             "ticks": ""
            },
            "type": "mesh3d"
           }
          ],
          "parcoords": [
           {
            "line": {
             "colorbar": {
              "outlinewidth": 0,
              "ticks": ""
             }
            },
            "type": "parcoords"
           }
          ],
          "pie": [
           {
            "automargin": true,
            "type": "pie"
           }
          ],
          "scatter": [
           {
            "fillpattern": {
             "fillmode": "overlay",
             "size": 10,
             "solidity": 0.2
            },
            "type": "scatter"
           }
          ],
          "scatter3d": [
           {
            "line": {
             "colorbar": {
              "outlinewidth": 0,
              "ticks": ""
             }
            },
            "marker": {
             "colorbar": {
              "outlinewidth": 0,
              "ticks": ""
             }
            },
            "type": "scatter3d"
           }
          ],
          "scattercarpet": [
           {
            "marker": {
             "colorbar": {
              "outlinewidth": 0,
              "ticks": ""
             }
            },
            "type": "scattercarpet"
           }
          ],
          "scattergeo": [
           {
            "marker": {
             "colorbar": {
              "outlinewidth": 0,
              "ticks": ""
             }
            },
            "type": "scattergeo"
           }
          ],
          "scattergl": [
           {
            "marker": {
             "colorbar": {
              "outlinewidth": 0,
              "ticks": ""
             }
            },
            "type": "scattergl"
           }
          ],
          "scattermapbox": [
           {
            "marker": {
             "colorbar": {
              "outlinewidth": 0,
              "ticks": ""
             }
            },
            "type": "scattermapbox"
           }
          ],
          "scatterpolar": [
           {
            "marker": {
             "colorbar": {
              "outlinewidth": 0,
              "ticks": ""
             }
            },
            "type": "scatterpolar"
           }
          ],
          "scatterpolargl": [
           {
            "marker": {
             "colorbar": {
              "outlinewidth": 0,
              "ticks": ""
             }
            },
            "type": "scatterpolargl"
           }
          ],
          "scatterternary": [
           {
            "marker": {
             "colorbar": {
              "outlinewidth": 0,
              "ticks": ""
             }
            },
            "type": "scatterternary"
           }
          ],
          "surface": [
           {
            "colorbar": {
             "outlinewidth": 0,
             "ticks": ""
            },
            "colorscale": [
             [
              0,
              "#0d0887"
             ],
             [
              0.1111111111111111,
              "#46039f"
             ],
             [
              0.2222222222222222,
              "#7201a8"
             ],
             [
              0.3333333333333333,
              "#9c179e"
             ],
             [
              0.4444444444444444,
              "#bd3786"
             ],
             [
              0.5555555555555556,
              "#d8576b"
             ],
             [
              0.6666666666666666,
              "#ed7953"
             ],
             [
              0.7777777777777778,
              "#fb9f3a"
             ],
             [
              0.8888888888888888,
              "#fdca26"
             ],
             [
              1,
              "#f0f921"
             ]
            ],
            "type": "surface"
           }
          ],
          "table": [
           {
            "cells": {
             "fill": {
              "color": "#EBF0F8"
             },
             "line": {
              "color": "white"
             }
            },
            "header": {
             "fill": {
              "color": "#C8D4E3"
             },
             "line": {
              "color": "white"
             }
            },
            "type": "table"
           }
          ]
         },
         "layout": {
          "annotationdefaults": {
           "arrowcolor": "#2a3f5f",
           "arrowhead": 0,
           "arrowwidth": 1
          },
          "autotypenumbers": "strict",
          "coloraxis": {
           "colorbar": {
            "outlinewidth": 0,
            "ticks": ""
           }
          },
          "colorscale": {
           "diverging": [
            [
             0,
             "#8e0152"
            ],
            [
             0.1,
             "#c51b7d"
            ],
            [
             0.2,
             "#de77ae"
            ],
            [
             0.3,
             "#f1b6da"
            ],
            [
             0.4,
             "#fde0ef"
            ],
            [
             0.5,
             "#f7f7f7"
            ],
            [
             0.6,
             "#e6f5d0"
            ],
            [
             0.7,
             "#b8e186"
            ],
            [
             0.8,
             "#7fbc41"
            ],
            [
             0.9,
             "#4d9221"
            ],
            [
             1,
             "#276419"
            ]
           ],
           "sequential": [
            [
             0,
             "#0d0887"
            ],
            [
             0.1111111111111111,
             "#46039f"
            ],
            [
             0.2222222222222222,
             "#7201a8"
            ],
            [
             0.3333333333333333,
             "#9c179e"
            ],
            [
             0.4444444444444444,
             "#bd3786"
            ],
            [
             0.5555555555555556,
             "#d8576b"
            ],
            [
             0.6666666666666666,
             "#ed7953"
            ],
            [
             0.7777777777777778,
             "#fb9f3a"
            ],
            [
             0.8888888888888888,
             "#fdca26"
            ],
            [
             1,
             "#f0f921"
            ]
           ],
           "sequentialminus": [
            [
             0,
             "#0d0887"
            ],
            [
             0.1111111111111111,
             "#46039f"
            ],
            [
             0.2222222222222222,
             "#7201a8"
            ],
            [
             0.3333333333333333,
             "#9c179e"
            ],
            [
             0.4444444444444444,
             "#bd3786"
            ],
            [
             0.5555555555555556,
             "#d8576b"
            ],
            [
             0.6666666666666666,
             "#ed7953"
            ],
            [
             0.7777777777777778,
             "#fb9f3a"
            ],
            [
             0.8888888888888888,
             "#fdca26"
            ],
            [
             1,
             "#f0f921"
            ]
           ]
          },
          "colorway": [
           "#636efa",
           "#EF553B",
           "#00cc96",
           "#ab63fa",
           "#FFA15A",
           "#19d3f3",
           "#FF6692",
           "#B6E880",
           "#FF97FF",
           "#FECB52"
          ],
          "font": {
           "color": "#2a3f5f"
          },
          "geo": {
           "bgcolor": "white",
           "lakecolor": "white",
           "landcolor": "#E5ECF6",
           "showlakes": true,
           "showland": true,
           "subunitcolor": "white"
          },
          "hoverlabel": {
           "align": "left"
          },
          "hovermode": "closest",
          "mapbox": {
           "style": "light"
          },
          "paper_bgcolor": "white",
          "plot_bgcolor": "#E5ECF6",
          "polar": {
           "angularaxis": {
            "gridcolor": "white",
            "linecolor": "white",
            "ticks": ""
           },
           "bgcolor": "#E5ECF6",
           "radialaxis": {
            "gridcolor": "white",
            "linecolor": "white",
            "ticks": ""
           }
          },
          "scene": {
           "xaxis": {
            "backgroundcolor": "#E5ECF6",
            "gridcolor": "white",
            "gridwidth": 2,
            "linecolor": "white",
            "showbackground": true,
            "ticks": "",
            "zerolinecolor": "white"
           },
           "yaxis": {
            "backgroundcolor": "#E5ECF6",
            "gridcolor": "white",
            "gridwidth": 2,
            "linecolor": "white",
            "showbackground": true,
            "ticks": "",
            "zerolinecolor": "white"
           },
           "zaxis": {
            "backgroundcolor": "#E5ECF6",
            "gridcolor": "white",
            "gridwidth": 2,
            "linecolor": "white",
            "showbackground": true,
            "ticks": "",
            "zerolinecolor": "white"
           }
          },
          "shapedefaults": {
           "line": {
            "color": "#2a3f5f"
           }
          },
          "ternary": {
           "aaxis": {
            "gridcolor": "white",
            "linecolor": "white",
            "ticks": ""
           },
           "baxis": {
            "gridcolor": "white",
            "linecolor": "white",
            "ticks": ""
           },
           "bgcolor": "#E5ECF6",
           "caxis": {
            "gridcolor": "white",
            "linecolor": "white",
            "ticks": ""
           }
          },
          "title": {
           "x": 0.05
          },
          "xaxis": {
           "automargin": true,
           "gridcolor": "white",
           "linecolor": "white",
           "ticks": "",
           "title": {
            "standoff": 15
           },
           "zerolinecolor": "white",
           "zerolinewidth": 2
          },
          "yaxis": {
           "automargin": true,
           "gridcolor": "white",
           "linecolor": "white",
           "ticks": "",
           "title": {
            "standoff": 15
           },
           "zerolinecolor": "white",
           "zerolinewidth": 2
          }
         }
        }
       }
      },
      "text/html": [
       "<div>                            <div id=\"212de9cf-1af4-412e-8f19-e4e57cd31dfd\" class=\"plotly-graph-div\" style=\"height:525px; width:100%;\"></div>            <script type=\"text/javascript\">                require([\"plotly\"], function(Plotly) {                    window.PLOTLYENV=window.PLOTLYENV || {};                                    if (document.getElementById(\"212de9cf-1af4-412e-8f19-e4e57cd31dfd\")) {                    Plotly.newPlot(                        \"212de9cf-1af4-412e-8f19-e4e57cd31dfd\",                        [{\"hovertemplate\":\"Happiness score=%{x}<br>Explained by: GDP per capita=%{y}<br>Explained by: Social support=%{z}<br>cluster=%{marker.color}<extra></extra>\",\"legendgroup\":\"\",\"marker\":{\"color\":[-1,2,-1,2,2,2,2,2,-1,2,2,2,2,2,2,-1,2,1,1,1,1,1,1,-1,1,1,-1,1,1,1,1,-1,1,1,1,-1,1,1,1,1,1,1,1,1,-1,1,1,1,-1,1,1,1,-1,-1,-1,-1,1,-1,1,1,-1,1,1,-1,-1,1,-1,-1,1,1,1,1,1,1,1,1,1,-1,-1,1,-1,1,-1,-1,1,1,-1,0,1,-1,-1,-1,-1,-1,-1,-1,0,1,0,-1,-1,0,0,0,-1,-1,-1,-1,0,-1,0,-1,0,-1,-1,0,0,0,-1,-1,0,-1,0,-1,-1,-1,-1,0,-1,0,-1,-1,-1,-1,0,-1,-1,-1,-1,-1,-1,-1,-1,-1,-1,-1],\"coloraxis\":\"coloraxis\",\"symbol\":\"circle\"},\"mode\":\"markers\",\"name\":\"\",\"scene\":\"scene\",\"showlegend\":false,\"x\":[2.093430929058579,1.9226271404568456,1.8496893064052946,1.8081424389075758,1.718585857856937,1.7084299569130503,1.6899646824696197,1.6724226717483606,1.671499408026189,1.5200841575900579,1.4859233998697112,1.4850001361475396,1.3732852257647843,1.3668223797095835,1.35851300621004,1.3141963475458063,1.2828053809919742,1.261570315382029,1.1553949873323028,1.046449868116062,1.009519319229201,0.9938238359522849,0.9495071772880513,0.9439675949550221,0.895034617679931,0.8848787167360441,0.8553342776265551,0.8525644864600405,0.851641222737869,0.8497946952935259,0.8433318492383252,0.8322526845722668,0.8248665747948946,0.823943311072723,0.7731638063532887,0.7270006202447122,0.6974561811352232,0.6826839615804787,0.6540627861931612,0.6282114019723584,0.6162089735841284,0.5783551609750957,0.5765086335307525,0.5709690511977233,0.5645062051425227,0.5303454474221759,0.5275756562556614,0.5257291288113183,0.5229593376448037,0.5100336455344023,0.4915683710909717,0.47771941525839867,0.4703333054810264,0.44817497614890967,0.4324794928719936,0.42693991053896446,0.3816999881525594,0.3641579774313003,0.3521555490430704,0.3235343736557529,0.311531945267523,0.2801409787136909,0.2736781326584902,0.2533663307707165,0.2469034847155158,0.2099729358286545,0.1979705074404246,0.19150766138522388,0.16934933205310712,0.14534447527664732,0.042862202115607304,0.029013246283034328,0.022550400227833608,0.005008389506574508,-0.006070775159483871,-0.01899646726988531,-0.06331312593411884,-0.07346902687800567,-0.0799318729332064,-0.08731798271057865,-0.11870894926441072,-0.14271380604087056,-0.16302560792864423,-0.16302560792864423,-0.16856519026167344,-0.20641900287070622,-0.28951273786614407,-0.2941290564770017,-0.3273665504751769,-0.3273665504751769,-0.3319828690860345,-0.3513714072516367,-0.3596807807511805,-0.36799015425072423,-0.38183911008329724,-0.3984578570823848,-0.3984578570823848,-0.433541878524903,-0.44185125202444675,-0.45570020785701976,-0.4667793725230781,-0.4667793725230781,-0.4686258999674212,-0.5083262400207971,-0.536024151685943,-0.5498731075185159,-0.565568590795432,-0.5803408103501765,-0.6117317769040086,-0.6145015680705231,-0.6292737876252676,-0.7474515440632238,-0.8157730595039171,-0.843470971169063,-0.859166454445979,-0.8720921465563805,-0.8776317288894097,-0.9247181787201578,-0.9330275522197016,-0.9579556727183329,-0.9579556727183329,-0.9884233755499935,-0.9921164304386796,-1.0105817048821102,-1.0687473193789168,-1.0705938468232599,-1.1001382859327489,-1.121373351542694,-1.1684598013734422,-1.2026205590937888,-1.2118531963155041,-1.2524768000910516,-1.293100403866599,-1.2940236675887704,-1.3309542164756316,-1.6402475634030949,-1.655943046680011,-1.6651756839017262,-1.7094923425659596,-1.8276700990039156,-1.8849124497785505,-1.9227662623875834,-2.110188797988404,-2.3622397941412325,-2.3991703430280937,-2.9078886539446076],\"y\":[1.1459681005347757,1.291131340373806,1.2506760112383386,1.46485128313199,1.2720935384277037,1.900341002649081,1.2126004073461338,1.395839251077369,0.9889062344794313,1.050779090804264,1.2387773850220245,1.165005902480878,1.7099629831880576,1.222119308319185,1.131689749075199,1.360143372428427,1.0864749694532059,0.9627292568035406,1.1816639791837176,1.0769560684801547,1.0555385412907896,0.9508306305872266,0.4130127256098353,1.3982189763206316,1.0936141451829942,1.1578667267510896,1.7575574880533136,0.7342756334503124,0.946071180100701,0.48678420815098195,1.0079440364255337,-0.11528627839450478,1.0174629373985848,0.9365522791276498,0.7747309625857799,0.9103753014517592,0.7247567324772612,0.12268624593177455,-0.32470209980163056,0.61290964604391,0.9627292568035406,0.7652120616127287,0.33210206733890035,0.5724543169084425,-0.7268756659130426,0.33686151782542595,0.7009594800446333,0.8270849179375613,-0.34611962699099574,1.174524803453929,0.8032876655049335,0.4296708023126749,-0.45558698818108423,1.0103237616687963,-0.7125973144534659,0.8318443684240869,0.43205052755593765,0.6962000295581078,1.048399365561001,-0.33898045126120735,0.29640618868995844,0.01559860998494885,-0.2723481444498491,-0.8125457746705033,0.3606587702580539,0.09888899349914662,0.1369645973913513,-0.04151479585335819,0.30354536441974683,0.6628838761524286,-0.36753715418036087,0.23215360712186303,-0.003439191961153496,-0.03199589488030702,0.3868357479339446,-0.1390835308271327,-0.37705605515341206,0.175040201283556,0.9627292568035406,0.6533649751793774,1.3006502413468572,0.056053939120416334,-1.057657474726571,-1.0148224203478406,0.5105814605836099,0.15600239933745366,-0.06769177352924892,-0.7530526435889334,0.22501443139207467,0.0679525653367303,0.03463641193105119,0.11316734495872337,-1.4883877437571364,-0.8339633018598683,-0.4079924833158283,-0.11290655315124198,-1.8429668050032928,0.0013202585253720906,-1.0957330786187756,-0.48176396585697495,-1.9809908691125346,-1.0528980242400454,-1.136188407754243,-2.000028671058637,0.1345848721480885,0.11554707020198617,-0.2890062211526887,-3.3564720597184294,-1.3384650534315805,-0.0010594667178907028,-0.7102175892102031,0.7057189305311589,-1.5026660952167132,-0.9315320368336428,-1.138568132997506,-1.2170990660251781,-1.5074255457032388,-0.7887485222378753,-0.9005956086712266,-0.1438429813136583,-0.8601402795357591,-0.6245474804527426,-1.471729667054297,-0.2818670454229003,-0.32470209980163056,-0.8863172572116498,0.010839159498423264,-1.7620561467323577,-0.05341342206967215,-1.78109394867846,-1.4812485680273482,-1.712081916623839,-0.7387742921293566,-0.2057158376384909,-1.5217038971628156,-0.5793327008307495,-1.1433275834840315,-1.8144101020841392,-1.3384650534315805,-1.7239805428401531,-1.3598825806209456,0.22025498090554907,-1.4883877437571364,-1.102872254348564,-0.04389452109662098,-1.5526403253252319],\"z\":[1.2614137574219553,1.2076812411075912,1.483508158187993,1.1467843892846454,1.0751410341988268,0.8924504787299892,1.0679766986902448,1.1933525700904275,1.1288735505131906,1.1790238990732638,0.9282721562728985,1.064394530935954,0.9318543240271894,0.6524452391924966,1.0106620146215899,0.9891690080958443,0.849464465678498,1.268578092930537,0.7169242587697334,1.1217092150046089,0.4410973416893316,1.2291742476333367,0.5306515355466049,0.26557112172907593,0.6667739102096604,0.6775204134725332,0.7921497816098431,0.3587074833406402,1.0930518729702814,0.9820046725872624,0.5234872000380231,0.154523921346057,0.9426008272900622,1.0679766986902448,1.168277395810391,1.168277395810391,0.7205064265240244,0.4948298580036956,-0.26817187366027306,1.1252913827588997,0.011237211174419691,1.1288735505131906,0.6452809036839148,0.6237878971581692,0.4410973416893316,-0.07115264717427176,0.9927511758501353,0.9605116660615168,-0.4938484421806018,0.27631762499194873,1.1718595635646818,0.7527459363126427,0.6667739102096604,0.6560274069467876,-0.0747348149285627,0.6166235616495873,0.7025955877525697,0.26557112172907593,-0.07115264717427176,0.02198371443729249,0.6811025812268241,0.36587181884922204,0.49841202575798654,0.7276707620326063,0.899614814238571,0.08288056626023835,0.580801884106678,1.0429015244102082,0.3479609800777674,0.11512007604885674,-0.09264565370001736,0.1867634311346754,0.8028962848727158,-0.14637817001438136,0.41960433516358603,-0.09622782145430829,0.09362706952311114,1.479925990433702,-0.0639883116656899,0.6775204134725332,0.17243476011751166,-0.3075757189574733,0.35512531558634924,-0.4365337581119469,0.9211078207643166,0.1330309148203114,-0.08189915043714456,-1.6616351300794459,-0.15354250552296322,-0.9308729082040956,0.6524452391924966,0.6703560779639514,-1.0204271020613689,-1.0455022763414055,-0.9022155661697682,0.22974944418616658,-0.8449008821011132,0.6273700649124601,-1.7941753369882103,-2.284932319326068,-0.8807225596440226,-0.8377365465925314,-1.3464043677018438,-1.2389393350731157,-1.0526666118499872,-0.6013134748093298,-0.8019148690496221,0.22258510867758471,-1.2174463285473702,-0.590566971546457,-1.1135634636729332,-0.14637817001438136,-1.221028496301661,-0.6228064813350754,-3.015694541201418,-1.5398414264335543,-0.11055649247147202,-0.6228064813350754,-1.0777417861300238,-1.1099812959186421,-1.7655179949538828,0.18318126338038446,-1.5147662521535177,-0.10339215696289016,-0.429369422603365,-0.27533620916885493,0.10079140503169301,-0.9344550759583865,-0.6228064813350754,-1.4323763938048262,-0.3469795642546736,0.4912476902494047,-0.14637817001438136,-0.6514638233694029,-2.0914952605943578,-1.8980582018626475,-1.17804248325017,-2.245528474028868,-1.1063991281643513,-1.7547714916910102,-0.2072750218373272,-0.325486557728928,-2.768524966155344,-0.7732575270152946,-1.4610337358391536,-3.244953277476038],\"type\":\"scatter3d\"}],                        {\"template\":{\"data\":{\"histogram2dcontour\":[{\"type\":\"histogram2dcontour\",\"colorbar\":{\"outlinewidth\":0,\"ticks\":\"\"},\"colorscale\":[[0.0,\"#0d0887\"],[0.1111111111111111,\"#46039f\"],[0.2222222222222222,\"#7201a8\"],[0.3333333333333333,\"#9c179e\"],[0.4444444444444444,\"#bd3786\"],[0.5555555555555556,\"#d8576b\"],[0.6666666666666666,\"#ed7953\"],[0.7777777777777778,\"#fb9f3a\"],[0.8888888888888888,\"#fdca26\"],[1.0,\"#f0f921\"]]}],\"choropleth\":[{\"type\":\"choropleth\",\"colorbar\":{\"outlinewidth\":0,\"ticks\":\"\"}}],\"histogram2d\":[{\"type\":\"histogram2d\",\"colorbar\":{\"outlinewidth\":0,\"ticks\":\"\"},\"colorscale\":[[0.0,\"#0d0887\"],[0.1111111111111111,\"#46039f\"],[0.2222222222222222,\"#7201a8\"],[0.3333333333333333,\"#9c179e\"],[0.4444444444444444,\"#bd3786\"],[0.5555555555555556,\"#d8576b\"],[0.6666666666666666,\"#ed7953\"],[0.7777777777777778,\"#fb9f3a\"],[0.8888888888888888,\"#fdca26\"],[1.0,\"#f0f921\"]]}],\"heatmap\":[{\"type\":\"heatmap\",\"colorbar\":{\"outlinewidth\":0,\"ticks\":\"\"},\"colorscale\":[[0.0,\"#0d0887\"],[0.1111111111111111,\"#46039f\"],[0.2222222222222222,\"#7201a8\"],[0.3333333333333333,\"#9c179e\"],[0.4444444444444444,\"#bd3786\"],[0.5555555555555556,\"#d8576b\"],[0.6666666666666666,\"#ed7953\"],[0.7777777777777778,\"#fb9f3a\"],[0.8888888888888888,\"#fdca26\"],[1.0,\"#f0f921\"]]}],\"heatmapgl\":[{\"type\":\"heatmapgl\",\"colorbar\":{\"outlinewidth\":0,\"ticks\":\"\"},\"colorscale\":[[0.0,\"#0d0887\"],[0.1111111111111111,\"#46039f\"],[0.2222222222222222,\"#7201a8\"],[0.3333333333333333,\"#9c179e\"],[0.4444444444444444,\"#bd3786\"],[0.5555555555555556,\"#d8576b\"],[0.6666666666666666,\"#ed7953\"],[0.7777777777777778,\"#fb9f3a\"],[0.8888888888888888,\"#fdca26\"],[1.0,\"#f0f921\"]]}],\"contourcarpet\":[{\"type\":\"contourcarpet\",\"colorbar\":{\"outlinewidth\":0,\"ticks\":\"\"}}],\"contour\":[{\"type\":\"contour\",\"colorbar\":{\"outlinewidth\":0,\"ticks\":\"\"},\"colorscale\":[[0.0,\"#0d0887\"],[0.1111111111111111,\"#46039f\"],[0.2222222222222222,\"#7201a8\"],[0.3333333333333333,\"#9c179e\"],[0.4444444444444444,\"#bd3786\"],[0.5555555555555556,\"#d8576b\"],[0.6666666666666666,\"#ed7953\"],[0.7777777777777778,\"#fb9f3a\"],[0.8888888888888888,\"#fdca26\"],[1.0,\"#f0f921\"]]}],\"surface\":[{\"type\":\"surface\",\"colorbar\":{\"outlinewidth\":0,\"ticks\":\"\"},\"colorscale\":[[0.0,\"#0d0887\"],[0.1111111111111111,\"#46039f\"],[0.2222222222222222,\"#7201a8\"],[0.3333333333333333,\"#9c179e\"],[0.4444444444444444,\"#bd3786\"],[0.5555555555555556,\"#d8576b\"],[0.6666666666666666,\"#ed7953\"],[0.7777777777777778,\"#fb9f3a\"],[0.8888888888888888,\"#fdca26\"],[1.0,\"#f0f921\"]]}],\"mesh3d\":[{\"type\":\"mesh3d\",\"colorbar\":{\"outlinewidth\":0,\"ticks\":\"\"}}],\"scatter\":[{\"fillpattern\":{\"fillmode\":\"overlay\",\"size\":10,\"solidity\":0.2},\"type\":\"scatter\"}],\"parcoords\":[{\"type\":\"parcoords\",\"line\":{\"colorbar\":{\"outlinewidth\":0,\"ticks\":\"\"}}}],\"scatterpolargl\":[{\"type\":\"scatterpolargl\",\"marker\":{\"colorbar\":{\"outlinewidth\":0,\"ticks\":\"\"}}}],\"bar\":[{\"error_x\":{\"color\":\"#2a3f5f\"},\"error_y\":{\"color\":\"#2a3f5f\"},\"marker\":{\"line\":{\"color\":\"#E5ECF6\",\"width\":0.5},\"pattern\":{\"fillmode\":\"overlay\",\"size\":10,\"solidity\":0.2}},\"type\":\"bar\"}],\"scattergeo\":[{\"type\":\"scattergeo\",\"marker\":{\"colorbar\":{\"outlinewidth\":0,\"ticks\":\"\"}}}],\"scatterpolar\":[{\"type\":\"scatterpolar\",\"marker\":{\"colorbar\":{\"outlinewidth\":0,\"ticks\":\"\"}}}],\"histogram\":[{\"marker\":{\"pattern\":{\"fillmode\":\"overlay\",\"size\":10,\"solidity\":0.2}},\"type\":\"histogram\"}],\"scattergl\":[{\"type\":\"scattergl\",\"marker\":{\"colorbar\":{\"outlinewidth\":0,\"ticks\":\"\"}}}],\"scatter3d\":[{\"type\":\"scatter3d\",\"line\":{\"colorbar\":{\"outlinewidth\":0,\"ticks\":\"\"}},\"marker\":{\"colorbar\":{\"outlinewidth\":0,\"ticks\":\"\"}}}],\"scattermapbox\":[{\"type\":\"scattermapbox\",\"marker\":{\"colorbar\":{\"outlinewidth\":0,\"ticks\":\"\"}}}],\"scatterternary\":[{\"type\":\"scatterternary\",\"marker\":{\"colorbar\":{\"outlinewidth\":0,\"ticks\":\"\"}}}],\"scattercarpet\":[{\"type\":\"scattercarpet\",\"marker\":{\"colorbar\":{\"outlinewidth\":0,\"ticks\":\"\"}}}],\"carpet\":[{\"aaxis\":{\"endlinecolor\":\"#2a3f5f\",\"gridcolor\":\"white\",\"linecolor\":\"white\",\"minorgridcolor\":\"white\",\"startlinecolor\":\"#2a3f5f\"},\"baxis\":{\"endlinecolor\":\"#2a3f5f\",\"gridcolor\":\"white\",\"linecolor\":\"white\",\"minorgridcolor\":\"white\",\"startlinecolor\":\"#2a3f5f\"},\"type\":\"carpet\"}],\"table\":[{\"cells\":{\"fill\":{\"color\":\"#EBF0F8\"},\"line\":{\"color\":\"white\"}},\"header\":{\"fill\":{\"color\":\"#C8D4E3\"},\"line\":{\"color\":\"white\"}},\"type\":\"table\"}],\"barpolar\":[{\"marker\":{\"line\":{\"color\":\"#E5ECF6\",\"width\":0.5},\"pattern\":{\"fillmode\":\"overlay\",\"size\":10,\"solidity\":0.2}},\"type\":\"barpolar\"}],\"pie\":[{\"automargin\":true,\"type\":\"pie\"}]},\"layout\":{\"autotypenumbers\":\"strict\",\"colorway\":[\"#636efa\",\"#EF553B\",\"#00cc96\",\"#ab63fa\",\"#FFA15A\",\"#19d3f3\",\"#FF6692\",\"#B6E880\",\"#FF97FF\",\"#FECB52\"],\"font\":{\"color\":\"#2a3f5f\"},\"hovermode\":\"closest\",\"hoverlabel\":{\"align\":\"left\"},\"paper_bgcolor\":\"white\",\"plot_bgcolor\":\"#E5ECF6\",\"polar\":{\"bgcolor\":\"#E5ECF6\",\"angularaxis\":{\"gridcolor\":\"white\",\"linecolor\":\"white\",\"ticks\":\"\"},\"radialaxis\":{\"gridcolor\":\"white\",\"linecolor\":\"white\",\"ticks\":\"\"}},\"ternary\":{\"bgcolor\":\"#E5ECF6\",\"aaxis\":{\"gridcolor\":\"white\",\"linecolor\":\"white\",\"ticks\":\"\"},\"baxis\":{\"gridcolor\":\"white\",\"linecolor\":\"white\",\"ticks\":\"\"},\"caxis\":{\"gridcolor\":\"white\",\"linecolor\":\"white\",\"ticks\":\"\"}},\"coloraxis\":{\"colorbar\":{\"outlinewidth\":0,\"ticks\":\"\"}},\"colorscale\":{\"sequential\":[[0.0,\"#0d0887\"],[0.1111111111111111,\"#46039f\"],[0.2222222222222222,\"#7201a8\"],[0.3333333333333333,\"#9c179e\"],[0.4444444444444444,\"#bd3786\"],[0.5555555555555556,\"#d8576b\"],[0.6666666666666666,\"#ed7953\"],[0.7777777777777778,\"#fb9f3a\"],[0.8888888888888888,\"#fdca26\"],[1.0,\"#f0f921\"]],\"sequentialminus\":[[0.0,\"#0d0887\"],[0.1111111111111111,\"#46039f\"],[0.2222222222222222,\"#7201a8\"],[0.3333333333333333,\"#9c179e\"],[0.4444444444444444,\"#bd3786\"],[0.5555555555555556,\"#d8576b\"],[0.6666666666666666,\"#ed7953\"],[0.7777777777777778,\"#fb9f3a\"],[0.8888888888888888,\"#fdca26\"],[1.0,\"#f0f921\"]],\"diverging\":[[0,\"#8e0152\"],[0.1,\"#c51b7d\"],[0.2,\"#de77ae\"],[0.3,\"#f1b6da\"],[0.4,\"#fde0ef\"],[0.5,\"#f7f7f7\"],[0.6,\"#e6f5d0\"],[0.7,\"#b8e186\"],[0.8,\"#7fbc41\"],[0.9,\"#4d9221\"],[1,\"#276419\"]]},\"xaxis\":{\"gridcolor\":\"white\",\"linecolor\":\"white\",\"ticks\":\"\",\"title\":{\"standoff\":15},\"zerolinecolor\":\"white\",\"automargin\":true,\"zerolinewidth\":2},\"yaxis\":{\"gridcolor\":\"white\",\"linecolor\":\"white\",\"ticks\":\"\",\"title\":{\"standoff\":15},\"zerolinecolor\":\"white\",\"automargin\":true,\"zerolinewidth\":2},\"scene\":{\"xaxis\":{\"backgroundcolor\":\"#E5ECF6\",\"gridcolor\":\"white\",\"linecolor\":\"white\",\"showbackground\":true,\"ticks\":\"\",\"zerolinecolor\":\"white\",\"gridwidth\":2},\"yaxis\":{\"backgroundcolor\":\"#E5ECF6\",\"gridcolor\":\"white\",\"linecolor\":\"white\",\"showbackground\":true,\"ticks\":\"\",\"zerolinecolor\":\"white\",\"gridwidth\":2},\"zaxis\":{\"backgroundcolor\":\"#E5ECF6\",\"gridcolor\":\"white\",\"linecolor\":\"white\",\"showbackground\":true,\"ticks\":\"\",\"zerolinecolor\":\"white\",\"gridwidth\":2}},\"shapedefaults\":{\"line\":{\"color\":\"#2a3f5f\"}},\"annotationdefaults\":{\"arrowcolor\":\"#2a3f5f\",\"arrowhead\":0,\"arrowwidth\":1},\"geo\":{\"bgcolor\":\"white\",\"landcolor\":\"#E5ECF6\",\"subunitcolor\":\"white\",\"showland\":true,\"showlakes\":true,\"lakecolor\":\"white\"},\"title\":{\"x\":0.05},\"mapbox\":{\"style\":\"light\"}}},\"scene\":{\"domain\":{\"x\":[0.0,1.0],\"y\":[0.0,1.0]},\"xaxis\":{\"title\":{\"text\":\"Happiness score\"}},\"yaxis\":{\"title\":{\"text\":\"Explained by: GDP per capita\"}},\"zaxis\":{\"title\":{\"text\":\"Explained by: Social support\"}}},\"coloraxis\":{\"colorbar\":{\"title\":{\"text\":\"cluster\"}},\"colorscale\":[[0.0,\"#0d0887\"],[0.1111111111111111,\"#46039f\"],[0.2222222222222222,\"#7201a8\"],[0.3333333333333333,\"#9c179e\"],[0.4444444444444444,\"#bd3786\"],[0.5555555555555556,\"#d8576b\"],[0.6666666666666666,\"#ed7953\"],[0.7777777777777778,\"#fb9f3a\"],[0.8888888888888888,\"#fdca26\"],[1.0,\"#f0f921\"]]},\"legend\":{\"tracegroupgap\":0},\"margin\":{\"t\":60}},                        {\"responsive\": true}                    ).then(function(){\n",
       "                            \n",
       "var gd = document.getElementById('212de9cf-1af4-412e-8f19-e4e57cd31dfd');\n",
       "var x = new MutationObserver(function (mutations, observer) {{\n",
       "        var display = window.getComputedStyle(gd).display;\n",
       "        if (!display || display === 'none') {{\n",
       "            console.log([gd, 'removed!']);\n",
       "            Plotly.purge(gd);\n",
       "            observer.disconnect();\n",
       "        }}\n",
       "}});\n",
       "\n",
       "// Listen for the removal of the full notebook cells\n",
       "var notebookContainer = gd.closest('#notebook-container');\n",
       "if (notebookContainer) {{\n",
       "    x.observe(notebookContainer, {childList: true});\n",
       "}}\n",
       "\n",
       "// Listen for the clearing of the current output cell\n",
       "var outputEl = gd.closest('.output');\n",
       "if (outputEl) {{\n",
       "    x.observe(outputEl, {childList: true});\n",
       "}}\n",
       "\n",
       "                        })                };                });            </script>        </div>"
      ]
     },
     "metadata": {},
     "output_type": "display_data"
    }
   ],
   "source": [
    "df['cluster'] = hdbscanclusterer.labels_\n",
    "fig = px.scatter_3d(df, x='Happiness score',y = 'Explained by: GDP per capita', z='Explained by: Social support', color = 'cluster')\n",
    "fig.show()"
   ]
  },
  {
   "cell_type": "code",
   "execution_count": 151,
   "id": "e2ccaa91",
   "metadata": {},
   "outputs": [
    {
     "data": {
      "application/vnd.plotly.v1+json": {
       "config": {
        "plotlyServerURL": "https://plot.ly"
       },
       "data": [
        {
         "hovertemplate": "Happiness score=%{x}<br>Explained by: GDP per capita=%{y}<br>Explained by: Social support=%{z}<br>cluster=%{marker.color}<extra></extra>",
         "legendgroup": "",
         "marker": {
          "color": [
           0,
           0,
           0,
           0,
           0,
           0,
           0,
           0,
           1,
           0,
           0,
           0,
           0,
           0,
           0,
           1,
           0,
           1,
           1,
           1,
           1,
           1,
           1,
           1,
           1,
           1,
           -1,
           1,
           1,
           1,
           2,
           1,
           1,
           2,
           2,
           1,
           2,
           1,
           1,
           1,
           2,
           2,
           1,
           2,
           1,
           1,
           2,
           1,
           1,
           1,
           2,
           1,
           -1,
           1,
           1,
           1,
           2,
           -1,
           1,
           1,
           1,
           2,
           2,
           1,
           -1,
           2,
           1,
           1,
           1,
           1,
           1,
           1,
           1,
           2,
           1,
           2,
           1,
           -1,
           1,
           1,
           -1,
           1,
           1,
           3,
           1,
           1,
           -1,
           3,
           1,
           1,
           1,
           -1,
           -1,
           1,
           1,
           -1,
           3,
           1,
           3,
           -1,
           3,
           3,
           3,
           3,
           1,
           -1,
           -1,
           -1,
           3,
           -1,
           3,
           -1,
           3,
           1,
           -1,
           3,
           3,
           3,
           -1,
           -1,
           3,
           -1,
           3,
           -1,
           -1,
           -1,
           -1,
           3,
           -1,
           3,
           3,
           -1,
           -1,
           -1,
           3,
           -1,
           -1,
           -1,
           -1,
           -1,
           -1,
           -1,
           -1,
           -1,
           -1,
           -1
          ],
          "coloraxis": "coloraxis",
          "symbol": "circle"
         },
         "mode": "markers",
         "name": "",
         "scene": "scene",
         "showlegend": false,
         "type": "scatter3d",
         "x": [
          2.093430929058579,
          1.9226271404568456,
          1.8496893064052946,
          1.8081424389075758,
          1.718585857856937,
          1.7084299569130503,
          1.6899646824696197,
          1.6724226717483606,
          1.671499408026189,
          1.5200841575900579,
          1.4859233998697112,
          1.4850001361475396,
          1.3732852257647843,
          1.3668223797095835,
          1.35851300621004,
          1.3141963475458063,
          1.2828053809919742,
          1.261570315382029,
          1.1553949873323028,
          1.046449868116062,
          1.009519319229201,
          0.9938238359522849,
          0.9495071772880513,
          0.9439675949550221,
          0.895034617679931,
          0.8848787167360441,
          0.8553342776265551,
          0.8525644864600405,
          0.851641222737869,
          0.8497946952935259,
          0.8433318492383252,
          0.8322526845722668,
          0.8248665747948946,
          0.823943311072723,
          0.7731638063532887,
          0.7270006202447122,
          0.6974561811352232,
          0.6826839615804787,
          0.6540627861931612,
          0.6282114019723584,
          0.6162089735841284,
          0.5783551609750957,
          0.5765086335307525,
          0.5709690511977233,
          0.5645062051425227,
          0.5303454474221759,
          0.5275756562556614,
          0.5257291288113183,
          0.5229593376448037,
          0.5100336455344023,
          0.4915683710909717,
          0.47771941525839867,
          0.4703333054810264,
          0.44817497614890967,
          0.4324794928719936,
          0.42693991053896446,
          0.3816999881525594,
          0.3641579774313003,
          0.3521555490430704,
          0.3235343736557529,
          0.311531945267523,
          0.2801409787136909,
          0.2736781326584902,
          0.2533663307707165,
          0.2469034847155158,
          0.2099729358286545,
          0.1979705074404246,
          0.19150766138522388,
          0.16934933205310712,
          0.14534447527664732,
          0.042862202115607304,
          0.029013246283034328,
          0.022550400227833608,
          0.005008389506574508,
          -0.006070775159483871,
          -0.01899646726988531,
          -0.06331312593411884,
          -0.07346902687800567,
          -0.0799318729332064,
          -0.08731798271057865,
          -0.11870894926441072,
          -0.14271380604087056,
          -0.16302560792864423,
          -0.16302560792864423,
          -0.16856519026167344,
          -0.20641900287070622,
          -0.28951273786614407,
          -0.2941290564770017,
          -0.3273665504751769,
          -0.3273665504751769,
          -0.3319828690860345,
          -0.3513714072516367,
          -0.3596807807511805,
          -0.36799015425072423,
          -0.38183911008329724,
          -0.3984578570823848,
          -0.3984578570823848,
          -0.433541878524903,
          -0.44185125202444675,
          -0.45570020785701976,
          -0.4667793725230781,
          -0.4667793725230781,
          -0.4686258999674212,
          -0.5083262400207971,
          -0.536024151685943,
          -0.5498731075185159,
          -0.565568590795432,
          -0.5803408103501765,
          -0.6117317769040086,
          -0.6145015680705231,
          -0.6292737876252676,
          -0.7474515440632238,
          -0.8157730595039171,
          -0.843470971169063,
          -0.859166454445979,
          -0.8720921465563805,
          -0.8776317288894097,
          -0.9247181787201578,
          -0.9330275522197016,
          -0.9579556727183329,
          -0.9579556727183329,
          -0.9884233755499935,
          -0.9921164304386796,
          -1.0105817048821102,
          -1.0687473193789168,
          -1.0705938468232599,
          -1.1001382859327489,
          -1.121373351542694,
          -1.1684598013734422,
          -1.2026205590937888,
          -1.2118531963155041,
          -1.2524768000910516,
          -1.293100403866599,
          -1.2940236675887704,
          -1.3309542164756316,
          -1.6402475634030949,
          -1.655943046680011,
          -1.6651756839017262,
          -1.7094923425659596,
          -1.8276700990039156,
          -1.8849124497785505,
          -1.9227662623875834,
          -2.110188797988404,
          -2.3622397941412325,
          -2.3991703430280937,
          -2.9078886539446076
         ],
         "y": [
          1.1459681005347757,
          1.291131340373806,
          1.2506760112383386,
          1.46485128313199,
          1.2720935384277037,
          1.900341002649081,
          1.2126004073461338,
          1.395839251077369,
          0.9889062344794313,
          1.050779090804264,
          1.2387773850220245,
          1.165005902480878,
          1.7099629831880576,
          1.222119308319185,
          1.131689749075199,
          1.360143372428427,
          1.0864749694532059,
          0.9627292568035406,
          1.1816639791837176,
          1.0769560684801547,
          1.0555385412907896,
          0.9508306305872266,
          0.4130127256098353,
          1.3982189763206316,
          1.0936141451829942,
          1.1578667267510896,
          1.7575574880533136,
          0.7342756334503124,
          0.946071180100701,
          0.48678420815098195,
          1.0079440364255337,
          -0.11528627839450478,
          1.0174629373985848,
          0.9365522791276498,
          0.7747309625857799,
          0.9103753014517592,
          0.7247567324772612,
          0.12268624593177455,
          -0.32470209980163056,
          0.61290964604391,
          0.9627292568035406,
          0.7652120616127287,
          0.33210206733890035,
          0.5724543169084425,
          -0.7268756659130426,
          0.33686151782542595,
          0.7009594800446333,
          0.8270849179375613,
          -0.34611962699099574,
          1.174524803453929,
          0.8032876655049335,
          0.4296708023126749,
          -0.45558698818108423,
          1.0103237616687963,
          -0.7125973144534659,
          0.8318443684240869,
          0.43205052755593765,
          0.6962000295581078,
          1.048399365561001,
          -0.33898045126120735,
          0.29640618868995844,
          0.01559860998494885,
          -0.2723481444498491,
          -0.8125457746705033,
          0.3606587702580539,
          0.09888899349914662,
          0.1369645973913513,
          -0.04151479585335819,
          0.30354536441974683,
          0.6628838761524286,
          -0.36753715418036087,
          0.23215360712186303,
          -0.003439191961153496,
          -0.03199589488030702,
          0.3868357479339446,
          -0.1390835308271327,
          -0.37705605515341206,
          0.175040201283556,
          0.9627292568035406,
          0.6533649751793774,
          1.3006502413468572,
          0.056053939120416334,
          -1.057657474726571,
          -1.0148224203478406,
          0.5105814605836099,
          0.15600239933745366,
          -0.06769177352924892,
          -0.7530526435889334,
          0.22501443139207467,
          0.0679525653367303,
          0.03463641193105119,
          0.11316734495872337,
          -1.4883877437571364,
          -0.8339633018598683,
          -0.4079924833158283,
          -0.11290655315124198,
          -1.8429668050032928,
          0.0013202585253720906,
          -1.0957330786187756,
          -0.48176396585697495,
          -1.9809908691125346,
          -1.0528980242400454,
          -1.136188407754243,
          -2.000028671058637,
          0.1345848721480885,
          0.11554707020198617,
          -0.2890062211526887,
          -3.3564720597184294,
          -1.3384650534315805,
          -0.0010594667178907028,
          -0.7102175892102031,
          0.7057189305311589,
          -1.5026660952167132,
          -0.9315320368336428,
          -1.138568132997506,
          -1.2170990660251781,
          -1.5074255457032388,
          -0.7887485222378753,
          -0.9005956086712266,
          -0.1438429813136583,
          -0.8601402795357591,
          -0.6245474804527426,
          -1.471729667054297,
          -0.2818670454229003,
          -0.32470209980163056,
          -0.8863172572116498,
          0.010839159498423264,
          -1.7620561467323577,
          -0.05341342206967215,
          -1.78109394867846,
          -1.4812485680273482,
          -1.712081916623839,
          -0.7387742921293566,
          -0.2057158376384909,
          -1.5217038971628156,
          -0.5793327008307495,
          -1.1433275834840315,
          -1.8144101020841392,
          -1.3384650534315805,
          -1.7239805428401531,
          -1.3598825806209456,
          0.22025498090554907,
          -1.4883877437571364,
          -1.102872254348564,
          -0.04389452109662098,
          -1.5526403253252319
         ],
         "z": [
          1.2614137574219553,
          1.2076812411075912,
          1.483508158187993,
          1.1467843892846454,
          1.0751410341988268,
          0.8924504787299892,
          1.0679766986902448,
          1.1933525700904275,
          1.1288735505131906,
          1.1790238990732638,
          0.9282721562728985,
          1.064394530935954,
          0.9318543240271894,
          0.6524452391924966,
          1.0106620146215899,
          0.9891690080958443,
          0.849464465678498,
          1.268578092930537,
          0.7169242587697334,
          1.1217092150046089,
          0.4410973416893316,
          1.2291742476333367,
          0.5306515355466049,
          0.26557112172907593,
          0.6667739102096604,
          0.6775204134725332,
          0.7921497816098431,
          0.3587074833406402,
          1.0930518729702814,
          0.9820046725872624,
          0.5234872000380231,
          0.154523921346057,
          0.9426008272900622,
          1.0679766986902448,
          1.168277395810391,
          1.168277395810391,
          0.7205064265240244,
          0.4948298580036956,
          -0.26817187366027306,
          1.1252913827588997,
          0.011237211174419691,
          1.1288735505131906,
          0.6452809036839148,
          0.6237878971581692,
          0.4410973416893316,
          -0.07115264717427176,
          0.9927511758501353,
          0.9605116660615168,
          -0.4938484421806018,
          0.27631762499194873,
          1.1718595635646818,
          0.7527459363126427,
          0.6667739102096604,
          0.6560274069467876,
          -0.0747348149285627,
          0.6166235616495873,
          0.7025955877525697,
          0.26557112172907593,
          -0.07115264717427176,
          0.02198371443729249,
          0.6811025812268241,
          0.36587181884922204,
          0.49841202575798654,
          0.7276707620326063,
          0.899614814238571,
          0.08288056626023835,
          0.580801884106678,
          1.0429015244102082,
          0.3479609800777674,
          0.11512007604885674,
          -0.09264565370001736,
          0.1867634311346754,
          0.8028962848727158,
          -0.14637817001438136,
          0.41960433516358603,
          -0.09622782145430829,
          0.09362706952311114,
          1.479925990433702,
          -0.0639883116656899,
          0.6775204134725332,
          0.17243476011751166,
          -0.3075757189574733,
          0.35512531558634924,
          -0.4365337581119469,
          0.9211078207643166,
          0.1330309148203114,
          -0.08189915043714456,
          -1.6616351300794459,
          -0.15354250552296322,
          -0.9308729082040956,
          0.6524452391924966,
          0.6703560779639514,
          -1.0204271020613689,
          -1.0455022763414055,
          -0.9022155661697682,
          0.22974944418616658,
          -0.8449008821011132,
          0.6273700649124601,
          -1.7941753369882103,
          -2.284932319326068,
          -0.8807225596440226,
          -0.8377365465925314,
          -1.3464043677018438,
          -1.2389393350731157,
          -1.0526666118499872,
          -0.6013134748093298,
          -0.8019148690496221,
          0.22258510867758471,
          -1.2174463285473702,
          -0.590566971546457,
          -1.1135634636729332,
          -0.14637817001438136,
          -1.221028496301661,
          -0.6228064813350754,
          -3.015694541201418,
          -1.5398414264335543,
          -0.11055649247147202,
          -0.6228064813350754,
          -1.0777417861300238,
          -1.1099812959186421,
          -1.7655179949538828,
          0.18318126338038446,
          -1.5147662521535177,
          -0.10339215696289016,
          -0.429369422603365,
          -0.27533620916885493,
          0.10079140503169301,
          -0.9344550759583865,
          -0.6228064813350754,
          -1.4323763938048262,
          -0.3469795642546736,
          0.4912476902494047,
          -0.14637817001438136,
          -0.6514638233694029,
          -2.0914952605943578,
          -1.8980582018626475,
          -1.17804248325017,
          -2.245528474028868,
          -1.1063991281643513,
          -1.7547714916910102,
          -0.2072750218373272,
          -0.325486557728928,
          -2.768524966155344,
          -0.7732575270152946,
          -1.4610337358391536,
          -3.244953277476038
         ]
        }
       ],
       "layout": {
        "coloraxis": {
         "colorbar": {
          "title": {
           "text": "cluster"
          }
         },
         "colorscale": [
          [
           0,
           "#0d0887"
          ],
          [
           0.1111111111111111,
           "#46039f"
          ],
          [
           0.2222222222222222,
           "#7201a8"
          ],
          [
           0.3333333333333333,
           "#9c179e"
          ],
          [
           0.4444444444444444,
           "#bd3786"
          ],
          [
           0.5555555555555556,
           "#d8576b"
          ],
          [
           0.6666666666666666,
           "#ed7953"
          ],
          [
           0.7777777777777778,
           "#fb9f3a"
          ],
          [
           0.8888888888888888,
           "#fdca26"
          ],
          [
           1,
           "#f0f921"
          ]
         ]
        },
        "legend": {
         "tracegroupgap": 0
        },
        "margin": {
         "t": 60
        },
        "scene": {
         "domain": {
          "x": [
           0,
           1
          ],
          "y": [
           0,
           1
          ]
         },
         "xaxis": {
          "title": {
           "text": "Happiness score"
          }
         },
         "yaxis": {
          "title": {
           "text": "Explained by: GDP per capita"
          }
         },
         "zaxis": {
          "title": {
           "text": "Explained by: Social support"
          }
         }
        },
        "template": {
         "data": {
          "bar": [
           {
            "error_x": {
             "color": "#2a3f5f"
            },
            "error_y": {
             "color": "#2a3f5f"
            },
            "marker": {
             "line": {
              "color": "#E5ECF6",
              "width": 0.5
             },
             "pattern": {
              "fillmode": "overlay",
              "size": 10,
              "solidity": 0.2
             }
            },
            "type": "bar"
           }
          ],
          "barpolar": [
           {
            "marker": {
             "line": {
              "color": "#E5ECF6",
              "width": 0.5
             },
             "pattern": {
              "fillmode": "overlay",
              "size": 10,
              "solidity": 0.2
             }
            },
            "type": "barpolar"
           }
          ],
          "carpet": [
           {
            "aaxis": {
             "endlinecolor": "#2a3f5f",
             "gridcolor": "white",
             "linecolor": "white",
             "minorgridcolor": "white",
             "startlinecolor": "#2a3f5f"
            },
            "baxis": {
             "endlinecolor": "#2a3f5f",
             "gridcolor": "white",
             "linecolor": "white",
             "minorgridcolor": "white",
             "startlinecolor": "#2a3f5f"
            },
            "type": "carpet"
           }
          ],
          "choropleth": [
           {
            "colorbar": {
             "outlinewidth": 0,
             "ticks": ""
            },
            "type": "choropleth"
           }
          ],
          "contour": [
           {
            "colorbar": {
             "outlinewidth": 0,
             "ticks": ""
            },
            "colorscale": [
             [
              0,
              "#0d0887"
             ],
             [
              0.1111111111111111,
              "#46039f"
             ],
             [
              0.2222222222222222,
              "#7201a8"
             ],
             [
              0.3333333333333333,
              "#9c179e"
             ],
             [
              0.4444444444444444,
              "#bd3786"
             ],
             [
              0.5555555555555556,
              "#d8576b"
             ],
             [
              0.6666666666666666,
              "#ed7953"
             ],
             [
              0.7777777777777778,
              "#fb9f3a"
             ],
             [
              0.8888888888888888,
              "#fdca26"
             ],
             [
              1,
              "#f0f921"
             ]
            ],
            "type": "contour"
           }
          ],
          "contourcarpet": [
           {
            "colorbar": {
             "outlinewidth": 0,
             "ticks": ""
            },
            "type": "contourcarpet"
           }
          ],
          "heatmap": [
           {
            "colorbar": {
             "outlinewidth": 0,
             "ticks": ""
            },
            "colorscale": [
             [
              0,
              "#0d0887"
             ],
             [
              0.1111111111111111,
              "#46039f"
             ],
             [
              0.2222222222222222,
              "#7201a8"
             ],
             [
              0.3333333333333333,
              "#9c179e"
             ],
             [
              0.4444444444444444,
              "#bd3786"
             ],
             [
              0.5555555555555556,
              "#d8576b"
             ],
             [
              0.6666666666666666,
              "#ed7953"
             ],
             [
              0.7777777777777778,
              "#fb9f3a"
             ],
             [
              0.8888888888888888,
              "#fdca26"
             ],
             [
              1,
              "#f0f921"
             ]
            ],
            "type": "heatmap"
           }
          ],
          "heatmapgl": [
           {
            "colorbar": {
             "outlinewidth": 0,
             "ticks": ""
            },
            "colorscale": [
             [
              0,
              "#0d0887"
             ],
             [
              0.1111111111111111,
              "#46039f"
             ],
             [
              0.2222222222222222,
              "#7201a8"
             ],
             [
              0.3333333333333333,
              "#9c179e"
             ],
             [
              0.4444444444444444,
              "#bd3786"
             ],
             [
              0.5555555555555556,
              "#d8576b"
             ],
             [
              0.6666666666666666,
              "#ed7953"
             ],
             [
              0.7777777777777778,
              "#fb9f3a"
             ],
             [
              0.8888888888888888,
              "#fdca26"
             ],
             [
              1,
              "#f0f921"
             ]
            ],
            "type": "heatmapgl"
           }
          ],
          "histogram": [
           {
            "marker": {
             "pattern": {
              "fillmode": "overlay",
              "size": 10,
              "solidity": 0.2
             }
            },
            "type": "histogram"
           }
          ],
          "histogram2d": [
           {
            "colorbar": {
             "outlinewidth": 0,
             "ticks": ""
            },
            "colorscale": [
             [
              0,
              "#0d0887"
             ],
             [
              0.1111111111111111,
              "#46039f"
             ],
             [
              0.2222222222222222,
              "#7201a8"
             ],
             [
              0.3333333333333333,
              "#9c179e"
             ],
             [
              0.4444444444444444,
              "#bd3786"
             ],
             [
              0.5555555555555556,
              "#d8576b"
             ],
             [
              0.6666666666666666,
              "#ed7953"
             ],
             [
              0.7777777777777778,
              "#fb9f3a"
             ],
             [
              0.8888888888888888,
              "#fdca26"
             ],
             [
              1,
              "#f0f921"
             ]
            ],
            "type": "histogram2d"
           }
          ],
          "histogram2dcontour": [
           {
            "colorbar": {
             "outlinewidth": 0,
             "ticks": ""
            },
            "colorscale": [
             [
              0,
              "#0d0887"
             ],
             [
              0.1111111111111111,
              "#46039f"
             ],
             [
              0.2222222222222222,
              "#7201a8"
             ],
             [
              0.3333333333333333,
              "#9c179e"
             ],
             [
              0.4444444444444444,
              "#bd3786"
             ],
             [
              0.5555555555555556,
              "#d8576b"
             ],
             [
              0.6666666666666666,
              "#ed7953"
             ],
             [
              0.7777777777777778,
              "#fb9f3a"
             ],
             [
              0.8888888888888888,
              "#fdca26"
             ],
             [
              1,
              "#f0f921"
             ]
            ],
            "type": "histogram2dcontour"
           }
          ],
          "mesh3d": [
           {
            "colorbar": {
             "outlinewidth": 0,
             "ticks": ""
            },
            "type": "mesh3d"
           }
          ],
          "parcoords": [
           {
            "line": {
             "colorbar": {
              "outlinewidth": 0,
              "ticks": ""
             }
            },
            "type": "parcoords"
           }
          ],
          "pie": [
           {
            "automargin": true,
            "type": "pie"
           }
          ],
          "scatter": [
           {
            "fillpattern": {
             "fillmode": "overlay",
             "size": 10,
             "solidity": 0.2
            },
            "type": "scatter"
           }
          ],
          "scatter3d": [
           {
            "line": {
             "colorbar": {
              "outlinewidth": 0,
              "ticks": ""
             }
            },
            "marker": {
             "colorbar": {
              "outlinewidth": 0,
              "ticks": ""
             }
            },
            "type": "scatter3d"
           }
          ],
          "scattercarpet": [
           {
            "marker": {
             "colorbar": {
              "outlinewidth": 0,
              "ticks": ""
             }
            },
            "type": "scattercarpet"
           }
          ],
          "scattergeo": [
           {
            "marker": {
             "colorbar": {
              "outlinewidth": 0,
              "ticks": ""
             }
            },
            "type": "scattergeo"
           }
          ],
          "scattergl": [
           {
            "marker": {
             "colorbar": {
              "outlinewidth": 0,
              "ticks": ""
             }
            },
            "type": "scattergl"
           }
          ],
          "scattermapbox": [
           {
            "marker": {
             "colorbar": {
              "outlinewidth": 0,
              "ticks": ""
             }
            },
            "type": "scattermapbox"
           }
          ],
          "scatterpolar": [
           {
            "marker": {
             "colorbar": {
              "outlinewidth": 0,
              "ticks": ""
             }
            },
            "type": "scatterpolar"
           }
          ],
          "scatterpolargl": [
           {
            "marker": {
             "colorbar": {
              "outlinewidth": 0,
              "ticks": ""
             }
            },
            "type": "scatterpolargl"
           }
          ],
          "scatterternary": [
           {
            "marker": {
             "colorbar": {
              "outlinewidth": 0,
              "ticks": ""
             }
            },
            "type": "scatterternary"
           }
          ],
          "surface": [
           {
            "colorbar": {
             "outlinewidth": 0,
             "ticks": ""
            },
            "colorscale": [
             [
              0,
              "#0d0887"
             ],
             [
              0.1111111111111111,
              "#46039f"
             ],
             [
              0.2222222222222222,
              "#7201a8"
             ],
             [
              0.3333333333333333,
              "#9c179e"
             ],
             [
              0.4444444444444444,
              "#bd3786"
             ],
             [
              0.5555555555555556,
              "#d8576b"
             ],
             [
              0.6666666666666666,
              "#ed7953"
             ],
             [
              0.7777777777777778,
              "#fb9f3a"
             ],
             [
              0.8888888888888888,
              "#fdca26"
             ],
             [
              1,
              "#f0f921"
             ]
            ],
            "type": "surface"
           }
          ],
          "table": [
           {
            "cells": {
             "fill": {
              "color": "#EBF0F8"
             },
             "line": {
              "color": "white"
             }
            },
            "header": {
             "fill": {
              "color": "#C8D4E3"
             },
             "line": {
              "color": "white"
             }
            },
            "type": "table"
           }
          ]
         },
         "layout": {
          "annotationdefaults": {
           "arrowcolor": "#2a3f5f",
           "arrowhead": 0,
           "arrowwidth": 1
          },
          "autotypenumbers": "strict",
          "coloraxis": {
           "colorbar": {
            "outlinewidth": 0,
            "ticks": ""
           }
          },
          "colorscale": {
           "diverging": [
            [
             0,
             "#8e0152"
            ],
            [
             0.1,
             "#c51b7d"
            ],
            [
             0.2,
             "#de77ae"
            ],
            [
             0.3,
             "#f1b6da"
            ],
            [
             0.4,
             "#fde0ef"
            ],
            [
             0.5,
             "#f7f7f7"
            ],
            [
             0.6,
             "#e6f5d0"
            ],
            [
             0.7,
             "#b8e186"
            ],
            [
             0.8,
             "#7fbc41"
            ],
            [
             0.9,
             "#4d9221"
            ],
            [
             1,
             "#276419"
            ]
           ],
           "sequential": [
            [
             0,
             "#0d0887"
            ],
            [
             0.1111111111111111,
             "#46039f"
            ],
            [
             0.2222222222222222,
             "#7201a8"
            ],
            [
             0.3333333333333333,
             "#9c179e"
            ],
            [
             0.4444444444444444,
             "#bd3786"
            ],
            [
             0.5555555555555556,
             "#d8576b"
            ],
            [
             0.6666666666666666,
             "#ed7953"
            ],
            [
             0.7777777777777778,
             "#fb9f3a"
            ],
            [
             0.8888888888888888,
             "#fdca26"
            ],
            [
             1,
             "#f0f921"
            ]
           ],
           "sequentialminus": [
            [
             0,
             "#0d0887"
            ],
            [
             0.1111111111111111,
             "#46039f"
            ],
            [
             0.2222222222222222,
             "#7201a8"
            ],
            [
             0.3333333333333333,
             "#9c179e"
            ],
            [
             0.4444444444444444,
             "#bd3786"
            ],
            [
             0.5555555555555556,
             "#d8576b"
            ],
            [
             0.6666666666666666,
             "#ed7953"
            ],
            [
             0.7777777777777778,
             "#fb9f3a"
            ],
            [
             0.8888888888888888,
             "#fdca26"
            ],
            [
             1,
             "#f0f921"
            ]
           ]
          },
          "colorway": [
           "#636efa",
           "#EF553B",
           "#00cc96",
           "#ab63fa",
           "#FFA15A",
           "#19d3f3",
           "#FF6692",
           "#B6E880",
           "#FF97FF",
           "#FECB52"
          ],
          "font": {
           "color": "#2a3f5f"
          },
          "geo": {
           "bgcolor": "white",
           "lakecolor": "white",
           "landcolor": "#E5ECF6",
           "showlakes": true,
           "showland": true,
           "subunitcolor": "white"
          },
          "hoverlabel": {
           "align": "left"
          },
          "hovermode": "closest",
          "mapbox": {
           "style": "light"
          },
          "paper_bgcolor": "white",
          "plot_bgcolor": "#E5ECF6",
          "polar": {
           "angularaxis": {
            "gridcolor": "white",
            "linecolor": "white",
            "ticks": ""
           },
           "bgcolor": "#E5ECF6",
           "radialaxis": {
            "gridcolor": "white",
            "linecolor": "white",
            "ticks": ""
           }
          },
          "scene": {
           "xaxis": {
            "backgroundcolor": "#E5ECF6",
            "gridcolor": "white",
            "gridwidth": 2,
            "linecolor": "white",
            "showbackground": true,
            "ticks": "",
            "zerolinecolor": "white"
           },
           "yaxis": {
            "backgroundcolor": "#E5ECF6",
            "gridcolor": "white",
            "gridwidth": 2,
            "linecolor": "white",
            "showbackground": true,
            "ticks": "",
            "zerolinecolor": "white"
           },
           "zaxis": {
            "backgroundcolor": "#E5ECF6",
            "gridcolor": "white",
            "gridwidth": 2,
            "linecolor": "white",
            "showbackground": true,
            "ticks": "",
            "zerolinecolor": "white"
           }
          },
          "shapedefaults": {
           "line": {
            "color": "#2a3f5f"
           }
          },
          "ternary": {
           "aaxis": {
            "gridcolor": "white",
            "linecolor": "white",
            "ticks": ""
           },
           "baxis": {
            "gridcolor": "white",
            "linecolor": "white",
            "ticks": ""
           },
           "bgcolor": "#E5ECF6",
           "caxis": {
            "gridcolor": "white",
            "linecolor": "white",
            "ticks": ""
           }
          },
          "title": {
           "x": 0.05
          },
          "xaxis": {
           "automargin": true,
           "gridcolor": "white",
           "linecolor": "white",
           "ticks": "",
           "title": {
            "standoff": 15
           },
           "zerolinecolor": "white",
           "zerolinewidth": 2
          },
          "yaxis": {
           "automargin": true,
           "gridcolor": "white",
           "linecolor": "white",
           "ticks": "",
           "title": {
            "standoff": 15
           },
           "zerolinecolor": "white",
           "zerolinewidth": 2
          }
         }
        }
       }
      },
      "text/html": [
       "<div>                            <div id=\"42381aa4-a5ae-4f45-a7fa-9ff905b25786\" class=\"plotly-graph-div\" style=\"height:525px; width:100%;\"></div>            <script type=\"text/javascript\">                require([\"plotly\"], function(Plotly) {                    window.PLOTLYENV=window.PLOTLYENV || {};                                    if (document.getElementById(\"42381aa4-a5ae-4f45-a7fa-9ff905b25786\")) {                    Plotly.newPlot(                        \"42381aa4-a5ae-4f45-a7fa-9ff905b25786\",                        [{\"hovertemplate\":\"Happiness score=%{x}<br>Explained by: GDP per capita=%{y}<br>Explained by: Social support=%{z}<br>cluster=%{marker.color}<extra></extra>\",\"legendgroup\":\"\",\"marker\":{\"color\":[0,0,0,0,0,0,0,0,1,0,0,0,0,0,0,1,0,1,1,1,1,1,1,1,1,1,-1,1,1,1,2,1,1,2,2,1,2,1,1,1,2,2,1,2,1,1,2,1,1,1,2,1,-1,1,1,1,2,-1,1,1,1,2,2,1,-1,2,1,1,1,1,1,1,1,2,1,2,1,-1,1,1,-1,1,1,3,1,1,-1,3,1,1,1,-1,-1,1,1,-1,3,1,3,-1,3,3,3,3,1,-1,-1,-1,3,-1,3,-1,3,1,-1,3,3,3,-1,-1,3,-1,3,-1,-1,-1,-1,3,-1,3,3,-1,-1,-1,3,-1,-1,-1,-1,-1,-1,-1,-1,-1,-1,-1],\"coloraxis\":\"coloraxis\",\"symbol\":\"circle\"},\"mode\":\"markers\",\"name\":\"\",\"scene\":\"scene\",\"showlegend\":false,\"x\":[2.093430929058579,1.9226271404568456,1.8496893064052946,1.8081424389075758,1.718585857856937,1.7084299569130503,1.6899646824696197,1.6724226717483606,1.671499408026189,1.5200841575900579,1.4859233998697112,1.4850001361475396,1.3732852257647843,1.3668223797095835,1.35851300621004,1.3141963475458063,1.2828053809919742,1.261570315382029,1.1553949873323028,1.046449868116062,1.009519319229201,0.9938238359522849,0.9495071772880513,0.9439675949550221,0.895034617679931,0.8848787167360441,0.8553342776265551,0.8525644864600405,0.851641222737869,0.8497946952935259,0.8433318492383252,0.8322526845722668,0.8248665747948946,0.823943311072723,0.7731638063532887,0.7270006202447122,0.6974561811352232,0.6826839615804787,0.6540627861931612,0.6282114019723584,0.6162089735841284,0.5783551609750957,0.5765086335307525,0.5709690511977233,0.5645062051425227,0.5303454474221759,0.5275756562556614,0.5257291288113183,0.5229593376448037,0.5100336455344023,0.4915683710909717,0.47771941525839867,0.4703333054810264,0.44817497614890967,0.4324794928719936,0.42693991053896446,0.3816999881525594,0.3641579774313003,0.3521555490430704,0.3235343736557529,0.311531945267523,0.2801409787136909,0.2736781326584902,0.2533663307707165,0.2469034847155158,0.2099729358286545,0.1979705074404246,0.19150766138522388,0.16934933205310712,0.14534447527664732,0.042862202115607304,0.029013246283034328,0.022550400227833608,0.005008389506574508,-0.006070775159483871,-0.01899646726988531,-0.06331312593411884,-0.07346902687800567,-0.0799318729332064,-0.08731798271057865,-0.11870894926441072,-0.14271380604087056,-0.16302560792864423,-0.16302560792864423,-0.16856519026167344,-0.20641900287070622,-0.28951273786614407,-0.2941290564770017,-0.3273665504751769,-0.3273665504751769,-0.3319828690860345,-0.3513714072516367,-0.3596807807511805,-0.36799015425072423,-0.38183911008329724,-0.3984578570823848,-0.3984578570823848,-0.433541878524903,-0.44185125202444675,-0.45570020785701976,-0.4667793725230781,-0.4667793725230781,-0.4686258999674212,-0.5083262400207971,-0.536024151685943,-0.5498731075185159,-0.565568590795432,-0.5803408103501765,-0.6117317769040086,-0.6145015680705231,-0.6292737876252676,-0.7474515440632238,-0.8157730595039171,-0.843470971169063,-0.859166454445979,-0.8720921465563805,-0.8776317288894097,-0.9247181787201578,-0.9330275522197016,-0.9579556727183329,-0.9579556727183329,-0.9884233755499935,-0.9921164304386796,-1.0105817048821102,-1.0687473193789168,-1.0705938468232599,-1.1001382859327489,-1.121373351542694,-1.1684598013734422,-1.2026205590937888,-1.2118531963155041,-1.2524768000910516,-1.293100403866599,-1.2940236675887704,-1.3309542164756316,-1.6402475634030949,-1.655943046680011,-1.6651756839017262,-1.7094923425659596,-1.8276700990039156,-1.8849124497785505,-1.9227662623875834,-2.110188797988404,-2.3622397941412325,-2.3991703430280937,-2.9078886539446076],\"y\":[1.1459681005347757,1.291131340373806,1.2506760112383386,1.46485128313199,1.2720935384277037,1.900341002649081,1.2126004073461338,1.395839251077369,0.9889062344794313,1.050779090804264,1.2387773850220245,1.165005902480878,1.7099629831880576,1.222119308319185,1.131689749075199,1.360143372428427,1.0864749694532059,0.9627292568035406,1.1816639791837176,1.0769560684801547,1.0555385412907896,0.9508306305872266,0.4130127256098353,1.3982189763206316,1.0936141451829942,1.1578667267510896,1.7575574880533136,0.7342756334503124,0.946071180100701,0.48678420815098195,1.0079440364255337,-0.11528627839450478,1.0174629373985848,0.9365522791276498,0.7747309625857799,0.9103753014517592,0.7247567324772612,0.12268624593177455,-0.32470209980163056,0.61290964604391,0.9627292568035406,0.7652120616127287,0.33210206733890035,0.5724543169084425,-0.7268756659130426,0.33686151782542595,0.7009594800446333,0.8270849179375613,-0.34611962699099574,1.174524803453929,0.8032876655049335,0.4296708023126749,-0.45558698818108423,1.0103237616687963,-0.7125973144534659,0.8318443684240869,0.43205052755593765,0.6962000295581078,1.048399365561001,-0.33898045126120735,0.29640618868995844,0.01559860998494885,-0.2723481444498491,-0.8125457746705033,0.3606587702580539,0.09888899349914662,0.1369645973913513,-0.04151479585335819,0.30354536441974683,0.6628838761524286,-0.36753715418036087,0.23215360712186303,-0.003439191961153496,-0.03199589488030702,0.3868357479339446,-0.1390835308271327,-0.37705605515341206,0.175040201283556,0.9627292568035406,0.6533649751793774,1.3006502413468572,0.056053939120416334,-1.057657474726571,-1.0148224203478406,0.5105814605836099,0.15600239933745366,-0.06769177352924892,-0.7530526435889334,0.22501443139207467,0.0679525653367303,0.03463641193105119,0.11316734495872337,-1.4883877437571364,-0.8339633018598683,-0.4079924833158283,-0.11290655315124198,-1.8429668050032928,0.0013202585253720906,-1.0957330786187756,-0.48176396585697495,-1.9809908691125346,-1.0528980242400454,-1.136188407754243,-2.000028671058637,0.1345848721480885,0.11554707020198617,-0.2890062211526887,-3.3564720597184294,-1.3384650534315805,-0.0010594667178907028,-0.7102175892102031,0.7057189305311589,-1.5026660952167132,-0.9315320368336428,-1.138568132997506,-1.2170990660251781,-1.5074255457032388,-0.7887485222378753,-0.9005956086712266,-0.1438429813136583,-0.8601402795357591,-0.6245474804527426,-1.471729667054297,-0.2818670454229003,-0.32470209980163056,-0.8863172572116498,0.010839159498423264,-1.7620561467323577,-0.05341342206967215,-1.78109394867846,-1.4812485680273482,-1.712081916623839,-0.7387742921293566,-0.2057158376384909,-1.5217038971628156,-0.5793327008307495,-1.1433275834840315,-1.8144101020841392,-1.3384650534315805,-1.7239805428401531,-1.3598825806209456,0.22025498090554907,-1.4883877437571364,-1.102872254348564,-0.04389452109662098,-1.5526403253252319],\"z\":[1.2614137574219553,1.2076812411075912,1.483508158187993,1.1467843892846454,1.0751410341988268,0.8924504787299892,1.0679766986902448,1.1933525700904275,1.1288735505131906,1.1790238990732638,0.9282721562728985,1.064394530935954,0.9318543240271894,0.6524452391924966,1.0106620146215899,0.9891690080958443,0.849464465678498,1.268578092930537,0.7169242587697334,1.1217092150046089,0.4410973416893316,1.2291742476333367,0.5306515355466049,0.26557112172907593,0.6667739102096604,0.6775204134725332,0.7921497816098431,0.3587074833406402,1.0930518729702814,0.9820046725872624,0.5234872000380231,0.154523921346057,0.9426008272900622,1.0679766986902448,1.168277395810391,1.168277395810391,0.7205064265240244,0.4948298580036956,-0.26817187366027306,1.1252913827588997,0.011237211174419691,1.1288735505131906,0.6452809036839148,0.6237878971581692,0.4410973416893316,-0.07115264717427176,0.9927511758501353,0.9605116660615168,-0.4938484421806018,0.27631762499194873,1.1718595635646818,0.7527459363126427,0.6667739102096604,0.6560274069467876,-0.0747348149285627,0.6166235616495873,0.7025955877525697,0.26557112172907593,-0.07115264717427176,0.02198371443729249,0.6811025812268241,0.36587181884922204,0.49841202575798654,0.7276707620326063,0.899614814238571,0.08288056626023835,0.580801884106678,1.0429015244102082,0.3479609800777674,0.11512007604885674,-0.09264565370001736,0.1867634311346754,0.8028962848727158,-0.14637817001438136,0.41960433516358603,-0.09622782145430829,0.09362706952311114,1.479925990433702,-0.0639883116656899,0.6775204134725332,0.17243476011751166,-0.3075757189574733,0.35512531558634924,-0.4365337581119469,0.9211078207643166,0.1330309148203114,-0.08189915043714456,-1.6616351300794459,-0.15354250552296322,-0.9308729082040956,0.6524452391924966,0.6703560779639514,-1.0204271020613689,-1.0455022763414055,-0.9022155661697682,0.22974944418616658,-0.8449008821011132,0.6273700649124601,-1.7941753369882103,-2.284932319326068,-0.8807225596440226,-0.8377365465925314,-1.3464043677018438,-1.2389393350731157,-1.0526666118499872,-0.6013134748093298,-0.8019148690496221,0.22258510867758471,-1.2174463285473702,-0.590566971546457,-1.1135634636729332,-0.14637817001438136,-1.221028496301661,-0.6228064813350754,-3.015694541201418,-1.5398414264335543,-0.11055649247147202,-0.6228064813350754,-1.0777417861300238,-1.1099812959186421,-1.7655179949538828,0.18318126338038446,-1.5147662521535177,-0.10339215696289016,-0.429369422603365,-0.27533620916885493,0.10079140503169301,-0.9344550759583865,-0.6228064813350754,-1.4323763938048262,-0.3469795642546736,0.4912476902494047,-0.14637817001438136,-0.6514638233694029,-2.0914952605943578,-1.8980582018626475,-1.17804248325017,-2.245528474028868,-1.1063991281643513,-1.7547714916910102,-0.2072750218373272,-0.325486557728928,-2.768524966155344,-0.7732575270152946,-1.4610337358391536,-3.244953277476038],\"type\":\"scatter3d\"}],                        {\"template\":{\"data\":{\"histogram2dcontour\":[{\"type\":\"histogram2dcontour\",\"colorbar\":{\"outlinewidth\":0,\"ticks\":\"\"},\"colorscale\":[[0.0,\"#0d0887\"],[0.1111111111111111,\"#46039f\"],[0.2222222222222222,\"#7201a8\"],[0.3333333333333333,\"#9c179e\"],[0.4444444444444444,\"#bd3786\"],[0.5555555555555556,\"#d8576b\"],[0.6666666666666666,\"#ed7953\"],[0.7777777777777778,\"#fb9f3a\"],[0.8888888888888888,\"#fdca26\"],[1.0,\"#f0f921\"]]}],\"choropleth\":[{\"type\":\"choropleth\",\"colorbar\":{\"outlinewidth\":0,\"ticks\":\"\"}}],\"histogram2d\":[{\"type\":\"histogram2d\",\"colorbar\":{\"outlinewidth\":0,\"ticks\":\"\"},\"colorscale\":[[0.0,\"#0d0887\"],[0.1111111111111111,\"#46039f\"],[0.2222222222222222,\"#7201a8\"],[0.3333333333333333,\"#9c179e\"],[0.4444444444444444,\"#bd3786\"],[0.5555555555555556,\"#d8576b\"],[0.6666666666666666,\"#ed7953\"],[0.7777777777777778,\"#fb9f3a\"],[0.8888888888888888,\"#fdca26\"],[1.0,\"#f0f921\"]]}],\"heatmap\":[{\"type\":\"heatmap\",\"colorbar\":{\"outlinewidth\":0,\"ticks\":\"\"},\"colorscale\":[[0.0,\"#0d0887\"],[0.1111111111111111,\"#46039f\"],[0.2222222222222222,\"#7201a8\"],[0.3333333333333333,\"#9c179e\"],[0.4444444444444444,\"#bd3786\"],[0.5555555555555556,\"#d8576b\"],[0.6666666666666666,\"#ed7953\"],[0.7777777777777778,\"#fb9f3a\"],[0.8888888888888888,\"#fdca26\"],[1.0,\"#f0f921\"]]}],\"heatmapgl\":[{\"type\":\"heatmapgl\",\"colorbar\":{\"outlinewidth\":0,\"ticks\":\"\"},\"colorscale\":[[0.0,\"#0d0887\"],[0.1111111111111111,\"#46039f\"],[0.2222222222222222,\"#7201a8\"],[0.3333333333333333,\"#9c179e\"],[0.4444444444444444,\"#bd3786\"],[0.5555555555555556,\"#d8576b\"],[0.6666666666666666,\"#ed7953\"],[0.7777777777777778,\"#fb9f3a\"],[0.8888888888888888,\"#fdca26\"],[1.0,\"#f0f921\"]]}],\"contourcarpet\":[{\"type\":\"contourcarpet\",\"colorbar\":{\"outlinewidth\":0,\"ticks\":\"\"}}],\"contour\":[{\"type\":\"contour\",\"colorbar\":{\"outlinewidth\":0,\"ticks\":\"\"},\"colorscale\":[[0.0,\"#0d0887\"],[0.1111111111111111,\"#46039f\"],[0.2222222222222222,\"#7201a8\"],[0.3333333333333333,\"#9c179e\"],[0.4444444444444444,\"#bd3786\"],[0.5555555555555556,\"#d8576b\"],[0.6666666666666666,\"#ed7953\"],[0.7777777777777778,\"#fb9f3a\"],[0.8888888888888888,\"#fdca26\"],[1.0,\"#f0f921\"]]}],\"surface\":[{\"type\":\"surface\",\"colorbar\":{\"outlinewidth\":0,\"ticks\":\"\"},\"colorscale\":[[0.0,\"#0d0887\"],[0.1111111111111111,\"#46039f\"],[0.2222222222222222,\"#7201a8\"],[0.3333333333333333,\"#9c179e\"],[0.4444444444444444,\"#bd3786\"],[0.5555555555555556,\"#d8576b\"],[0.6666666666666666,\"#ed7953\"],[0.7777777777777778,\"#fb9f3a\"],[0.8888888888888888,\"#fdca26\"],[1.0,\"#f0f921\"]]}],\"mesh3d\":[{\"type\":\"mesh3d\",\"colorbar\":{\"outlinewidth\":0,\"ticks\":\"\"}}],\"scatter\":[{\"fillpattern\":{\"fillmode\":\"overlay\",\"size\":10,\"solidity\":0.2},\"type\":\"scatter\"}],\"parcoords\":[{\"type\":\"parcoords\",\"line\":{\"colorbar\":{\"outlinewidth\":0,\"ticks\":\"\"}}}],\"scatterpolargl\":[{\"type\":\"scatterpolargl\",\"marker\":{\"colorbar\":{\"outlinewidth\":0,\"ticks\":\"\"}}}],\"bar\":[{\"error_x\":{\"color\":\"#2a3f5f\"},\"error_y\":{\"color\":\"#2a3f5f\"},\"marker\":{\"line\":{\"color\":\"#E5ECF6\",\"width\":0.5},\"pattern\":{\"fillmode\":\"overlay\",\"size\":10,\"solidity\":0.2}},\"type\":\"bar\"}],\"scattergeo\":[{\"type\":\"scattergeo\",\"marker\":{\"colorbar\":{\"outlinewidth\":0,\"ticks\":\"\"}}}],\"scatterpolar\":[{\"type\":\"scatterpolar\",\"marker\":{\"colorbar\":{\"outlinewidth\":0,\"ticks\":\"\"}}}],\"histogram\":[{\"marker\":{\"pattern\":{\"fillmode\":\"overlay\",\"size\":10,\"solidity\":0.2}},\"type\":\"histogram\"}],\"scattergl\":[{\"type\":\"scattergl\",\"marker\":{\"colorbar\":{\"outlinewidth\":0,\"ticks\":\"\"}}}],\"scatter3d\":[{\"type\":\"scatter3d\",\"line\":{\"colorbar\":{\"outlinewidth\":0,\"ticks\":\"\"}},\"marker\":{\"colorbar\":{\"outlinewidth\":0,\"ticks\":\"\"}}}],\"scattermapbox\":[{\"type\":\"scattermapbox\",\"marker\":{\"colorbar\":{\"outlinewidth\":0,\"ticks\":\"\"}}}],\"scatterternary\":[{\"type\":\"scatterternary\",\"marker\":{\"colorbar\":{\"outlinewidth\":0,\"ticks\":\"\"}}}],\"scattercarpet\":[{\"type\":\"scattercarpet\",\"marker\":{\"colorbar\":{\"outlinewidth\":0,\"ticks\":\"\"}}}],\"carpet\":[{\"aaxis\":{\"endlinecolor\":\"#2a3f5f\",\"gridcolor\":\"white\",\"linecolor\":\"white\",\"minorgridcolor\":\"white\",\"startlinecolor\":\"#2a3f5f\"},\"baxis\":{\"endlinecolor\":\"#2a3f5f\",\"gridcolor\":\"white\",\"linecolor\":\"white\",\"minorgridcolor\":\"white\",\"startlinecolor\":\"#2a3f5f\"},\"type\":\"carpet\"}],\"table\":[{\"cells\":{\"fill\":{\"color\":\"#EBF0F8\"},\"line\":{\"color\":\"white\"}},\"header\":{\"fill\":{\"color\":\"#C8D4E3\"},\"line\":{\"color\":\"white\"}},\"type\":\"table\"}],\"barpolar\":[{\"marker\":{\"line\":{\"color\":\"#E5ECF6\",\"width\":0.5},\"pattern\":{\"fillmode\":\"overlay\",\"size\":10,\"solidity\":0.2}},\"type\":\"barpolar\"}],\"pie\":[{\"automargin\":true,\"type\":\"pie\"}]},\"layout\":{\"autotypenumbers\":\"strict\",\"colorway\":[\"#636efa\",\"#EF553B\",\"#00cc96\",\"#ab63fa\",\"#FFA15A\",\"#19d3f3\",\"#FF6692\",\"#B6E880\",\"#FF97FF\",\"#FECB52\"],\"font\":{\"color\":\"#2a3f5f\"},\"hovermode\":\"closest\",\"hoverlabel\":{\"align\":\"left\"},\"paper_bgcolor\":\"white\",\"plot_bgcolor\":\"#E5ECF6\",\"polar\":{\"bgcolor\":\"#E5ECF6\",\"angularaxis\":{\"gridcolor\":\"white\",\"linecolor\":\"white\",\"ticks\":\"\"},\"radialaxis\":{\"gridcolor\":\"white\",\"linecolor\":\"white\",\"ticks\":\"\"}},\"ternary\":{\"bgcolor\":\"#E5ECF6\",\"aaxis\":{\"gridcolor\":\"white\",\"linecolor\":\"white\",\"ticks\":\"\"},\"baxis\":{\"gridcolor\":\"white\",\"linecolor\":\"white\",\"ticks\":\"\"},\"caxis\":{\"gridcolor\":\"white\",\"linecolor\":\"white\",\"ticks\":\"\"}},\"coloraxis\":{\"colorbar\":{\"outlinewidth\":0,\"ticks\":\"\"}},\"colorscale\":{\"sequential\":[[0.0,\"#0d0887\"],[0.1111111111111111,\"#46039f\"],[0.2222222222222222,\"#7201a8\"],[0.3333333333333333,\"#9c179e\"],[0.4444444444444444,\"#bd3786\"],[0.5555555555555556,\"#d8576b\"],[0.6666666666666666,\"#ed7953\"],[0.7777777777777778,\"#fb9f3a\"],[0.8888888888888888,\"#fdca26\"],[1.0,\"#f0f921\"]],\"sequentialminus\":[[0.0,\"#0d0887\"],[0.1111111111111111,\"#46039f\"],[0.2222222222222222,\"#7201a8\"],[0.3333333333333333,\"#9c179e\"],[0.4444444444444444,\"#bd3786\"],[0.5555555555555556,\"#d8576b\"],[0.6666666666666666,\"#ed7953\"],[0.7777777777777778,\"#fb9f3a\"],[0.8888888888888888,\"#fdca26\"],[1.0,\"#f0f921\"]],\"diverging\":[[0,\"#8e0152\"],[0.1,\"#c51b7d\"],[0.2,\"#de77ae\"],[0.3,\"#f1b6da\"],[0.4,\"#fde0ef\"],[0.5,\"#f7f7f7\"],[0.6,\"#e6f5d0\"],[0.7,\"#b8e186\"],[0.8,\"#7fbc41\"],[0.9,\"#4d9221\"],[1,\"#276419\"]]},\"xaxis\":{\"gridcolor\":\"white\",\"linecolor\":\"white\",\"ticks\":\"\",\"title\":{\"standoff\":15},\"zerolinecolor\":\"white\",\"automargin\":true,\"zerolinewidth\":2},\"yaxis\":{\"gridcolor\":\"white\",\"linecolor\":\"white\",\"ticks\":\"\",\"title\":{\"standoff\":15},\"zerolinecolor\":\"white\",\"automargin\":true,\"zerolinewidth\":2},\"scene\":{\"xaxis\":{\"backgroundcolor\":\"#E5ECF6\",\"gridcolor\":\"white\",\"linecolor\":\"white\",\"showbackground\":true,\"ticks\":\"\",\"zerolinecolor\":\"white\",\"gridwidth\":2},\"yaxis\":{\"backgroundcolor\":\"#E5ECF6\",\"gridcolor\":\"white\",\"linecolor\":\"white\",\"showbackground\":true,\"ticks\":\"\",\"zerolinecolor\":\"white\",\"gridwidth\":2},\"zaxis\":{\"backgroundcolor\":\"#E5ECF6\",\"gridcolor\":\"white\",\"linecolor\":\"white\",\"showbackground\":true,\"ticks\":\"\",\"zerolinecolor\":\"white\",\"gridwidth\":2}},\"shapedefaults\":{\"line\":{\"color\":\"#2a3f5f\"}},\"annotationdefaults\":{\"arrowcolor\":\"#2a3f5f\",\"arrowhead\":0,\"arrowwidth\":1},\"geo\":{\"bgcolor\":\"white\",\"landcolor\":\"#E5ECF6\",\"subunitcolor\":\"white\",\"showland\":true,\"showlakes\":true,\"lakecolor\":\"white\"},\"title\":{\"x\":0.05},\"mapbox\":{\"style\":\"light\"}}},\"scene\":{\"domain\":{\"x\":[0.0,1.0],\"y\":[0.0,1.0]},\"xaxis\":{\"title\":{\"text\":\"Happiness score\"}},\"yaxis\":{\"title\":{\"text\":\"Explained by: GDP per capita\"}},\"zaxis\":{\"title\":{\"text\":\"Explained by: Social support\"}}},\"coloraxis\":{\"colorbar\":{\"title\":{\"text\":\"cluster\"}},\"colorscale\":[[0.0,\"#0d0887\"],[0.1111111111111111,\"#46039f\"],[0.2222222222222222,\"#7201a8\"],[0.3333333333333333,\"#9c179e\"],[0.4444444444444444,\"#bd3786\"],[0.5555555555555556,\"#d8576b\"],[0.6666666666666666,\"#ed7953\"],[0.7777777777777778,\"#fb9f3a\"],[0.8888888888888888,\"#fdca26\"],[1.0,\"#f0f921\"]]},\"legend\":{\"tracegroupgap\":0},\"margin\":{\"t\":60}},                        {\"responsive\": true}                    ).then(function(){\n",
       "                            \n",
       "var gd = document.getElementById('42381aa4-a5ae-4f45-a7fa-9ff905b25786');\n",
       "var x = new MutationObserver(function (mutations, observer) {{\n",
       "        var display = window.getComputedStyle(gd).display;\n",
       "        if (!display || display === 'none') {{\n",
       "            console.log([gd, 'removed!']);\n",
       "            Plotly.purge(gd);\n",
       "            observer.disconnect();\n",
       "        }}\n",
       "}});\n",
       "\n",
       "// Listen for the removal of the full notebook cells\n",
       "var notebookContainer = gd.closest('#notebook-container');\n",
       "if (notebookContainer) {{\n",
       "    x.observe(notebookContainer, {childList: true});\n",
       "}}\n",
       "\n",
       "// Listen for the clearing of the current output cell\n",
       "var outputEl = gd.closest('.output');\n",
       "if (outputEl) {{\n",
       "    x.observe(outputEl, {childList: true});\n",
       "}}\n",
       "\n",
       "                        })                };                });            </script>        </div>"
      ]
     },
     "metadata": {},
     "output_type": "display_data"
    }
   ],
   "source": [
    "df['cluster'] = optics.labels_\n",
    "fig = px.scatter_3d(df, x='Happiness score',y = 'Explained by: GDP per capita', z='Explained by: Social support', color = 'cluster')\n",
    "fig.show()"
   ]
  },
  {
   "cell_type": "code",
   "execution_count": null,
   "id": "3f9690fd",
   "metadata": {},
   "outputs": [],
   "source": []
  }
 ],
 "metadata": {
  "kernelspec": {
   "display_name": "Python 3 (ipykernel)",
   "language": "python",
   "name": "python3"
  },
  "language_info": {
   "codemirror_mode": {
    "name": "ipython",
    "version": 3
   },
   "file_extension": ".py",
   "mimetype": "text/x-python",
   "name": "python",
   "nbconvert_exporter": "python",
   "pygments_lexer": "ipython3",
   "version": "3.9.15"
  }
 },
 "nbformat": 4,
 "nbformat_minor": 5
}
